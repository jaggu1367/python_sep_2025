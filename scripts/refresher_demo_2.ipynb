{
 "cells": [
  {
   "cell_type": "code",
   "execution_count": 1,
   "id": "e3e8160a-9e7b-4cba-b9db-6692648de2dc",
   "metadata": {},
   "outputs": [
    {
     "data": {
      "text/plain": [
       "3"
      ]
     },
     "execution_count": 1,
     "metadata": {},
     "output_type": "execute_result"
    }
   ],
   "source": [
    " 1 + 2"
   ]
  },
  {
   "cell_type": "code",
   "execution_count": 2,
   "id": "39222743-5e88-4e44-96e4-2e6858de6061",
   "metadata": {},
   "outputs": [
    {
     "data": {
      "text/plain": [
       "300"
      ]
     },
     "execution_count": 2,
     "metadata": {},
     "output_type": "execute_result"
    }
   ],
   "source": [
    "100 + 200 "
   ]
  },
  {
   "cell_type": "code",
   "execution_count": 22,
   "id": "74b1ff43-b304-46ff-9a7a-b4fb213baf1b",
   "metadata": {},
   "outputs": [],
   "source": [
    "# defining a method, no return value\n",
    "def add(a, b):\n",
    "    c = a+b\n",
    "    print(c)"
   ]
  },
  {
   "cell_type": "code",
   "execution_count": 15,
   "id": "c4f3be81-e953-4bc4-96d0-d8ebd6164cc9",
   "metadata": {},
   "outputs": [
    {
     "name": "stdout",
     "output_type": "stream",
     "text": [
      "300\n"
     ]
    }
   ],
   "source": [
    "# call the add method\n",
    "add(100, 200)"
   ]
  },
  {
   "cell_type": "code",
   "execution_count": 18,
   "id": "2098ed14-3e34-4ca5-9505-01d3d8257406",
   "metadata": {},
   "outputs": [
    {
     "name": "stdout",
     "output_type": "stream",
     "text": [
      "30\n"
     ]
    }
   ],
   "source": [
    "# call/invocation/invoking the add method ,using named invocation\n",
    "add(a=10, b=20)"
   ]
  },
  {
   "cell_type": "code",
   "execution_count": 20,
   "id": "3c66e717-3311-4c56-b300-ae0a3ed9d640",
   "metadata": {},
   "outputs": [
    {
     "name": "stdout",
     "output_type": "stream",
     "text": [
      "30\n"
     ]
    }
   ],
   "source": [
    "add(b=20, a=10)"
   ]
  },
  {
   "cell_type": "code",
   "execution_count": 40,
   "id": "9363077f-4c9f-4a06-9b26-da9515967ffa",
   "metadata": {},
   "outputs": [],
   "source": [
    "def add(a,b):\n",
    "    c = a + b\n",
    "    return c"
   ]
  },
  {
   "cell_type": "code",
   "execution_count": 41,
   "id": "abd365e1-67bc-498d-96dc-4b7b88dd7f3b",
   "metadata": {},
   "outputs": [],
   "source": [
    "res = add(1000, 2000)"
   ]
  },
  {
   "cell_type": "code",
   "execution_count": 42,
   "id": "88531f75-6841-4bc8-a3d0-568767492e6c",
   "metadata": {},
   "outputs": [
    {
     "name": "stdout",
     "output_type": "stream",
     "text": [
      "3000\n"
     ]
    }
   ],
   "source": [
    "print(res)"
   ]
  },
  {
   "cell_type": "code",
   "execution_count": 60,
   "id": "c200c823-9b4c-4e17-91c2-6e91e9ea9c90",
   "metadata": {},
   "outputs": [],
   "source": [
    "def dollar_to_rupee(usd_currency, conversion_rate):\n",
    "    inr_currency = usd_currency * conversion_rate\n",
    "    print(inr_currency)"
   ]
  },
  {
   "cell_type": "code",
   "execution_count": 61,
   "id": "674ff8ea-a4ac-4438-986b-0b1d8556d1dc",
   "metadata": {},
   "outputs": [
    {
     "name": "stdout",
     "output_type": "stream",
     "text": [
      "88.81\n"
     ]
    }
   ],
   "source": [
    "dollar_to_rupee(1, 88.81)"
   ]
  },
  {
   "cell_type": "code",
   "execution_count": 62,
   "id": "4f5cb2ed-4cbe-4e0b-b3c6-3e4e1c7cc640",
   "metadata": {},
   "outputs": [
    {
     "name": "stdout",
     "output_type": "stream",
     "text": [
      "900\n"
     ]
    }
   ],
   "source": [
    "dollar_to_rupee(10, 90)"
   ]
  },
  {
   "cell_type": "code",
   "execution_count": 63,
   "id": "8b1d82a0-6cc2-4bd4-b179-59269265da96",
   "metadata": {},
   "outputs": [],
   "source": [
    "def dollar_to_rupee(usd_currency, conversion_rate=88.81):\n",
    "    inr_currency = usd_currency * conversion_rate\n",
    "    print(inr_currency)"
   ]
  },
  {
   "cell_type": "code",
   "execution_count": 59,
   "id": "2d9855f4-a657-487c-a73d-9dd0ea300e73",
   "metadata": {},
   "outputs": [
    {
     "name": "stdout",
     "output_type": "stream",
     "text": [
      "888.1\n"
     ]
    }
   ],
   "source": [
    "dollar_to_rupee(10)"
   ]
  },
  {
   "cell_type": "code",
   "execution_count": 64,
   "id": "6fdaf886-7459-43dc-a85f-6718767f33c5",
   "metadata": {},
   "outputs": [
    {
     "name": "stdout",
     "output_type": "stream",
     "text": [
      "900\n"
     ]
    }
   ],
   "source": [
    "dollar_to_rupee(10, 90)"
   ]
  },
  {
   "cell_type": "code",
   "execution_count": 69,
   "id": "ffc37572-ebaf-4b9d-9855-dc9fc653630c",
   "metadata": {},
   "outputs": [],
   "source": [
    "def dollar_to_rupee(usd_currency):\n",
    "    conversion_rate = 88.81\n",
    "    inr_currency = usd_currency * conversion_rate\n",
    "    return inr_currency"
   ]
  },
  {
   "cell_type": "code",
   "execution_count": 70,
   "id": "04fcf677-0cb3-4fd5-89dd-fa41c8265952",
   "metadata": {},
   "outputs": [],
   "source": [
    "inr_value = dollar_to_rupee(10)"
   ]
  },
  {
   "cell_type": "code",
   "execution_count": 71,
   "id": "519293ef-5716-4bca-9a30-79b2526cc35e",
   "metadata": {},
   "outputs": [
    {
     "name": "stdout",
     "output_type": "stream",
     "text": [
      "888.1\n"
     ]
    }
   ],
   "source": [
    "print(inr_value)"
   ]
  },
  {
   "cell_type": "code",
   "execution_count": 72,
   "id": "fe9dae63-b99f-47d0-978c-6c3653b575aa",
   "metadata": {},
   "outputs": [],
   "source": [
    "msg = \"Hi Geeta, I have called you 10 times\""
   ]
  },
  {
   "cell_type": "code",
   "execution_count": 73,
   "id": "ef119b1d-3a75-4e61-b1c8-1d83f28e2cad",
   "metadata": {},
   "outputs": [
    {
     "name": "stdout",
     "output_type": "stream",
     "text": [
      "Hi Geeta, I have called you 10 times\n"
     ]
    }
   ],
   "source": [
    "print(msg)"
   ]
  },
  {
   "cell_type": "code",
   "execution_count": 76,
   "id": "ad554b27-7e5d-476c-a9f6-bb790a051c5b",
   "metadata": {},
   "outputs": [],
   "source": [
    "n = 10 "
   ]
  },
  {
   "cell_type": "code",
   "execution_count": 89,
   "id": "20106e50-4f4d-4c02-bde1-5dcbe1891171",
   "metadata": {},
   "outputs": [],
   "source": [
    "msg = f\"Hi Geeta, I have called you {n} times\""
   ]
  },
  {
   "cell_type": "code",
   "execution_count": 90,
   "id": "97064741-a089-4515-85dd-a5fc90b93a9e",
   "metadata": {},
   "outputs": [
    {
     "name": "stdout",
     "output_type": "stream",
     "text": [
      "Hi Geeta, I have called you 10 times\n"
     ]
    }
   ],
   "source": [
    "print(msg)"
   ]
  },
  {
   "cell_type": "code",
   "execution_count": 98,
   "id": "ae56e274-77b1-4fc5-8fa5-b8bf03323283",
   "metadata": {},
   "outputs": [],
   "source": [
    "a = [1, 2, 3, 4, 5]"
   ]
  },
  {
   "cell_type": "code",
   "execution_count": 99,
   "id": "f61508c3-911b-4571-b919-06c0a49c2bed",
   "metadata": {},
   "outputs": [
    {
     "data": {
      "text/plain": [
       "5"
      ]
     },
     "execution_count": 99,
     "metadata": {},
     "output_type": "execute_result"
    }
   ],
   "source": [
    "len(a)"
   ]
  },
  {
   "cell_type": "code",
   "execution_count": 100,
   "id": "84ec7112-8b3a-4c40-998a-3e32a6847035",
   "metadata": {},
   "outputs": [
    {
     "data": {
      "text/plain": [
       "1"
      ]
     },
     "execution_count": 100,
     "metadata": {},
     "output_type": "execute_result"
    }
   ],
   "source": [
    "a[0]"
   ]
  },
  {
   "cell_type": "code",
   "execution_count": 101,
   "id": "e546f15a-d94d-4116-9651-56c3f9e90320",
   "metadata": {},
   "outputs": [
    {
     "data": {
      "text/plain": [
       "2"
      ]
     },
     "execution_count": 101,
     "metadata": {},
     "output_type": "execute_result"
    }
   ],
   "source": [
    "a[1]"
   ]
  },
  {
   "cell_type": "code",
   "execution_count": 102,
   "id": "64eba9d1-7f0e-4861-b1c8-705dee63f687",
   "metadata": {},
   "outputs": [
    {
     "data": {
      "text/plain": [
       "5"
      ]
     },
     "execution_count": 102,
     "metadata": {},
     "output_type": "execute_result"
    }
   ],
   "source": [
    "a[-1]"
   ]
  },
  {
   "cell_type": "code",
   "execution_count": 103,
   "id": "6f6fbe9a-4591-4b3d-9ba9-535e1d89f5ba",
   "metadata": {},
   "outputs": [
    {
     "ename": "IndexError",
     "evalue": "list index out of range",
     "output_type": "error",
     "traceback": [
      "\u001b[31m---------------------------------------------------------------------------\u001b[39m",
      "\u001b[31mIndexError\u001b[39m                                Traceback (most recent call last)",
      "\u001b[36mCell\u001b[39m\u001b[36m \u001b[39m\u001b[32mIn[103]\u001b[39m\u001b[32m, line 1\u001b[39m\n\u001b[32m----> \u001b[39m\u001b[32m1\u001b[39m \u001b[43ma\u001b[49m\u001b[43m[\u001b[49m\u001b[32;43m10\u001b[39;49m\u001b[43m]\u001b[49m\n",
      "\u001b[31mIndexError\u001b[39m: list index out of range"
     ]
    }
   ],
   "source": [
    "a[10]"
   ]
  },
  {
   "cell_type": "code",
   "execution_count": 104,
   "id": "6148e903-5966-4e93-80f6-b064d5c0c961",
   "metadata": {},
   "outputs": [
    {
     "data": {
      "text/plain": [
       "[1, 2, 3, 4, 5]"
      ]
     },
     "execution_count": 104,
     "metadata": {},
     "output_type": "execute_result"
    }
   ],
   "source": [
    "a"
   ]
  },
  {
   "cell_type": "code",
   "execution_count": 105,
   "id": "d968dd47-e518-47d7-9df4-b42257706300",
   "metadata": {},
   "outputs": [],
   "source": [
    "a.append(6)"
   ]
  },
  {
   "cell_type": "code",
   "execution_count": 106,
   "id": "47cab0dd-ef90-4265-835c-387ecbbfd1ee",
   "metadata": {},
   "outputs": [
    {
     "data": {
      "text/plain": [
       "[1, 2, 3, 4, 5, 6]"
      ]
     },
     "execution_count": 106,
     "metadata": {},
     "output_type": "execute_result"
    }
   ],
   "source": [
    "a"
   ]
  },
  {
   "cell_type": "code",
   "execution_count": 107,
   "id": "9eb83517-82e6-46d7-a5b1-6cbed89eda2f",
   "metadata": {},
   "outputs": [
    {
     "data": {
      "text/plain": [
       "4"
      ]
     },
     "execution_count": 107,
     "metadata": {},
     "output_type": "execute_result"
    }
   ],
   "source": [
    "a.index(5)"
   ]
  },
  {
   "cell_type": "code",
   "execution_count": 108,
   "id": "cf7c93bc-f9e3-4c57-851b-6de46d612a39",
   "metadata": {},
   "outputs": [
    {
     "data": {
      "text/plain": [
       "6"
      ]
     },
     "execution_count": 108,
     "metadata": {},
     "output_type": "execute_result"
    }
   ],
   "source": [
    "a.pop()"
   ]
  },
  {
   "cell_type": "code",
   "execution_count": 111,
   "id": "ca297d7b-2cc4-417d-bb7a-80f41b96250b",
   "metadata": {},
   "outputs": [],
   "source": [
    "a = [10, 20, 30, 40, 50]"
   ]
  },
  {
   "cell_type": "code",
   "execution_count": 112,
   "id": "39b906cf-e7ab-43ba-8ed1-f6e3d06d052f",
   "metadata": {},
   "outputs": [
    {
     "data": {
      "text/plain": [
       "40"
      ]
     },
     "execution_count": 112,
     "metadata": {},
     "output_type": "execute_result"
    }
   ],
   "source": [
    "a.pop(3)"
   ]
  },
  {
   "cell_type": "code",
   "execution_count": 114,
   "id": "37438ddc-d75d-4d37-9bce-69071e533251",
   "metadata": {},
   "outputs": [
    {
     "data": {
      "text/plain": [
       "10"
      ]
     },
     "execution_count": 114,
     "metadata": {},
     "output_type": "execute_result"
    }
   ],
   "source": [
    "a.pop(0)"
   ]
  },
  {
   "cell_type": "code",
   "execution_count": 115,
   "id": "4b138174-67f8-48c9-a579-1b231ffe3b6e",
   "metadata": {},
   "outputs": [
    {
     "data": {
      "text/plain": [
       "[20, 30, 50]"
      ]
     },
     "execution_count": 115,
     "metadata": {},
     "output_type": "execute_result"
    }
   ],
   "source": [
    "a"
   ]
  },
  {
   "cell_type": "code",
   "execution_count": 116,
   "id": "95a2aa4b-41c2-4a61-88d4-c539c503ec5c",
   "metadata": {},
   "outputs": [],
   "source": [
    "a = [10, 20, 30]\n",
    "b = [40, 50, 60]"
   ]
  },
  {
   "cell_type": "code",
   "execution_count": 117,
   "id": "ffe26b28-1d92-4be1-b72e-64d087e8548f",
   "metadata": {},
   "outputs": [],
   "source": [
    "c = a+b"
   ]
  },
  {
   "cell_type": "code",
   "execution_count": 118,
   "id": "bd757a93-86f8-4ea0-9f4f-71108e219fde",
   "metadata": {},
   "outputs": [
    {
     "data": {
      "text/plain": [
       "[10, 20, 30, 40, 50, 60]"
      ]
     },
     "execution_count": 118,
     "metadata": {},
     "output_type": "execute_result"
    }
   ],
   "source": [
    "c"
   ]
  },
  {
   "cell_type": "code",
   "execution_count": 119,
   "id": "7a6038b9-7c7d-4c6e-8908-469ff76aab7a",
   "metadata": {},
   "outputs": [],
   "source": [
    "c.append(70)"
   ]
  },
  {
   "cell_type": "code",
   "execution_count": 120,
   "id": "ee95f951-e063-43cc-9bf2-7c456d3f99ab",
   "metadata": {},
   "outputs": [
    {
     "data": {
      "text/plain": [
       "[10, 20, 30, 40, 50, 60, 70]"
      ]
     },
     "execution_count": 120,
     "metadata": {},
     "output_type": "execute_result"
    }
   ],
   "source": [
    "c"
   ]
  },
  {
   "cell_type": "code",
   "execution_count": 123,
   "id": "7a01f067-b3eb-48c2-a3b3-dfdc54d32c06",
   "metadata": {},
   "outputs": [],
   "source": [
    "c.sort(reverse=True)"
   ]
  },
  {
   "cell_type": "code",
   "execution_count": 124,
   "id": "0c6b3d34-2a0f-4161-9fbd-1a9110879c43",
   "metadata": {},
   "outputs": [
    {
     "data": {
      "text/plain": [
       "[70, 60, 50, 40, 30, 20, 10]"
      ]
     },
     "execution_count": 124,
     "metadata": {},
     "output_type": "execute_result"
    }
   ],
   "source": [
    "c"
   ]
  },
  {
   "cell_type": "code",
   "execution_count": 125,
   "id": "76f74420-e0ad-4092-b415-e34e80d61b6e",
   "metadata": {},
   "outputs": [],
   "source": [
    "d = [34, 45, 21, 89, 99, 27]"
   ]
  },
  {
   "cell_type": "code",
   "execution_count": 126,
   "id": "3982876c-5415-40c2-8a3f-de88ab2ccef1",
   "metadata": {},
   "outputs": [
    {
     "name": "stdout",
     "output_type": "stream",
     "text": [
      "[21, 27, 34, 45, 89, 99]\n"
     ]
    }
   ],
   "source": [
    "d.sort()\n",
    "print(d)"
   ]
  },
  {
   "cell_type": "code",
   "execution_count": 127,
   "id": "d71af4a3-b6cb-4afc-b3f9-416507796613",
   "metadata": {},
   "outputs": [
    {
     "name": "stdout",
     "output_type": "stream",
     "text": [
      "[99, 89, 45, 34, 27, 21]\n"
     ]
    }
   ],
   "source": [
    "d.sort(reverse=True)\n",
    "print(d)"
   ]
  },
  {
   "cell_type": "code",
   "execution_count": 128,
   "id": "5dfb73e2-6274-42cd-8088-5db93df115d8",
   "metadata": {},
   "outputs": [],
   "source": [
    "e = [34, 45, 21, 89, 99, 27]"
   ]
  },
  {
   "cell_type": "code",
   "execution_count": 129,
   "id": "5ab6a3bd-918a-4112-a36c-e9c761142c8b",
   "metadata": {},
   "outputs": [],
   "source": [
    "e.reverse()"
   ]
  },
  {
   "cell_type": "code",
   "execution_count": 130,
   "id": "2ef479c6-1e0a-4bf7-9f19-b967e199b96b",
   "metadata": {},
   "outputs": [
    {
     "data": {
      "text/plain": [
       "[27, 99, 89, 21, 45, 34]"
      ]
     },
     "execution_count": 130,
     "metadata": {},
     "output_type": "execute_result"
    }
   ],
   "source": [
    "e"
   ]
  },
  {
   "cell_type": "code",
   "execution_count": 131,
   "id": "8fb502b1-538f-43f3-acff-9c1b9115af6e",
   "metadata": {},
   "outputs": [],
   "source": [
    "f = e.copy()"
   ]
  },
  {
   "cell_type": "code",
   "execution_count": 132,
   "id": "566e5053-1f1b-4514-bc4a-fd05cee55db8",
   "metadata": {},
   "outputs": [
    {
     "data": {
      "text/plain": [
       "[27, 99, 89, 21, 45, 34]"
      ]
     },
     "execution_count": 132,
     "metadata": {},
     "output_type": "execute_result"
    }
   ],
   "source": [
    "f"
   ]
  },
  {
   "cell_type": "code",
   "execution_count": 133,
   "id": "9a3a6f1c-e0c4-421e-8fd6-3c9fcc87957e",
   "metadata": {},
   "outputs": [],
   "source": [
    "f.clear()"
   ]
  },
  {
   "cell_type": "code",
   "execution_count": 134,
   "id": "4c94cff6-205d-433d-b8a8-e1ed4c65e7b4",
   "metadata": {},
   "outputs": [
    {
     "data": {
      "text/plain": [
       "[]"
      ]
     },
     "execution_count": 134,
     "metadata": {},
     "output_type": "execute_result"
    }
   ],
   "source": [
    "f"
   ]
  },
  {
   "cell_type": "code",
   "execution_count": 135,
   "id": "3ede493a-f53d-43f7-b628-74333b19e851",
   "metadata": {},
   "outputs": [
    {
     "data": {
      "text/plain": [
       "[27, 99, 89, 21, 45, 34]"
      ]
     },
     "execution_count": 135,
     "metadata": {},
     "output_type": "execute_result"
    }
   ],
   "source": [
    "e"
   ]
  },
  {
   "cell_type": "code",
   "execution_count": 138,
   "id": "c5aca738-075e-44a2-9be6-b8f350eb5c9d",
   "metadata": {},
   "outputs": [
    {
     "name": "stdout",
     "output_type": "stream",
     "text": [
      "21 is available\n"
     ]
    }
   ],
   "source": [
    "n = 21\n",
    "if n in e:\n",
    "    print(f\"{n} is available\")\n",
    "else:\n",
    "    print(f\"{n} is not available\")"
   ]
  },
  {
   "cell_type": "code",
   "execution_count": 139,
   "id": "55b841c9-ed90-4f5d-a164-b1a52f3e2cee",
   "metadata": {},
   "outputs": [],
   "source": [
    "def is_available(l, n):\n",
    "    if n in l:\n",
    "        print(f\"{n} is available\")\n",
    "    else:\n",
    "        print(f\"{n} is not available\")"
   ]
  },
  {
   "cell_type": "code",
   "execution_count": 140,
   "id": "c1269931-479d-4218-9c3f-0a4600f0bb69",
   "metadata": {},
   "outputs": [
    {
     "name": "stdout",
     "output_type": "stream",
     "text": [
      "100 is not available\n"
     ]
    }
   ],
   "source": [
    "is_available(e, 100)"
   ]
  },
  {
   "cell_type": "code",
   "execution_count": 141,
   "id": "204b5d6b-eecf-460a-b27e-f3cb4dd13a91",
   "metadata": {},
   "outputs": [
    {
     "data": {
      "text/plain": [
       "[27, 99, 89, 21, 45, 34]"
      ]
     },
     "execution_count": 141,
     "metadata": {},
     "output_type": "execute_result"
    }
   ],
   "source": [
    "e"
   ]
  },
  {
   "cell_type": "code",
   "execution_count": 142,
   "id": "43693311-ae61-4e3b-819b-cf5901d67b5f",
   "metadata": {},
   "outputs": [
    {
     "name": "stdout",
     "output_type": "stream",
     "text": [
      "45 is available\n"
     ]
    }
   ],
   "source": [
    "is_available(e, 45)"
   ]
  },
  {
   "cell_type": "code",
   "execution_count": 159,
   "id": "c40b5266-eea7-4406-bae4-dea19202601a",
   "metadata": {},
   "outputs": [],
   "source": [
    "e.append(100)"
   ]
  },
  {
   "cell_type": "code",
   "execution_count": 148,
   "id": "64a6675b-a0e4-4be0-b28d-1c95792de308",
   "metadata": {},
   "outputs": [
    {
     "data": {
      "text/plain": [
       "5"
      ]
     },
     "execution_count": 148,
     "metadata": {},
     "output_type": "execute_result"
    }
   ],
   "source": [
    "e.count(100)"
   ]
  },
  {
   "cell_type": "code",
   "execution_count": 149,
   "id": "9ad58a47-84d6-4962-8064-6f8d980f5a3c",
   "metadata": {},
   "outputs": [
    {
     "data": {
      "text/plain": [
       "[27, 99, 89, 21, 45, 34, 100, 100, 100, 100, 100]"
      ]
     },
     "execution_count": 149,
     "metadata": {},
     "output_type": "execute_result"
    }
   ],
   "source": [
    "e"
   ]
  },
  {
   "cell_type": "code",
   "execution_count": 150,
   "id": "e20827e1-1556-4417-817c-1f95c43bd42e",
   "metadata": {},
   "outputs": [],
   "source": [
    "e.remove(100)"
   ]
  },
  {
   "cell_type": "code",
   "execution_count": 152,
   "id": "da1a46c0-282f-47d0-82b7-f5c5f95b29ab",
   "metadata": {},
   "outputs": [],
   "source": [
    "e.remove(100)"
   ]
  },
  {
   "cell_type": "code",
   "execution_count": 160,
   "id": "79ec16b4-ceeb-4a89-8977-e776d75f765e",
   "metadata": {},
   "outputs": [
    {
     "data": {
      "text/plain": [
       "[27, 99, 89, 21, 45, 34, 100, 100, 100, 100, 100, 100, 100, 100, 100]"
      ]
     },
     "execution_count": 160,
     "metadata": {},
     "output_type": "execute_result"
    }
   ],
   "source": [
    "e"
   ]
  },
  {
   "cell_type": "code",
   "execution_count": 161,
   "id": "491d2f0f-6b17-45a5-85ba-cb75bd844bbf",
   "metadata": {},
   "outputs": [],
   "source": [
    "while e.count(100)>1:\n",
    "    e.remove(100)"
   ]
  },
  {
   "cell_type": "code",
   "execution_count": 162,
   "id": "8c788893-1398-4541-ae0e-e5c3f7efa8ac",
   "metadata": {},
   "outputs": [
    {
     "data": {
      "text/plain": [
       "[27, 99, 89, 21, 45, 34, 100]"
      ]
     },
     "execution_count": 162,
     "metadata": {},
     "output_type": "execute_result"
    }
   ],
   "source": [
    "e"
   ]
  },
  {
   "cell_type": "code",
   "execution_count": 163,
   "id": "0e0d4638-be4f-48b2-a898-77d277e3a772",
   "metadata": {},
   "outputs": [],
   "source": [
    "e[1] = 91"
   ]
  },
  {
   "cell_type": "code",
   "execution_count": 164,
   "id": "a1585c74-f222-4a85-aa91-380b3c1ff93d",
   "metadata": {},
   "outputs": [
    {
     "data": {
      "text/plain": [
       "[27, 91, 89, 21, 45, 34, 100]"
      ]
     },
     "execution_count": 164,
     "metadata": {},
     "output_type": "execute_result"
    }
   ],
   "source": [
    "e"
   ]
  },
  {
   "cell_type": "code",
   "execution_count": 166,
   "id": "7834157d-3479-437e-b5e7-140f24a509fa",
   "metadata": {},
   "outputs": [
    {
     "name": "stdout",
     "output_type": "stream",
     "text": [
      "[]\n",
      "['anil', 'bharath', 'chandu']\n"
     ]
    }
   ],
   "source": [
    "a = []\n",
    "names = [\"anil\", \"bharath\", \"chandu\"]\n",
    "\n",
    "print(a)\n",
    "print(names)"
   ]
  }
 ],
 "metadata": {
  "kernelspec": {
   "display_name": "Python 3 (ipykernel)",
   "language": "python",
   "name": "python3"
  },
  "language_info": {
   "codemirror_mode": {
    "name": "ipython",
    "version": 3
   },
   "file_extension": ".py",
   "mimetype": "text/x-python",
   "name": "python",
   "nbconvert_exporter": "python",
   "pygments_lexer": "ipython3",
   "version": "3.13.7"
  }
 },
 "nbformat": 4,
 "nbformat_minor": 5
}
