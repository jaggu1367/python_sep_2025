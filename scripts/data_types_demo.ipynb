{
 "cells": [
  {
   "cell_type": "code",
   "execution_count": 1,
   "id": "13330d7a-a8ae-4f55-9e95-761164e5f0ad",
   "metadata": {},
   "outputs": [],
   "source": [
    "a = 10"
   ]
  },
  {
   "cell_type": "code",
   "execution_count": 2,
   "id": "0a373ec3-0c10-452a-8cd9-409f246e3135",
   "metadata": {},
   "outputs": [],
   "source": [
    "b = 3.457"
   ]
  },
  {
   "cell_type": "code",
   "execution_count": 3,
   "id": "443df942-4b9e-428b-a9e1-79b704b83bb9",
   "metadata": {},
   "outputs": [],
   "source": [
    "c = \"Hello\""
   ]
  },
  {
   "cell_type": "code",
   "execution_count": 4,
   "id": "8806c0f1-120f-42e8-ab99-f90b54895bef",
   "metadata": {},
   "outputs": [],
   "source": [
    "d = True"
   ]
  },
  {
   "cell_type": "code",
   "execution_count": 5,
   "id": "6b5f1cc8-742a-4f79-b392-004d6fc9141f",
   "metadata": {},
   "outputs": [],
   "source": [
    "e = False"
   ]
  },
  {
   "cell_type": "code",
   "execution_count": 6,
   "id": "cfd5b313-c72a-4d21-800e-42455576f181",
   "metadata": {},
   "outputs": [],
   "source": [
    "f = [1, 2, 3, 4, 5]"
   ]
  },
  {
   "cell_type": "code",
   "execution_count": 19,
   "id": "899668e2-1242-4413-abf6-491968bb3442",
   "metadata": {},
   "outputs": [],
   "source": [
    "g = None"
   ]
  },
  {
   "cell_type": "code",
   "execution_count": 7,
   "id": "3a51360f-0e75-4123-9ea3-83bdce5390cb",
   "metadata": {},
   "outputs": [
    {
     "data": {
      "text/plain": [
       "10"
      ]
     },
     "execution_count": 7,
     "metadata": {},
     "output_type": "execute_result"
    }
   ],
   "source": [
    "a"
   ]
  },
  {
   "cell_type": "code",
   "execution_count": 8,
   "id": "2a7ea4c4-546e-4b4e-bec5-2092cf8d5566",
   "metadata": {},
   "outputs": [
    {
     "data": {
      "text/plain": [
       "3.457"
      ]
     },
     "execution_count": 8,
     "metadata": {},
     "output_type": "execute_result"
    }
   ],
   "source": [
    "b"
   ]
  },
  {
   "cell_type": "code",
   "execution_count": 9,
   "id": "064deade-d3ef-400e-8cbe-48ec2d91bcef",
   "metadata": {},
   "outputs": [
    {
     "data": {
      "text/plain": [
       "3.457"
      ]
     },
     "execution_count": 9,
     "metadata": {},
     "output_type": "execute_result"
    }
   ],
   "source": [
    "a\n",
    "b"
   ]
  },
  {
   "cell_type": "code",
   "execution_count": 31,
   "id": "6b269a3d-639b-4b96-99b2-7a59a9688cd7",
   "metadata": {},
   "outputs": [],
   "source": [
    "g"
   ]
  },
  {
   "cell_type": "code",
   "execution_count": 29,
   "id": "c372db4c-d979-4764-93e6-3aaa28ce409d",
   "metadata": {},
   "outputs": [
    {
     "name": "stdout",
     "output_type": "stream",
     "text": [
      "[1, 'Hi', 3.45, False, 10.45]\n",
      "3.457\n",
      "Hello\n",
      "True\n",
      "False\n",
      "[1, 2, 3, 4, 5]\n",
      "None\n"
     ]
    }
   ],
   "source": [
    "print(a)\n",
    "print(b)\n",
    "print(c)\n",
    "print(d)\n",
    "print(e)\n",
    "print(f)\n",
    "print(g)"
   ]
  },
  {
   "cell_type": "code",
   "execution_count": 32,
   "id": "7885cc9b-e10c-4e4f-a43e-c9797a690a59",
   "metadata": {},
   "outputs": [
    {
     "name": "stdout",
     "output_type": "stream",
     "text": [
      "<class 'list'>\n",
      "<class 'float'>\n",
      "<class 'str'>\n",
      "<class 'bool'>\n",
      "<class 'bool'>\n",
      "<class 'list'>\n",
      "<class 'NoneType'>\n"
     ]
    }
   ],
   "source": [
    "print(type(a))\n",
    "print(type(b))\n",
    "print(type(c))\n",
    "print(type(d))\n",
    "print(type(e))\n",
    "print(type(f))\n",
    "print(type(g))"
   ]
  },
  {
   "cell_type": "code",
   "execution_count": 34,
   "id": "9c7223eb-0052-46ca-a762-60b9189dc530",
   "metadata": {},
   "outputs": [],
   "source": [
    "h = [1 , \"Hi\", 3.45, False, 10.45]"
   ]
  },
  {
   "cell_type": "code",
   "execution_count": 35,
   "id": "906b89b2-92bf-46e7-abbb-2230e3014872",
   "metadata": {},
   "outputs": [
    {
     "data": {
      "text/plain": [
       "list"
      ]
     },
     "execution_count": 35,
     "metadata": {},
     "output_type": "execute_result"
    }
   ],
   "source": [
    "type(h)"
   ]
  },
  {
   "cell_type": "code",
   "execution_count": 36,
   "id": "896b911e-6daa-4e5a-86de-3e16774f8120",
   "metadata": {},
   "outputs": [
    {
     "name": "stdout",
     "output_type": "stream",
     "text": [
      "[1, 'Hi', 3.45, False, 10.45]\n"
     ]
    }
   ],
   "source": [
    "print(h)"
   ]
  }
 ],
 "metadata": {
  "kernelspec": {
   "display_name": "Python 3 (ipykernel)",
   "language": "python",
   "name": "python3"
  },
  "language_info": {
   "codemirror_mode": {
    "name": "ipython",
    "version": 3
   },
   "file_extension": ".py",
   "mimetype": "text/x-python",
   "name": "python",
   "nbconvert_exporter": "python",
   "pygments_lexer": "ipython3",
   "version": "3.13.7"
  }
 },
 "nbformat": 4,
 "nbformat_minor": 5
}
