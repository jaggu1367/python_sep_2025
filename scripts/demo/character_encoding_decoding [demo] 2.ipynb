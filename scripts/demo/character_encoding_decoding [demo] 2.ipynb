{
 "cells": [
  {
   "cell_type": "code",
   "execution_count": 1,
   "id": "8b0c616f-d5aa-42eb-9de4-6a76ce3117ee",
   "metadata": {},
   "outputs": [],
   "source": [
    "msg = \"How are you\""
   ]
  },
  {
   "cell_type": "code",
   "execution_count": 7,
   "id": "1293b9cd-ecf7-4716-ae09-48a5fdb1d360",
   "metadata": {},
   "outputs": [],
   "source": [
    "msg_bytes = b\"How are you\""
   ]
  },
  {
   "cell_type": "code",
   "execution_count": 11,
   "id": "2047da18-a399-4a59-8fc1-7a938150d148",
   "metadata": {
    "scrolled": true
   },
   "outputs": [
    {
     "name": "stdout",
     "output_type": "stream",
     "text": [
      "<class 'str'>\n",
      "<class 'bytes'>\n"
     ]
    }
   ],
   "source": [
    "print(type(msg))\n",
    "print(type(msg_bytes))"
   ]
  },
  {
   "cell_type": "code",
   "execution_count": 17,
   "id": "0f7b9cc9-4b39-4cef-aac4-75681114e932",
   "metadata": {},
   "outputs": [
    {
     "data": {
      "text/plain": [
       "'How are you'"
      ]
     },
     "execution_count": 17,
     "metadata": {},
     "output_type": "execute_result"
    }
   ],
   "source": [
    "msg_bytes.decode()"
   ]
  },
  {
   "cell_type": "code",
   "execution_count": 9,
   "id": "45cafc97-854c-4fce-b44f-f8dec6a0d702",
   "metadata": {},
   "outputs": [
    {
     "name": "stdout",
     "output_type": "stream",
     "text": [
      "How are you\n",
      "b'How are you'\n"
     ]
    }
   ],
   "source": [
    "print(msg)\n",
    "print(msg_bytes)"
   ]
  },
  {
   "cell_type": "code",
   "execution_count": 12,
   "id": "56a7241d-db26-43dc-ad64-f690ec9c7520",
   "metadata": {},
   "outputs": [],
   "source": [
    "encoded_msg = msg.encode(\"cp1252\")"
   ]
  },
  {
   "cell_type": "code",
   "execution_count": 13,
   "id": "e96f307e-ed26-4d7f-a783-f3f43c3e6787",
   "metadata": {},
   "outputs": [
    {
     "name": "stdout",
     "output_type": "stream",
     "text": [
      "<class 'bytes'>\n",
      "b'How are you'\n"
     ]
    }
   ],
   "source": [
    "print(type(encoded_msg))\n",
    "print(encoded_msg)"
   ]
  },
  {
   "cell_type": "code",
   "execution_count": 14,
   "id": "2a664397-856c-4c5f-94bf-6b771821a69b",
   "metadata": {},
   "outputs": [
    {
     "data": {
      "text/plain": [
       "bytes"
      ]
     },
     "execution_count": 14,
     "metadata": {},
     "output_type": "execute_result"
    }
   ],
   "source": [
    "type(encoded_msg)"
   ]
  },
  {
   "cell_type": "code",
   "execution_count": 15,
   "id": "3bfd38bf-e5d5-457d-9df7-9644f770bc0e",
   "metadata": {},
   "outputs": [
    {
     "data": {
      "text/plain": [
       "'How are you'"
      ]
     },
     "execution_count": 15,
     "metadata": {},
     "output_type": "execute_result"
    }
   ],
   "source": [
    "encoded_msg.decode(\"cp1252\")"
   ]
  },
  {
   "cell_type": "code",
   "execution_count": null,
   "id": "7cdfb322-8251-4177-bbba-4457a3a3dbf1",
   "metadata": {},
   "outputs": [],
   "source": []
  }
 ],
 "metadata": {
  "kernelspec": {
   "display_name": "Python 3 (ipykernel)",
   "language": "python",
   "name": "python3"
  },
  "language_info": {
   "codemirror_mode": {
    "name": "ipython",
    "version": 3
   },
   "file_extension": ".py",
   "mimetype": "text/x-python",
   "name": "python",
   "nbconvert_exporter": "python",
   "pygments_lexer": "ipython3",
   "version": "3.13.7"
  }
 },
 "nbformat": 4,
 "nbformat_minor": 5
}
