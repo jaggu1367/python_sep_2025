{
 "cells": [
  {
   "cell_type": "code",
   "execution_count": 1,
   "id": "23c7acc9-dbca-4c58-afe3-5ddf58095cdb",
   "metadata": {},
   "outputs": [],
   "source": [
    "file_path = \"D:/work/bigdata/python_demo_project/my_data.txt\""
   ]
  },
  {
   "cell_type": "code",
   "execution_count": 29,
   "id": "55926315-23a8-4068-bfb9-6c12831523e8",
   "metadata": {},
   "outputs": [],
   "source": [
    "# steps to read the content in the file \n",
    "\n",
    "# 1) open()\n",
    "# 2) read()\n",
    "# 3) close()\n",
    "\n",
    "file = open(\"D:/work/bigdata/python_demo_project/my_data.txt\")"
   ]
  },
  {
   "cell_type": "code",
   "execution_count": 5,
   "id": "025d0521-f8fa-45c2-a815-1fff945ad547",
   "metadata": {},
   "outputs": [
    {
     "data": {
      "text/plain": [
       "'D:/work/bigdata/python_demo_project/my_data.txt'"
      ]
     },
     "execution_count": 5,
     "metadata": {},
     "output_type": "execute_result"
    }
   ],
   "source": [
    "file.name"
   ]
  },
  {
   "cell_type": "code",
   "execution_count": 6,
   "id": "0df0a6f4-e4fe-46d3-8bff-4be0c3df4edc",
   "metadata": {},
   "outputs": [
    {
     "data": {
      "text/plain": [
       "'cp1252'"
      ]
     },
     "execution_count": 6,
     "metadata": {},
     "output_type": "execute_result"
    }
   ],
   "source": [
    "file.encoding"
   ]
  },
  {
   "cell_type": "code",
   "execution_count": 7,
   "id": "08635ad6-dca6-4e4c-aa04-d5f293af1596",
   "metadata": {},
   "outputs": [
    {
     "data": {
      "text/plain": [
       "'r'"
      ]
     },
     "execution_count": 7,
     "metadata": {},
     "output_type": "execute_result"
    }
   ],
   "source": [
    "file.mode"
   ]
  },
  {
   "cell_type": "code",
   "execution_count": 30,
   "id": "e71d146a-17da-4fc4-bff6-68d60da45bb6",
   "metadata": {},
   "outputs": [],
   "source": [
    "file_content = file.read()"
   ]
  },
  {
   "cell_type": "code",
   "execution_count": 31,
   "id": "97026a7f-6f92-4cc9-a7d1-8d7610c84973",
   "metadata": {},
   "outputs": [
    {
     "name": "stdout",
     "output_type": "stream",
     "text": [
      "Hello Pavan\n",
      "Hi Ganesh\n",
      "Bye Nagarjuna\n",
      "à°…  à°†  à°‡\n",
      "à¤…  à¤†  à¤‡\n",
      "CafÃ© â€” dÃ©jÃ  vu â€œquoted textâ€œ\n",
      "Cafe - deja vu \"quoted text\"\n"
     ]
    }
   ],
   "source": [
    "print(file_content)"
   ]
  },
  {
   "cell_type": "code",
   "execution_count": 32,
   "id": "d4af44d4-52ed-4d5c-9247-1f2797470e5a",
   "metadata": {},
   "outputs": [
    {
     "name": "stdout",
     "output_type": "stream",
     "text": [
      "Hello Pavan\n",
      "Hi Ganesh\n",
      "Bye Nagarjuna\n",
      "అ  ఆ  ఇ\n",
      "अ  आ  इ\n",
      "Café — déjà vu “quoted text“\n",
      "Cafe - deja vu \"quoted text\"\n"
     ]
    }
   ],
   "source": [
    "file = open(\"D:/work/bigdata/python_demo_project/my_data.txt\", mode='r', encoding=\"utf-8\")\n",
    "file_content = file.read()\n",
    "print(file_content)"
   ]
  },
  {
   "cell_type": "code",
   "execution_count": 33,
   "id": "30e10c60-9882-4f82-a6ac-e6194b09aa52",
   "metadata": {},
   "outputs": [],
   "source": [
    "file = open(\"D:/work/bigdata/python_demo_project/my_data.txt\", mode='w', encoding=\"utf-8\")"
   ]
  },
  {
   "cell_type": "code",
   "execution_count": 35,
   "id": "740b41c4-219d-4d6f-b2d0-23077192eef2",
   "metadata": {},
   "outputs": [
    {
     "data": {
      "text/plain": [
       "25"
      ]
     },
     "execution_count": 35,
     "metadata": {},
     "output_type": "execute_result"
    }
   ],
   "source": [
    "file.write(\"Hi, this is a new content\")"
   ]
  },
  {
   "cell_type": "code",
   "execution_count": 36,
   "id": "0b7740da-d801-4587-9d3d-d8bc958318f1",
   "metadata": {},
   "outputs": [],
   "source": [
    "file.close()"
   ]
  },
  {
   "cell_type": "code",
   "execution_count": 37,
   "id": "3a73461d-966d-43f9-9522-91918a0b00bc",
   "metadata": {},
   "outputs": [],
   "source": [
    "file = open(\"D:/work/bigdata/python_demo_project/my_data.txt\", mode='a', encoding=\"utf-8\")"
   ]
  },
  {
   "cell_type": "code",
   "execution_count": 38,
   "id": "f5cc143f-5d01-4ff3-a337-f6db804ea998",
   "metadata": {},
   "outputs": [
    {
     "data": {
      "text/plain": [
       "28"
      ]
     },
     "execution_count": 38,
     "metadata": {},
     "output_type": "execute_result"
    }
   ],
   "source": [
    "file.write(\"Hi, this is appended content\")"
   ]
  },
  {
   "cell_type": "code",
   "execution_count": 39,
   "id": "dab1fe56-666f-4d5c-b760-6d92d620acbb",
   "metadata": {},
   "outputs": [],
   "source": [
    "file.close()"
   ]
  },
  {
   "cell_type": "code",
   "execution_count": 40,
   "id": "30e99446-3490-437f-816e-dbfc99b998bb",
   "metadata": {},
   "outputs": [],
   "source": [
    "file = open(\"D:/work/bigdata/python_demo_project/my_data.txt\", mode='a', encoding=\"utf-8\")"
   ]
  },
  {
   "cell_type": "code",
   "execution_count": 41,
   "id": "12b17f15-3823-425f-b0ab-fee4d2257bce",
   "metadata": {},
   "outputs": [],
   "source": [
    "file.write(\"\\n\")\n",
    "file.write(\"end of the message\")\n",
    "file.close()"
   ]
  },
  {
   "cell_type": "code",
   "execution_count": 43,
   "id": "42c8af3d-8df8-4365-8126-818e54cf39d0",
   "metadata": {},
   "outputs": [],
   "source": [
    "file = open(\"D:/work/bigdata/python_demo_project/my_data.txt\", mode='w', encoding=\"utf-8\")\n",
    "file.write(\"start\\nhi\\nbye\")\n",
    "file.close()"
   ]
  },
  {
   "cell_type": "code",
   "execution_count": 44,
   "id": "14dbe925-4481-4efb-b01c-f1c74cd76787",
   "metadata": {},
   "outputs": [
    {
     "ename": "FileNotFoundError",
     "evalue": "[Errno 2] No such file or directory: 'D:/work/bigdata/python_demo_project/your_data.txt'",
     "output_type": "error",
     "traceback": [
      "\u001b[31m---------------------------------------------------------------------------\u001b[39m",
      "\u001b[31mFileNotFoundError\u001b[39m                         Traceback (most recent call last)",
      "\u001b[36mCell\u001b[39m\u001b[36m \u001b[39m\u001b[32mIn[44]\u001b[39m\u001b[32m, line 1\u001b[39m\n\u001b[32m----> \u001b[39m\u001b[32m1\u001b[39m file = \u001b[38;5;28;43mopen\u001b[39;49m\u001b[43m(\u001b[49m\u001b[33;43m\"\u001b[39;49m\u001b[33;43mD:/work/bigdata/python_demo_project/your_data.txt\u001b[39;49m\u001b[33;43m\"\u001b[39;49m\u001b[43m,\u001b[49m\u001b[43m \u001b[49m\u001b[43mmode\u001b[49m\u001b[43m=\u001b[49m\u001b[33;43m'\u001b[39;49m\u001b[33;43mr\u001b[39;49m\u001b[33;43m'\u001b[39;49m\u001b[43m,\u001b[49m\u001b[43m \u001b[49m\u001b[43mencoding\u001b[49m\u001b[43m=\u001b[49m\u001b[33;43m\"\u001b[39;49m\u001b[33;43mutf-8\u001b[39;49m\u001b[33;43m\"\u001b[39;49m\u001b[43m)\u001b[49m\n\u001b[32m      2\u001b[39m \u001b[38;5;28mprint\u001b[39m(file.read())\n\u001b[32m      3\u001b[39m file.close()\n",
      "\u001b[36mFile \u001b[39m\u001b[32m~\\AppData\\Local\\Programs\\Python\\Python313\\Lib\\site-packages\\IPython\\core\\interactiveshell.py:343\u001b[39m, in \u001b[36m_modified_open\u001b[39m\u001b[34m(file, *args, **kwargs)\u001b[39m\n\u001b[32m    336\u001b[39m \u001b[38;5;28;01mif\u001b[39;00m file \u001b[38;5;129;01min\u001b[39;00m {\u001b[32m0\u001b[39m, \u001b[32m1\u001b[39m, \u001b[32m2\u001b[39m}:\n\u001b[32m    337\u001b[39m     \u001b[38;5;28;01mraise\u001b[39;00m \u001b[38;5;167;01mValueError\u001b[39;00m(\n\u001b[32m    338\u001b[39m         \u001b[33mf\u001b[39m\u001b[33m\"\u001b[39m\u001b[33mIPython won\u001b[39m\u001b[33m'\u001b[39m\u001b[33mt let you open fd=\u001b[39m\u001b[38;5;132;01m{\u001b[39;00mfile\u001b[38;5;132;01m}\u001b[39;00m\u001b[33m by default \u001b[39m\u001b[33m\"\u001b[39m\n\u001b[32m    339\u001b[39m         \u001b[33m\"\u001b[39m\u001b[33mas it is likely to crash IPython. If you know what you are doing, \u001b[39m\u001b[33m\"\u001b[39m\n\u001b[32m    340\u001b[39m         \u001b[33m\"\u001b[39m\u001b[33myou can use builtins\u001b[39m\u001b[33m'\u001b[39m\u001b[33m open.\u001b[39m\u001b[33m\"\u001b[39m\n\u001b[32m    341\u001b[39m     )\n\u001b[32m--> \u001b[39m\u001b[32m343\u001b[39m \u001b[38;5;28;01mreturn\u001b[39;00m \u001b[43mio_open\u001b[49m\u001b[43m(\u001b[49m\u001b[43mfile\u001b[49m\u001b[43m,\u001b[49m\u001b[43m \u001b[49m\u001b[43m*\u001b[49m\u001b[43margs\u001b[49m\u001b[43m,\u001b[49m\u001b[43m \u001b[49m\u001b[43m*\u001b[49m\u001b[43m*\u001b[49m\u001b[43mkwargs\u001b[49m\u001b[43m)\u001b[49m\n",
      "\u001b[31mFileNotFoundError\u001b[39m: [Errno 2] No such file or directory: 'D:/work/bigdata/python_demo_project/your_data.txt'"
     ]
    }
   ],
   "source": [
    "file = open(\"D:/work/bigdata/python_demo_project/your_data.txt\", mode='r', encoding=\"utf-8\")\n",
    "print(file.read())\n",
    "file.close()"
   ]
  },
  {
   "cell_type": "code",
   "execution_count": 45,
   "id": "52e0f6a6-9820-4b0e-a67c-c3059c3f37de",
   "metadata": {},
   "outputs": [],
   "source": [
    "file = open(\"D:/work/bigdata/python_demo_project/your_data.txt\", mode='w', encoding=\"utf-8\")\n",
    "file.write(\"this is your write example when file is not avaiable\")\n",
    "file.close()"
   ]
  },
  {
   "cell_type": "code",
   "execution_count": 46,
   "id": "0060fb5b-09da-4f94-a380-f57d9a9fdad8",
   "metadata": {},
   "outputs": [
    {
     "ename": "UnsupportedOperation",
     "evalue": "not writable",
     "output_type": "error",
     "traceback": [
      "\u001b[31m---------------------------------------------------------------------------\u001b[39m",
      "\u001b[31mUnsupportedOperation\u001b[39m                      Traceback (most recent call last)",
      "\u001b[36mCell\u001b[39m\u001b[36m \u001b[39m\u001b[32mIn[46]\u001b[39m\u001b[32m, line 2\u001b[39m\n\u001b[32m      1\u001b[39m file = \u001b[38;5;28mopen\u001b[39m(\u001b[33m\"\u001b[39m\u001b[33mD:/work/bigdata/python_demo_project/your_data.txt\u001b[39m\u001b[33m\"\u001b[39m, mode=\u001b[33m'\u001b[39m\u001b[33mr\u001b[39m\u001b[33m'\u001b[39m, encoding=\u001b[33m\"\u001b[39m\u001b[33mutf-8\u001b[39m\u001b[33m\"\u001b[39m)\n\u001b[32m----> \u001b[39m\u001b[32m2\u001b[39m \u001b[43mfile\u001b[49m\u001b[43m.\u001b[49m\u001b[43mwrite\u001b[49m\u001b[43m(\u001b[49m\u001b[33;43m\"\u001b[39;49m\u001b[33;43mthis is your write example when file is not avaiable\u001b[39;49m\u001b[33;43m\"\u001b[39;49m\u001b[43m)\u001b[49m\n\u001b[32m      3\u001b[39m file.close()\n",
      "\u001b[31mUnsupportedOperation\u001b[39m: not writable"
     ]
    }
   ],
   "source": [
    "file = open(\"D:/work/bigdata/python_demo_project/your_data.txt\", mode='r', encoding=\"utf-8\")\n",
    "file.write(\"this is your write example when file is not avaiable\")\n",
    "file.close()"
   ]
  },
  {
   "cell_type": "code",
   "execution_count": 52,
   "id": "5590a0e7-24be-4ca0-bb46-b6162dca285c",
   "metadata": {},
   "outputs": [
    {
     "name": "stdout",
     "output_type": "stream",
     "text": [
      "Naveen is practicing everyday\n"
     ]
    }
   ],
   "source": [
    "file = open(\"D:/work/bigdata/python_demo_project/your_data.txt\", mode='r+', encoding=\"utf-8\")\n",
    "text = file.read()\n",
    "print(text)\n",
    "file.close()"
   ]
  },
  {
   "cell_type": "code",
   "execution_count": 53,
   "id": "915dbd41-199d-4489-8336-9ff69a6ad2a2",
   "metadata": {},
   "outputs": [
    {
     "name": "stdout",
     "output_type": "stream",
     "text": [
      "Naveen is practicing everyday\n",
      "Naveen is practicing everyday\n",
      "Sunny is practicing everyday\n"
     ]
    }
   ],
   "source": [
    "msg = \"Naveen is practicing everyday\"\n",
    "print(msg)\n",
    "new_msg = msg.replace(\"Naveen\", \"Sunny\")\n",
    "print(msg)\n",
    "print(new_msg)"
   ]
  },
  {
   "cell_type": "code",
   "execution_count": 54,
   "id": "2062f68e-2214-4259-a19c-2c14aacd4b79",
   "metadata": {},
   "outputs": [],
   "source": [
    "file = open(\"D:/work/bigdata/python_demo_project/your_data.txt\", mode='r+', encoding=\"utf-8\")\n",
    "text = file.read()\n",
    "new_text = text.replace(\"Naveen\", \"Sunny\")\n",
    "file.write(new_text)\n",
    "file.close()"
   ]
  },
  {
   "cell_type": "code",
   "execution_count": 66,
   "id": "3f5e38ab-2e39-4e2a-ba6e-d64cbadc7c2c",
   "metadata": {},
   "outputs": [],
   "source": [
    "file = open(\"D:/work/bigdata/python_demo_project/your_data.txt\", mode='r+', encoding=\"utf-8\")\n",
    "file.seek(0,2)\n",
    "file.write(\"\\nNaveen is also practicing everyday\")\n",
    "file.close()"
   ]
  },
  {
   "cell_type": "code",
   "execution_count": 70,
   "id": "3da4a484-176e-49cc-a7f9-5d2a243206f8",
   "metadata": {},
   "outputs": [],
   "source": [
    "file = open(\"D:/work/bigdata/python_demo_project/your_data.txt\", mode='r', encoding=\"utf-8\")"
   ]
  },
  {
   "cell_type": "code",
   "execution_count": 71,
   "id": "0ae9e93a-677b-4d53-b339-2f423af0cbf2",
   "metadata": {},
   "outputs": [
    {
     "name": "stdout",
     "output_type": "stream",
     "text": [
      "Sunny is practicing everyday.\n",
      "Sukanya is also practicing everyday.\n",
      "Naveen is also practicing everyday.\n"
     ]
    }
   ],
   "source": [
    "print(file.read())"
   ]
  },
  {
   "cell_type": "code",
   "execution_count": 72,
   "id": "4ba2efe8-b198-40f9-a026-c3ec4c2648a6",
   "metadata": {},
   "outputs": [
    {
     "data": {
      "text/plain": [
       "0"
      ]
     },
     "execution_count": 72,
     "metadata": {},
     "output_type": "execute_result"
    }
   ],
   "source": [
    "file.seek(0)"
   ]
  },
  {
   "cell_type": "code",
   "execution_count": 73,
   "id": "9713cf92-b626-4a7e-9ed0-9a45de336cce",
   "metadata": {},
   "outputs": [
    {
     "name": "stdout",
     "output_type": "stream",
     "text": [
      "Sunny is practicing everyday.\n",
      "Sukanya is also practicing everyday.\n",
      "Naveen is also practicing everyday.\n"
     ]
    }
   ],
   "source": [
    "print(file.read())"
   ]
  },
  {
   "cell_type": "code",
   "execution_count": 75,
   "id": "26ccac90-42cd-492a-8f66-734e98d3a584",
   "metadata": {},
   "outputs": [
    {
     "data": {
      "text/plain": [
       "0"
      ]
     },
     "execution_count": 75,
     "metadata": {},
     "output_type": "execute_result"
    }
   ],
   "source": [
    "file.seek(0)"
   ]
  },
  {
   "cell_type": "code",
   "execution_count": 76,
   "id": "47038b93-e969-4e66-896b-42c4e8af3b5e",
   "metadata": {},
   "outputs": [
    {
     "data": {
      "text/plain": [
       "'Sunny is practicing everyday.\\n'"
      ]
     },
     "execution_count": 76,
     "metadata": {},
     "output_type": "execute_result"
    }
   ],
   "source": [
    "file.readline()"
   ]
  },
  {
   "cell_type": "code",
   "execution_count": 77,
   "id": "b24c5acc-f140-4501-9fab-3a5f62063101",
   "metadata": {},
   "outputs": [
    {
     "data": {
      "text/plain": [
       "'Sukanya is also practicing everyday.\\nNaveen is also practicing everyday.'"
      ]
     },
     "execution_count": 77,
     "metadata": {},
     "output_type": "execute_result"
    }
   ],
   "source": [
    "file.read()"
   ]
  },
  {
   "cell_type": "code",
   "execution_count": 81,
   "id": "267b240c-76f3-49cc-879f-49f65a3f6fcc",
   "metadata": {},
   "outputs": [
    {
     "data": {
      "text/plain": [
       "0"
      ]
     },
     "execution_count": 81,
     "metadata": {},
     "output_type": "execute_result"
    }
   ],
   "source": [
    "file.seek(0)"
   ]
  },
  {
   "cell_type": "code",
   "execution_count": 82,
   "id": "613cb2dc-3547-4360-b81d-dbe0fb64d48c",
   "metadata": {},
   "outputs": [],
   "source": [
    "lines = file.readlines()"
   ]
  },
  {
   "cell_type": "code",
   "execution_count": 83,
   "id": "aa0b23aa-beb9-443a-b579-901119ca806e",
   "metadata": {},
   "outputs": [
    {
     "name": "stdout",
     "output_type": "stream",
     "text": [
      "Sunny is practicing everyday.\n",
      "\n",
      "Sukanya is also practicing everyday.\n",
      "\n",
      "Naveen is also practicing everyday.\n"
     ]
    }
   ],
   "source": [
    "for line in lines: \n",
    "    print(line)"
   ]
  },
  {
   "cell_type": "code",
   "execution_count": 84,
   "id": "960f17cc-6f13-4e5c-88b5-7c7d67529129",
   "metadata": {},
   "outputs": [
    {
     "data": {
      "text/plain": [
       "0"
      ]
     },
     "execution_count": 84,
     "metadata": {},
     "output_type": "execute_result"
    }
   ],
   "source": [
    "file.seek(0)"
   ]
  },
  {
   "cell_type": "code",
   "execution_count": 85,
   "id": "af5a2c9d-4f00-4d28-b445-2fa06882d02c",
   "metadata": {},
   "outputs": [
    {
     "data": {
      "text/plain": [
       "'Sunny is practicing everyday.\\n'"
      ]
     },
     "execution_count": 85,
     "metadata": {},
     "output_type": "execute_result"
    }
   ],
   "source": [
    "file.readline()"
   ]
  },
  {
   "cell_type": "code",
   "execution_count": 86,
   "id": "ee152ffd-003b-4eb1-8ad9-959841b3a040",
   "metadata": {},
   "outputs": [],
   "source": [
    "output_lines_list = file.readlines()"
   ]
  },
  {
   "cell_type": "code",
   "execution_count": 87,
   "id": "848cf6b4-73cc-4ff6-a386-aba852d1aab3",
   "metadata": {},
   "outputs": [
    {
     "data": {
      "text/plain": [
       "['Sukanya is also practicing everyday.\\n',\n",
       " 'Naveen is also practicing everyday.']"
      ]
     },
     "execution_count": 87,
     "metadata": {},
     "output_type": "execute_result"
    }
   ],
   "source": [
    "output_lines_list"
   ]
  },
  {
   "cell_type": "code",
   "execution_count": 89,
   "id": "31773d11-2e34-4c1b-bf35-da66b6d77414",
   "metadata": {},
   "outputs": [],
   "source": [
    "file = open(\"D:/work/bigdata/python_demo_project/your_data.txt\", mode='rb')"
   ]
  },
  {
   "cell_type": "code",
   "execution_count": 90,
   "id": "6e2ae7cc-cff8-47ad-8608-9cc6a57f5864",
   "metadata": {},
   "outputs": [
    {
     "data": {
      "text/plain": [
       "b'Sunny is practicing everyday.\\r\\nSukanya is also practicing everyday.\\r\\nNaveen is also practicing everyday.'"
      ]
     },
     "execution_count": 90,
     "metadata": {},
     "output_type": "execute_result"
    }
   ],
   "source": [
    "file.peek()"
   ]
  },
  {
   "cell_type": "code",
   "execution_count": 91,
   "id": "2555bf3f-e69a-4ae7-987d-4f39829d99ac",
   "metadata": {},
   "outputs": [
    {
     "data": {
      "text/plain": [
       "b'Sunny is practicing everyday.\\r\\nSukanya is also practicing everyday.\\r\\nNaveen is also practicing everyday.'"
      ]
     },
     "execution_count": 91,
     "metadata": {},
     "output_type": "execute_result"
    }
   ],
   "source": [
    "file.read()"
   ]
  },
  {
   "cell_type": "code",
   "execution_count": 92,
   "id": "b39789bd-8be1-453f-94e2-f4cfd7ced510",
   "metadata": {},
   "outputs": [
    {
     "data": {
      "text/plain": [
       "b''"
      ]
     },
     "execution_count": 92,
     "metadata": {},
     "output_type": "execute_result"
    }
   ],
   "source": [
    "file.read()"
   ]
  },
  {
   "cell_type": "code",
   "execution_count": 94,
   "id": "06692f0f-7162-46eb-8e6b-207a9a849766",
   "metadata": {},
   "outputs": [],
   "source": [
    "file = open(\"D:/work/bigdata/python_demo_project/your_data.txt\", mode='rb')"
   ]
  },
  {
   "cell_type": "code",
   "execution_count": 95,
   "id": "05b7192f-3d27-4a72-a915-c685f515ff69",
   "metadata": {},
   "outputs": [],
   "source": [
    "content = file.read()"
   ]
  },
  {
   "cell_type": "code",
   "execution_count": 96,
   "id": "df387f50-703b-4ede-9c9a-c7a81d2f6074",
   "metadata": {},
   "outputs": [
    {
     "data": {
      "text/plain": [
       "bytes"
      ]
     },
     "execution_count": 96,
     "metadata": {},
     "output_type": "execute_result"
    }
   ],
   "source": [
    "type(content)"
   ]
  },
  {
   "cell_type": "code",
   "execution_count": 97,
   "id": "75ca94f8-9fb7-438a-99ad-f908c9402b70",
   "metadata": {},
   "outputs": [
    {
     "name": "stdout",
     "output_type": "stream",
     "text": [
      "b'Sunny is practicing everyday.\\r\\nSukanya is also practicing everyday.\\r\\nNaveen is also practicing everyday.'\n"
     ]
    }
   ],
   "source": [
    "print(content)"
   ]
  },
  {
   "cell_type": "code",
   "execution_count": 98,
   "id": "811048ab-6d2d-4627-883e-0f3838a4fdb9",
   "metadata": {},
   "outputs": [
    {
     "data": {
      "text/plain": [
       "'Sunny is practicing everyday.\\r\\nSukanya is also practicing everyday.\\r\\nNaveen is also practicing everyday.'"
      ]
     },
     "execution_count": 98,
     "metadata": {},
     "output_type": "execute_result"
    }
   ],
   "source": [
    "content.decode()"
   ]
  },
  {
   "cell_type": "code",
   "execution_count": 99,
   "id": "ad3c2dac-3f82-4ef3-a203-05d7aea20c4c",
   "metadata": {},
   "outputs": [],
   "source": [
    "file = open(\"D:/work/bigdata/python_demo_project/your_data.txt\", mode='rb')"
   ]
  },
  {
   "cell_type": "code",
   "execution_count": 100,
   "id": "35efb40b-1fa7-4b2a-847b-0a1cc66c9f79",
   "metadata": {},
   "outputs": [
    {
     "data": {
      "text/plain": [
       "101"
      ]
     },
     "execution_count": 100,
     "metadata": {},
     "output_type": "execute_result"
    }
   ],
   "source": [
    "file.seek(0,2)"
   ]
  },
  {
   "cell_type": "code",
   "execution_count": 101,
   "id": "113921fa-e252-45a1-9e21-53520f7b44f9",
   "metadata": {},
   "outputs": [
    {
     "data": {
      "text/plain": [
       "b''"
      ]
     },
     "execution_count": 101,
     "metadata": {},
     "output_type": "execute_result"
    }
   ],
   "source": [
    "file.read()"
   ]
  },
  {
   "cell_type": "code",
   "execution_count": 109,
   "id": "a5ae3a1b-af7f-4eb7-b725-663cc63dee2d",
   "metadata": {},
   "outputs": [
    {
     "data": {
      "text/plain": [
       "93"
      ]
     },
     "execution_count": 109,
     "metadata": {},
     "output_type": "execute_result"
    }
   ],
   "source": [
    "file.seek(-8,2)"
   ]
  },
  {
   "cell_type": "code",
   "execution_count": 110,
   "id": "06641191-35ac-4ed1-93ff-a98944f0d9fd",
   "metadata": {},
   "outputs": [],
   "source": [
    "last_word_content =  file.read()"
   ]
  },
  {
   "cell_type": "code",
   "execution_count": 111,
   "id": "77f69b85-57c8-418b-a350-2d6ceddd6ad9",
   "metadata": {},
   "outputs": [
    {
     "name": "stdout",
     "output_type": "stream",
     "text": [
      "b'everyday'\n"
     ]
    }
   ],
   "source": [
    "print(last_word_content)"
   ]
  },
  {
   "cell_type": "code",
   "execution_count": 114,
   "id": "bbc53909-0817-4792-aa74-9f7cb116f297",
   "metadata": {},
   "outputs": [
    {
     "name": "stdout",
     "output_type": "stream",
     "text": [
      "101, e, 01100101\n",
      "118, v, 01110110\n",
      "101, e, 01100101\n",
      "114, r, 01110010\n",
      "121, y, 01111001\n",
      "100, d, 01100100\n",
      "97, a, 01100001\n",
      "121, y, 01111001\n"
     ]
    }
   ],
   "source": [
    "for x in last_word_content:\n",
    "    print(f\"{x}, {chr(x)}, {format(x, '08b')}\")"
   ]
  },
  {
   "cell_type": "code",
   "execution_count": 115,
   "id": "81fe8c79-a3d8-4083-bda9-6faba60a50c0",
   "metadata": {},
   "outputs": [
    {
     "name": "stdout",
     "output_type": "stream",
     "text": [
      "everyday\n"
     ]
    }
   ],
   "source": [
    "file.seek(-8,2)\n",
    "last_word =  file.read().decode()\n",
    "print(last_word)"
   ]
  }
 ],
 "metadata": {
  "kernelspec": {
   "display_name": "Python 3 (ipykernel)",
   "language": "python",
   "name": "python3"
  },
  "language_info": {
   "codemirror_mode": {
    "name": "ipython",
    "version": 3
   },
   "file_extension": ".py",
   "mimetype": "text/x-python",
   "name": "python",
   "nbconvert_exporter": "python",
   "pygments_lexer": "ipython3",
   "version": "3.13.7"
  }
 },
 "nbformat": 4,
 "nbformat_minor": 5
}
