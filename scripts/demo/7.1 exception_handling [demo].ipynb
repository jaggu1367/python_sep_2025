{
 "cells": [
  {
   "cell_type": "code",
   "execution_count": 0,
   "metadata": {
    "application/vnd.databricks.v1+cell": {
     "cellMetadata": {},
     "inputWidgets": {},
     "nuid": "7c1b1bd8-52be-4555-afc6-9755d673ddbc",
     "showTitle": false,
     "tableResultSettingsMap": {},
     "title": ""
    }
   },
   "outputs": [],
   "source": [
    "# order of execution\n",
    "a = input(\"Enter a value\\n\")\n",
    "print(f\"You have entered a value as {a}\") \n",
    "print(f\"data type of a is {type(a)}\")\n",
    "\n",
    "b = input(\"Enter b value\\n\") \n",
    "print(f\"You have entered b value as {b}\") \n",
    "print(f\"data type of b is {type(b)}\")\n",
    " \n",
    "a = int(a)\n",
    "print(f\"After conversion: data type of a is {type(a)}\")\n",
    "b = int(b)\n",
    "print(f\"After conversion: data type of b is {type(b)}\")\n",
    "\n",
    "sum = a + b\n",
    "print(sum)\n",
    "diff = a - b\n",
    "print(diff) \n",
    "mul = a * b \n",
    "print(mul)\n",
    "div = a / b\n",
    "print(div) "
   ]
  },
  {
   "cell_type": "code",
   "execution_count": 0,
   "metadata": {
    "application/vnd.databricks.v1+cell": {
     "cellMetadata": {},
     "inputWidgets": {},
     "nuid": "9d44d853-d62d-4225-854d-3adda8ceaa2e",
     "showTitle": false,
     "tableResultSettingsMap": {},
     "title": ""
    }
   },
   "outputs": [],
   "source": [
    "# order of execution\n",
    "import sys\n",
    "print(sys.argv[0]) # demo.py \n",
    "print(sys.argv[1]) # 10\n",
    "print(sys.argv[2]) # 20\n",
    "\n",
    "try:\n",
    "    a = int(sys.argv[1])\n",
    "except:\n",
    "    print(f\"Enter an integer value for a : {sys.argv[1]}\")\n",
    "    a = int(input(\"Enter a\\n\"))\n",
    "try:\n",
    "    b = int(sys.argv[2])\n",
    "except:\n",
    "    print(f\"Enter an integer value for b : {sys.argv[2]}\")\n",
    "    b = int(input(\"Enter b\\n\"))\n",
    "\n",
    "# print inputs\n",
    "print(f\"a={a}, type={type(a)}\")\n",
    "print(f\"b={b}, type={type(b)}\")\n",
    "\n",
    "sum = 'No result' \n",
    "diff = 'No result' \n",
    "mul = 'No result' \n",
    "div = 'No result' \n",
    "# perform operations\n",
    "try: \n",
    "    sum = a + b\n",
    "except: \n",
    "    print(\"Some error occured add operation\")\n",
    "\n",
    "try: \n",
    "    diff = a - b\n",
    "except: \n",
    "    print(\"Some error occured diff operation\")\n",
    "\n",
    "try: \n",
    "    mul = a * b\n",
    "except: \n",
    "    print(\"Some error occured mul operation\")\n",
    "\n",
    "try: \n",
    "    div = a / b\n",
    "except:\n",
    "    print(\"Some error occured during division\")\n",
    "\n",
    "# print results\n",
    "print(sum)\n",
    "print(diff) \n",
    "print(mul)\n",
    "print(div) "
   ]
  },
  {
   "cell_type": "code",
   "execution_count": 0,
   "metadata": {
    "application/vnd.databricks.v1+cell": {
     "cellMetadata": {
      "byteLimit": 2048000,
      "rowLimit": 10000
     },
     "inputWidgets": {},
     "nuid": "a4c5ba3f-3dee-45ab-840a-a60e3911b1ee",
     "showTitle": true,
     "tableResultSettingsMap": {},
     "title": "IndexError handling"
    }
   },
   "outputs": [],
   "source": [
    "try:\n",
    "    list = [10, 20, 30]\n",
    "    print(list[0])\n",
    "    print(list[1])\n",
    "    print(list[2])\n",
    "    print(list[3])\n",
    "except IndexError:\n",
    "    print(\"IndexError: Cannot convert string to number.\")\n",
    "except ZeroDivisionError:\n",
    "    print(\"ZeroDivisionError: occurred.\")\n",
    "except ValueError:\n",
    "    print(\"ValueError: occurred.\")\n",
    "except Exception:\n",
    "    print(\"Some unknown Error/Exception occurred.\")"
   ]
  },
  {
   "cell_type": "code",
   "execution_count": 0,
   "metadata": {
    "application/vnd.databricks.v1+cell": {
     "cellMetadata": {
      "byteLimit": 2048000,
      "rowLimit": 10000
     },
     "inputWidgets": {},
     "nuid": "fee06e2a-c2f8-476c-a76b-46c275bc236d",
     "showTitle": true,
     "tableResultSettingsMap": {},
     "title": "ValueError handling"
    }
   },
   "outputs": [],
   "source": [
    "try:\n",
    "    a = int(\"Hi\")\n",
    "    print(a)\n",
    "except IndexError:\n",
    "    print(\"IndexError: Cannot convert string to number.\")\n",
    "except ZeroDivisionError:\n",
    "    print(\"ZeroDivisionError: occurred.\")\n",
    "except ValueError:\n",
    "    print(\"ValueError: occurred.\")\n",
    "except Exception:\n",
    "    print(\"Some unknown Error/Exception occurred.\")"
   ]
  },
  {
   "cell_type": "code",
   "execution_count": 0,
   "metadata": {
    "application/vnd.databricks.v1+cell": {
     "cellMetadata": {
      "byteLimit": 2048000,
      "rowLimit": 10000
     },
     "inputWidgets": {},
     "nuid": "1d679e67-d8c0-4bba-a403-d7391157bc79",
     "showTitle": true,
     "tableResultSettingsMap": {},
     "title": "ZeroDivisionError handling"
    }
   },
   "outputs": [],
   "source": [
    "try:\n",
    "    a = 10/0\n",
    "    print(a)\n",
    "except IndexError:\n",
    "    print(\"IndexError: Cannot convert string to number.\")\n",
    "except ZeroDivisionError:\n",
    "    print(\"ZeroDivisionError: occurred.\")\n",
    "except ValueError:\n",
    "    print(\"ValueError: occurred.\")\n",
    "except Exception:\n",
    "    print(\"Some unknown Error/Exception occurred.\")"
   ]
  },
  {
   "cell_type": "code",
   "execution_count": 0,
   "metadata": {
    "application/vnd.databricks.v1+cell": {
     "cellMetadata": {
      "byteLimit": 2048000,
      "rowLimit": 10000
     },
     "inputWidgets": {},
     "nuid": "4ec16c97-95ac-4118-b609-542b47eae119",
     "showTitle": true,
     "tableResultSettingsMap": {},
     "title": "raising error and handling it"
    }
   },
   "outputs": [],
   "source": [
    "try:\n",
    "    print(\"Hi\")\n",
    "    raise Exception(\"Some error\")\n",
    "except IndexError:\n",
    "    print(\"IndexError: Cannot convert string to number.\")\n",
    "except ZeroDivisionError:\n",
    "    print(\"ZeroDivisionError: occurred.\")\n",
    "except ValueError:\n",
    "    print(\"ValueError: occurred.\")\n",
    "except Exception as e:\n",
    "    print(\"Exception occurred.\")\n",
    "    print(e)"
   ]
  }
 ],
 "metadata": {
  "application/vnd.databricks.v1+notebook": {
   "computePreferences": null,
   "dashboards": [],
   "environmentMetadata": null,
   "inputWidgetPreferences": null,
   "language": "python",
   "notebookMetadata": {
    "pythonIndentUnit": 4
   },
   "notebookName": "7.1 exception_handling [demo]",
   "widgets": {}
  },
  "kernelspec": {
   "display_name": "Python 3 (ipykernel)",
   "language": "python",
   "name": "python3"
  },
  "language_info": {
   "name": "python"
  }
 },
 "nbformat": 4,
 "nbformat_minor": 0
}
