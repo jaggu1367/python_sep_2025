{
 "cells": [
  {
   "cell_type": "code",
   "execution_count": 1,
   "id": "60865bbe-7470-49be-994e-bf8350d1ee7f",
   "metadata": {},
   "outputs": [],
   "source": [
    "names = [\"anusha\", \"hemanth\", \"hiranmai\", \"lavanya\", \"nagarjuna\", \"naveen\", \"pavan\", \"gopi\", \"sunny\", \"syed\", \"gowtham\"]"
   ]
  },
  {
   "cell_type": "code",
   "execution_count": 2,
   "id": "1aa2776a-3b8a-4e8e-85e7-7df7a8c5c42a",
   "metadata": {},
   "outputs": [
    {
     "data": {
      "text/plain": [
       "['anusha',\n",
       " 'hemanth',\n",
       " 'hiranmai',\n",
       " 'lavanya',\n",
       " 'nagarjuna',\n",
       " 'naveen',\n",
       " 'pavan',\n",
       " 'gopi',\n",
       " 'sunny',\n",
       " 'syed',\n",
       " 'gowtham']"
      ]
     },
     "execution_count": 2,
     "metadata": {},
     "output_type": "execute_result"
    }
   ],
   "source": [
    "names"
   ]
  },
  {
   "cell_type": "code",
   "execution_count": null,
   "id": "2e4705a5-a131-46ab-9542-0a3bd3994b0a",
   "metadata": {},
   "outputs": [],
   "source": [
    "# what is list comprehension\n",
    "#List comprehension is a simple way of creating a list using another iterable(list, string, tuple, range)"
   ]
  },
  {
   "cell_type": "code",
   "execution_count": 3,
   "id": "471c3240-dbca-490c-a98e-040c9044886a",
   "metadata": {},
   "outputs": [
    {
     "data": {
      "text/plain": [
       "list"
      ]
     },
     "execution_count": 3,
     "metadata": {},
     "output_type": "execute_result"
    }
   ],
   "source": [
    "type(names)"
   ]
  },
  {
   "cell_type": "code",
   "execution_count": 6,
   "id": "87c51974-3853-4e45-81f4-b9867bbd8463",
   "metadata": {},
   "outputs": [
    {
     "name": "stdout",
     "output_type": "stream",
     "text": [
      "False\n",
      "False\n",
      "False\n",
      "False\n",
      "False\n",
      "True\n",
      "False\n",
      "False\n",
      "False\n",
      "False\n",
      "False\n"
     ]
    }
   ],
   "source": [
    "for item in names:\n",
    "    print(item == \"naveen\")"
   ]
  },
  {
   "cell_type": "code",
   "execution_count": 9,
   "id": "35e83bc2-db13-403a-9a9e-1491a959f2c9",
   "metadata": {},
   "outputs": [
    {
     "name": "stdout",
     "output_type": "stream",
     "text": [
      "Yes\n"
     ]
    }
   ],
   "source": [
    "for item in names:\n",
    "    if item == \"naveen\":\n",
    "        print(\"Yes\")\n",
    "    #else:\n",
    "    #   print(\"No\")"
   ]
  },
  {
   "cell_type": "code",
   "execution_count": 11,
   "id": "ebbac88f-02b5-465a-b4f1-e231ec09e1f5",
   "metadata": {},
   "outputs": [],
   "source": [
    "is_naveen_present = \"naveen\" in names"
   ]
  },
  {
   "cell_type": "code",
   "execution_count": 12,
   "id": "fe5f12e1-eea9-4b8d-965a-1c69f123eb44",
   "metadata": {},
   "outputs": [
    {
     "data": {
      "text/plain": [
       "True"
      ]
     },
     "execution_count": 12,
     "metadata": {},
     "output_type": "execute_result"
    }
   ],
   "source": [
    "is_naveen_present"
   ]
  },
  {
   "cell_type": "code",
   "execution_count": 13,
   "id": "31b40ec1-eecf-422b-ba0a-4c6e6466ffb6",
   "metadata": {},
   "outputs": [],
   "source": [
    "is_naveen_present = False"
   ]
  },
  {
   "cell_type": "code",
   "execution_count": 16,
   "id": "0ec6345f-5502-428e-ba40-1fe75e0703d7",
   "metadata": {},
   "outputs": [
    {
     "name": "stdout",
     "output_type": "stream",
     "text": [
      "naveen is present\n"
     ]
    }
   ],
   "source": [
    "for item in names:\n",
    "    if item == \"naveen\":\n",
    "        print(\"naveen is present\")\n",
    "        is_naveen_present = True"
   ]
  },
  {
   "cell_type": "code",
   "execution_count": 17,
   "id": "6be833ff-3a04-4641-955e-eb683ba51f8a",
   "metadata": {},
   "outputs": [
    {
     "name": "stdout",
     "output_type": "stream",
     "text": [
      "True\n"
     ]
    }
   ],
   "source": [
    "print(is_naveen_present)"
   ]
  },
  {
   "cell_type": "code",
   "execution_count": 18,
   "id": "1658568d-a0ba-4e8e-b034-0b5ffb165897",
   "metadata": {},
   "outputs": [],
   "source": [
    "a = [1, 2, 3, 4, 5, 6, 7, 8, 9 , 10]"
   ]
  },
  {
   "cell_type": "code",
   "execution_count": 50,
   "id": "3d23bef4-1241-4711-9d41-3fd3845907cf",
   "metadata": {},
   "outputs": [],
   "source": [
    "r = range(0, 11, 1)"
   ]
  },
  {
   "cell_type": "code",
   "execution_count": 51,
   "id": "20380aa8-de57-4308-bb88-52c50e22b6e9",
   "metadata": {},
   "outputs": [
    {
     "name": "stdout",
     "output_type": "stream",
     "text": [
      "0 1 2 3 4 5 6 7 8 9 10 "
     ]
    }
   ],
   "source": [
    "for i in r:\n",
    "    print(i, end=' ')"
   ]
  },
  {
   "cell_type": "code",
   "execution_count": 36,
   "id": "0e1de7a0-63eb-4fa4-b50c-52ae1bddabe7",
   "metadata": {},
   "outputs": [
    {
     "name": "stdout",
     "output_type": "stream",
     "text": [
      "1\n",
      "2\n",
      "3\n",
      "4\n",
      "5\n",
      "6\n",
      "7\n",
      "8\n",
      "9\n",
      "10\n"
     ]
    }
   ],
   "source": [
    "for i in range(1, 11):\n",
    "    print(i)"
   ]
  },
  {
   "cell_type": "code",
   "execution_count": 52,
   "id": "8bb75f09-e9eb-46b6-990e-9b49b8eb03cd",
   "metadata": {},
   "outputs": [],
   "source": [
    "a = [ 1, 2, 3, 4, 5, 6, 7, 8, 9 , 10]"
   ]
  },
  {
   "cell_type": "code",
   "execution_count": 53,
   "id": "c0ad1311-36da-4790-acca-3ebc8edce64b",
   "metadata": {},
   "outputs": [],
   "source": [
    "b = []"
   ]
  },
  {
   "cell_type": "code",
   "execution_count": 55,
   "id": "d650e7b4-09d5-46e2-9c45-5eb1226e604a",
   "metadata": {},
   "outputs": [],
   "source": [
    "for i in a: \n",
    "    b.append(i)"
   ]
  },
  {
   "cell_type": "code",
   "execution_count": 56,
   "id": "b3edd471-33db-4481-99ff-fb950e02aa8e",
   "metadata": {},
   "outputs": [
    {
     "data": {
      "text/plain": [
       "[1, 2, 3, 4, 5, 6, 7, 8, 9, 10]"
      ]
     },
     "execution_count": 56,
     "metadata": {},
     "output_type": "execute_result"
    }
   ],
   "source": [
    "b"
   ]
  },
  {
   "cell_type": "code",
   "execution_count": 57,
   "id": "f10b6d04-3fcc-4a66-9ec9-b59e27e0ac4b",
   "metadata": {},
   "outputs": [
    {
     "data": {
      "text/plain": [
       "(10, 10)"
      ]
     },
     "execution_count": 57,
     "metadata": {},
     "output_type": "execute_result"
    }
   ],
   "source": [
    "len(a), len(b)"
   ]
  },
  {
   "cell_type": "code",
   "execution_count": 58,
   "id": "2208d18f-8be9-4789-b1da-2f0fd61305ac",
   "metadata": {},
   "outputs": [
    {
     "data": {
      "text/plain": [
       "[1, 2, 3, 4, 5, 6, 7, 8, 9, 10]"
      ]
     },
     "execution_count": 58,
     "metadata": {},
     "output_type": "execute_result"
    }
   ],
   "source": [
    "b"
   ]
  },
  {
   "cell_type": "code",
   "execution_count": 61,
   "id": "8134aac9-42e8-4755-aa3d-6963d3021c2c",
   "metadata": {},
   "outputs": [],
   "source": [
    "c = [i for i in a]"
   ]
  },
  {
   "cell_type": "code",
   "execution_count": 62,
   "id": "4cde743f-9f50-432d-b30c-b63b93f4bd8a",
   "metadata": {},
   "outputs": [
    {
     "data": {
      "text/plain": [
       "[1, 2, 3, 4, 5, 6, 7, 8, 9, 10]"
      ]
     },
     "execution_count": 62,
     "metadata": {},
     "output_type": "execute_result"
    }
   ],
   "source": [
    "c"
   ]
  },
  {
   "cell_type": "code",
   "execution_count": 64,
   "id": "6390a59e-0ae9-437f-a7fb-55772b0d3110",
   "metadata": {},
   "outputs": [
    {
     "data": {
      "text/plain": [
       "[1, 2, 3, 4, 5, 6, 7, 8, 9, 10]"
      ]
     },
     "execution_count": 64,
     "metadata": {},
     "output_type": "execute_result"
    }
   ],
   "source": [
    "[x for x in a]"
   ]
  },
  {
   "cell_type": "code",
   "execution_count": 74,
   "id": "a5a391b9-b8a2-43a1-bbed-7974ee459fa5",
   "metadata": {},
   "outputs": [
    {
     "data": {
      "text/plain": [
       "[2, 4, 6, 8, 10, 12, 14, 16, 18, 20]"
      ]
     },
     "execution_count": 74,
     "metadata": {},
     "output_type": "execute_result"
    }
   ],
   "source": [
    "[x*2 for x in a]"
   ]
  },
  {
   "cell_type": "code",
   "execution_count": 77,
   "id": "74a86685-727b-4d51-99b7-45f8700e85b5",
   "metadata": {},
   "outputs": [
    {
     "data": {
      "text/plain": [
       "[1, 3, 5, 7, 9]"
      ]
     },
     "execution_count": 77,
     "metadata": {},
     "output_type": "execute_result"
    }
   ],
   "source": [
    "[x for x in a if x%2 == 1 ]"
   ]
  },
  {
   "cell_type": "code",
   "execution_count": 78,
   "id": "2e5ab92e-17ee-4ffb-9b22-8a948308448f",
   "metadata": {},
   "outputs": [
    {
     "data": {
      "text/plain": [
       "['anusha',\n",
       " 'hemanth',\n",
       " 'hiranmai',\n",
       " 'lavanya',\n",
       " 'nagarjuna',\n",
       " 'naveen',\n",
       " 'pavan',\n",
       " 'gopi',\n",
       " 'sunny',\n",
       " 'syed',\n",
       " 'gowtham']"
      ]
     },
     "execution_count": 78,
     "metadata": {},
     "output_type": "execute_result"
    }
   ],
   "source": [
    "names"
   ]
  },
  {
   "cell_type": "code",
   "execution_count": 94,
   "id": "698d1a1b-55e8-46aa-a6e9-7525f75890b6",
   "metadata": {},
   "outputs": [
    {
     "data": {
      "text/plain": [
       "['anusha',\n",
       " 'hemanth',\n",
       " 'hiranmai',\n",
       " 'lavanya',\n",
       " 'nagarjuna',\n",
       " 'naveen',\n",
       " 'pavan',\n",
       " 'gowtham']"
      ]
     },
     "execution_count": 94,
     "metadata": {},
     "output_type": "execute_result"
    }
   ],
   "source": [
    "[name for name in names if name.find(\"a\") != -1]"
   ]
  },
  {
   "cell_type": "code",
   "execution_count": 82,
   "id": "c7c14998-d794-4f55-a80b-1ff464c07f2c",
   "metadata": {},
   "outputs": [],
   "source": [
    "my_name = \"jagadeesh\""
   ]
  },
  {
   "cell_type": "code",
   "execution_count": 83,
   "id": "d33a9304-8379-42e7-8e68-b41d70e71ebb",
   "metadata": {},
   "outputs": [
    {
     "data": {
      "text/plain": [
       "str"
      ]
     },
     "execution_count": 83,
     "metadata": {},
     "output_type": "execute_result"
    }
   ],
   "source": [
    "type(my_name)"
   ]
  },
  {
   "cell_type": "code",
   "execution_count": 91,
   "id": "19c6aef9-d8bb-427b-9ccd-07ad80572cd7",
   "metadata": {},
   "outputs": [],
   "source": [
    "res = my_name.find(\"g\")"
   ]
  },
  {
   "cell_type": "code",
   "execution_count": 92,
   "id": "60d5b7ec-f850-4a06-9483-5cfb3646ed13",
   "metadata": {},
   "outputs": [
    {
     "data": {
      "text/plain": [
       "2"
      ]
     },
     "execution_count": 92,
     "metadata": {},
     "output_type": "execute_result"
    }
   ],
   "source": [
    "res"
   ]
  },
  {
   "cell_type": "code",
   "execution_count": 93,
   "id": "ec54220e-779c-4dc4-a891-75620fa6e021",
   "metadata": {},
   "outputs": [
    {
     "data": {
      "text/plain": [
       "'jagadeesh'"
      ]
     },
     "execution_count": 93,
     "metadata": {},
     "output_type": "execute_result"
    }
   ],
   "source": [
    "my_name"
   ]
  },
  {
   "cell_type": "code",
   "execution_count": 102,
   "id": "af5792ad-f3f6-4e76-a4c8-9ee582e18fdc",
   "metadata": {},
   "outputs": [
    {
     "data": {
      "text/plain": [
       "True"
      ]
     },
     "execution_count": 102,
     "metadata": {},
     "output_type": "execute_result"
    }
   ],
   "source": [
    "'a' in 'jagadeesh'"
   ]
  },
  {
   "cell_type": "code",
   "execution_count": 112,
   "id": "38ad2f36-3579-41ce-a202-5f6dd05d05d3",
   "metadata": {},
   "outputs": [],
   "source": [
    "c = [ name for name in names if 'a' in name]"
   ]
  },
  {
   "cell_type": "code",
   "execution_count": 113,
   "id": "2b498d14-a843-4df4-9f6f-359312fa842a",
   "metadata": {},
   "outputs": [
    {
     "data": {
      "text/plain": [
       "['anusha',\n",
       " 'hemanth',\n",
       " 'hiranmai',\n",
       " 'lavanya',\n",
       " 'nagarjuna',\n",
       " 'naveen',\n",
       " 'pavan',\n",
       " 'gowtham']"
      ]
     },
     "execution_count": 113,
     "metadata": {},
     "output_type": "execute_result"
    }
   ],
   "source": [
    "c"
   ]
  },
  {
   "cell_type": "code",
   "execution_count": 114,
   "id": "16f091ba-c4df-4c58-9bd6-6ea807602046",
   "metadata": {},
   "outputs": [
    {
     "data": {
      "text/plain": [
       "[1, 2, 3, 4, 5, 6, 7, 8, 9, 10]"
      ]
     },
     "execution_count": 114,
     "metadata": {},
     "output_type": "execute_result"
    }
   ],
   "source": [
    "a"
   ]
  },
  {
   "cell_type": "code",
   "execution_count": 115,
   "id": "6dde9c7f-4f42-49c6-a7b9-decc9c220ef7",
   "metadata": {},
   "outputs": [
    {
     "data": {
      "text/plain": [
       "['anusha',\n",
       " 'hemanth',\n",
       " 'hiranmai',\n",
       " 'lavanya',\n",
       " 'nagarjuna',\n",
       " 'naveen',\n",
       " 'pavan',\n",
       " 'gopi',\n",
       " 'sunny',\n",
       " 'syed',\n",
       " 'gowtham']"
      ]
     },
     "execution_count": 115,
     "metadata": {},
     "output_type": "execute_result"
    }
   ],
   "source": [
    "names"
   ]
  },
  {
   "cell_type": "code",
   "execution_count": 116,
   "id": "d1d4a1db-40ed-4806-9107-c2be474113ee",
   "metadata": {},
   "outputs": [
    {
     "data": {
      "text/plain": [
       "11"
      ]
     },
     "execution_count": 116,
     "metadata": {},
     "output_type": "execute_result"
    }
   ],
   "source": [
    "len(names)"
   ]
  },
  {
   "cell_type": "code",
   "execution_count": 119,
   "id": "4984cb32-c3c5-45cd-b208-ddd9d693266d",
   "metadata": {},
   "outputs": [
    {
     "data": {
      "text/plain": [
       "{'anusha': 1,\n",
       " 'hemanth': 2,\n",
       " 'hiranmai': 3,\n",
       " 'lavanya': 4,\n",
       " 'nagarjuna': 5,\n",
       " 'naveen': 2,\n",
       " 'pavan': 1,\n",
       " 'gopi': 0,\n",
       " 'sunny': 1,\n",
       " 'syed': 4,\n",
       " 'gowtham': 5}"
      ]
     },
     "execution_count": 119,
     "metadata": {},
     "output_type": "execute_result"
    }
   ],
   "source": [
    " {\n",
    " 'anusha' : 1,\n",
    " 'hemanth' : 2,\n",
    " 'hiranmai' : 3,\n",
    " 'lavanya' : 4,\n",
    " 'nagarjuna' : 5,\n",
    " 'naveen' : 2,\n",
    " 'pavan' : 1,\n",
    " 'gopi' : 0,\n",
    " 'sunny' : 1,\n",
    " 'syed' : 4,\n",
    " 'gowtham' : 5\n",
    " }"
   ]
  },
  {
   "cell_type": "code",
   "execution_count": 125,
   "id": "118e1cce-5a5b-4d05-aa6d-96517ab13f7c",
   "metadata": {},
   "outputs": [],
   "source": [
    "candidates = {\n",
    " 'anusha' : 1,\n",
    " 'hemanth' : 2,\n",
    " 'hiranmai' : 3,\n",
    " 'lavanya' : 4,\n",
    " 'nagarjuna' : 5,\n",
    " 'naveen' : 2,\n",
    " 'pavan' : 1,\n",
    " 'gopi' : 0,\n",
    " 'sunny' : 1,\n",
    " 'syed' : 4,\n",
    " 'gowtham' : 5\n",
    " }"
   ]
  },
  {
   "cell_type": "code",
   "execution_count": 126,
   "id": "4d346317-96bf-40d0-9b0d-a057be403707",
   "metadata": {},
   "outputs": [
    {
     "data": {
      "text/plain": [
       "dict"
      ]
     },
     "execution_count": 126,
     "metadata": {},
     "output_type": "execute_result"
    }
   ],
   "source": [
    "type(candidates)"
   ]
  },
  {
   "cell_type": "code",
   "execution_count": 128,
   "id": "d402baa2-ed17-4f14-8735-af6ede3e4468",
   "metadata": {},
   "outputs": [],
   "source": [
    "fruits = {}"
   ]
  },
  {
   "cell_type": "code",
   "execution_count": 129,
   "id": "dcf653cf-30ba-4919-b862-29f7197cd82c",
   "metadata": {},
   "outputs": [
    {
     "data": {
      "text/plain": [
       "0"
      ]
     },
     "execution_count": 129,
     "metadata": {},
     "output_type": "execute_result"
    }
   ],
   "source": [
    "len(fruits)"
   ]
  },
  {
   "cell_type": "code",
   "execution_count": 130,
   "id": "546f4e91-cec7-4277-b4cd-a8f77c70e6e6",
   "metadata": {},
   "outputs": [],
   "source": [
    "fruits = {\"apples\": 1, \"banana\":2, \"cherry\": 3}"
   ]
  },
  {
   "cell_type": "code",
   "execution_count": 131,
   "id": "4968b2f1-0a89-4698-bfbd-33a40f6f30ed",
   "metadata": {},
   "outputs": [
    {
     "data": {
      "text/plain": [
       "{'apples': 1, 'banana': 2, 'cherry': 3}"
      ]
     },
     "execution_count": 131,
     "metadata": {},
     "output_type": "execute_result"
    }
   ],
   "source": [
    "fruits"
   ]
  },
  {
   "cell_type": "code",
   "execution_count": 133,
   "id": "3c58465d-5219-4882-bd05-4530c1d51a78",
   "metadata": {},
   "outputs": [
    {
     "ename": "KeyError",
     "evalue": "'papaya'",
     "output_type": "error",
     "traceback": [
      "\u001b[31m---------------------------------------------------------------------------\u001b[39m",
      "\u001b[31mKeyError\u001b[39m                                  Traceback (most recent call last)",
      "\u001b[36mCell\u001b[39m\u001b[36m \u001b[39m\u001b[32mIn[133]\u001b[39m\u001b[32m, line 1\u001b[39m\n\u001b[32m----> \u001b[39m\u001b[32m1\u001b[39m \u001b[43mfruits\u001b[49m\u001b[43m[\u001b[49m\u001b[33;43m'\u001b[39;49m\u001b[33;43mpapaya\u001b[39;49m\u001b[33;43m'\u001b[39;49m\u001b[43m]\u001b[49m\n",
      "\u001b[31mKeyError\u001b[39m: 'papaya'"
     ]
    }
   ],
   "source": [
    "fruits['papaya']"
   ]
  },
  {
   "cell_type": "code",
   "execution_count": 134,
   "id": "4895823c-7699-4ac2-ac2c-2d6142c7c471",
   "metadata": {},
   "outputs": [
    {
     "data": {
      "text/plain": [
       "5"
      ]
     },
     "execution_count": 134,
     "metadata": {},
     "output_type": "execute_result"
    }
   ],
   "source": [
    "candidates['nagarjuna']"
   ]
  }
 ],
 "metadata": {
  "kernelspec": {
   "display_name": "Python 3 (ipykernel)",
   "language": "python",
   "name": "python3"
  },
  "language_info": {
   "codemirror_mode": {
    "name": "ipython",
    "version": 3
   },
   "file_extension": ".py",
   "mimetype": "text/x-python",
   "name": "python",
   "nbconvert_exporter": "python",
   "pygments_lexer": "ipython3",
   "version": "3.13.7"
  }
 },
 "nbformat": 4,
 "nbformat_minor": 5
}
