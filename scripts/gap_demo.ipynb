{
 "cells": [
  {
   "cell_type": "code",
   "execution_count": 9,
   "id": "fbfebbed-6acf-4348-a3e5-cb72e142d00c",
   "metadata": {},
   "outputs": [
    {
     "data": {
      "text/plain": [
       "2"
      ]
     },
     "execution_count": 9,
     "metadata": {},
     "output_type": "execute_result"
    }
   ],
   "source": [
    "1+1"
   ]
  },
  {
   "cell_type": "code",
   "execution_count": 8,
   "id": "8692b2ee-12d4-4cfa-a473-c1bd8dffebab",
   "metadata": {},
   "outputs": [
    {
     "data": {
      "text/plain": [
       "12.420000000000002"
      ]
     },
     "execution_count": 8,
     "metadata": {},
     "output_type": "execute_result"
    }
   ],
   "source": [
    "3.45 + 8.97"
   ]
  },
  {
   "cell_type": "code",
   "execution_count": 6,
   "id": "1e5df306-19d8-4990-aa61-420de5e5173f",
   "metadata": {},
   "outputs": [],
   "source": [
    "msg = \"Hello ramesh\""
   ]
  },
  {
   "cell_type": "code",
   "execution_count": 7,
   "id": "7365e71e-de2c-40b3-a41f-74a5c178af5f",
   "metadata": {},
   "outputs": [
    {
     "name": "stdout",
     "output_type": "stream",
     "text": [
      "Hello ramesh\n"
     ]
    }
   ],
   "source": [
    "print(msg)"
   ]
  }
 ],
 "metadata": {
  "kernelspec": {
   "display_name": "Python 3 (ipykernel)",
   "language": "python",
   "name": "python3"
  },
  "language_info": {
   "codemirror_mode": {
    "name": "ipython",
    "version": 3
   },
   "file_extension": ".py",
   "mimetype": "text/x-python",
   "name": "python",
   "nbconvert_exporter": "python",
   "pygments_lexer": "ipython3",
   "version": "3.13.7"
  }
 },
 "nbformat": 4,
 "nbformat_minor": 5
}
