{
 "cells": [
  {
   "cell_type": "code",
   "execution_count": 1,
   "id": "54cf3840-a1a0-4fa5-85e7-d8e04b59cc10",
   "metadata": {},
   "outputs": [],
   "source": [
    "def dollar_to_euro(dollar_amount, conversion_rate):\n",
    "    euro_amount = dollar_amount * conversion_rate\n",
    "    print(euro_amount)"
   ]
  },
  {
   "cell_type": "code",
   "execution_count": 8,
   "id": "a47a14ab-8054-4c6b-90fd-b3da3c0681ea",
   "metadata": {},
   "outputs": [
    {
     "name": "stdout",
     "output_type": "stream",
     "text": [
      "Help on function dollar_to_euro in module __main__:\n",
      "\n",
      "dollar_to_euro(dollar_amount, conversion_rate)\n",
      "\n"
     ]
    }
   ],
   "source": [
    "help(dollar_to_euro)"
   ]
  },
  {
   "cell_type": "code",
   "execution_count": 6,
   "id": "cebf6093-a139-40dd-b398-d95eccb9eb12",
   "metadata": {},
   "outputs": [
    {
     "name": "stdout",
     "output_type": "stream",
     "text": [
      "8.52\n"
     ]
    }
   ],
   "source": [
    "# method invocation/calling\n",
    "dollar_to_euro(10, 0.852)"
   ]
  },
  {
   "cell_type": "code",
   "execution_count": 14,
   "id": "cf8941f9-f337-4e4f-9329-41d5740a8c6c",
   "metadata": {},
   "outputs": [
    {
     "name": "stdout",
     "output_type": "stream",
     "text": [
      "8.52\n"
     ]
    }
   ],
   "source": [
    "# named invocation\n",
    "dollar_to_euro(dollar_amount=10, conversion_rate=0.852)"
   ]
  },
  {
   "cell_type": "code",
   "execution_count": 15,
   "id": "54bf582a-fd44-4b04-9a20-1489725e5ae5",
   "metadata": {},
   "outputs": [
    {
     "name": "stdout",
     "output_type": "stream",
     "text": [
      "8.52\n"
     ]
    }
   ],
   "source": [
    "# named invocation\n",
    "dollar_to_euro(conversion_rate=0.852, dollar_amount=10)"
   ]
  },
  {
   "cell_type": "code",
   "execution_count": 17,
   "id": "312825f8-0475-4cc0-889f-704e36cf735d",
   "metadata": {},
   "outputs": [
    {
     "name": "stdout",
     "output_type": "stream",
     "text": [
      "8.52\n"
     ]
    }
   ],
   "source": [
    "# named invocation\n",
    "dollar_to_euro(dollar_amount=10, conversion_rate=0.852)"
   ]
  },
  {
   "cell_type": "code",
   "execution_count": 19,
   "id": "f56b3e6c-4d8d-4cfd-be57-672e0b9f5fbe",
   "metadata": {},
   "outputs": [],
   "source": [
    "def dollar_to_euro_default(dollar_amount, conversion_rate=0.852):\n",
    "    euro_amount = dollar_amount * conversion_rate\n",
    "    print(euro_amount)"
   ]
  },
  {
   "cell_type": "code",
   "execution_count": 20,
   "id": "3cd7c29b-6f6d-4f05-b348-c989ee063f3d",
   "metadata": {},
   "outputs": [
    {
     "name": "stdout",
     "output_type": "stream",
     "text": [
      "8.52\n"
     ]
    }
   ],
   "source": [
    "dollar_to_euro_default(10)"
   ]
  },
  {
   "cell_type": "code",
   "execution_count": 22,
   "id": "bc45dd25-98d7-4832-9513-faf41952908e",
   "metadata": {},
   "outputs": [
    {
     "name": "stdout",
     "output_type": "stream",
     "text": [
      "5.0\n"
     ]
    }
   ],
   "source": [
    "dollar_to_euro_default(10, 0.5)"
   ]
  },
  {
   "cell_type": "code",
   "execution_count": 28,
   "id": "8b93206a-7617-4a98-b24d-147c9b9f521f",
   "metadata": {},
   "outputs": [],
   "source": [
    "def dollar_to_euro_default(dollar_amount=1, conversion_rate=0.852):\n",
    "    euro_amount = dollar_amount * conversion_rate\n",
    "    print(euro_amount)"
   ]
  },
  {
   "cell_type": "code",
   "execution_count": 34,
   "id": "2f7b1c57-5793-4de6-88d6-1c27059d6bb8",
   "metadata": {},
   "outputs": [
    {
     "name": "stdout",
     "output_type": "stream",
     "text": [
      "60.0\n"
     ]
    }
   ],
   "source": [
    "dollar_to_euro_default(conversion_rate=0.6, dollar_amount=100)"
   ]
  },
  {
   "cell_type": "code",
   "execution_count": 36,
   "id": "f6ae4704-5f5d-4c72-aaa1-0c020d91ac9f",
   "metadata": {},
   "outputs": [],
   "source": [
    "def dollar_to_euro_default(dollar_amount, conversion_rate=0.852):\n",
    "    euro_amount = dollar_amount * conversion_rate\n",
    "    print(euro_amount)"
   ]
  },
  {
   "cell_type": "code",
   "execution_count": 37,
   "id": "18d9c1bc-7416-41fd-8959-5eccfab223ce",
   "metadata": {},
   "outputs": [],
   "source": [
    "def dollar_to_euro(dollar_amount):\n",
    "    dollar_to_euro_default(dollar_amount)"
   ]
  },
  {
   "cell_type": "code",
   "execution_count": 40,
   "id": "348b5164-4808-4c4e-a312-89b77f730f17",
   "metadata": {},
   "outputs": [
    {
     "name": "stdout",
     "output_type": "stream",
     "text": [
      "8.52\n"
     ]
    }
   ],
   "source": [
    "dollar_to_euro(10)"
   ]
  },
  {
   "cell_type": "code",
   "execution_count": 41,
   "id": "64653e41-e6d6-43cb-b66f-c032c6ee62b5",
   "metadata": {},
   "outputs": [],
   "source": [
    "def dollar_to_euro(dollar_amount):\n",
    "    euro_amount = dollar_amount * 0.852\n",
    "    print(euro_amount)"
   ]
  },
  {
   "cell_type": "code",
   "execution_count": 43,
   "id": "5f04a1cb-4abd-49aa-bb1c-87dab0a19c63",
   "metadata": {},
   "outputs": [
    {
     "name": "stdout",
     "output_type": "stream",
     "text": [
      "8.52\n"
     ]
    }
   ],
   "source": [
    "dollar_to_euro(10)"
   ]
  },
  {
   "cell_type": "code",
   "execution_count": 44,
   "id": "c68e7563-fdc5-4575-b4b9-ccac01e45ca2",
   "metadata": {},
   "outputs": [],
   "source": [
    "def dollar_to_euro(dollar_amount, conversion_rate):\n",
    "    \"\"\"\n",
    "    method_name : dollar_to_euro\n",
    "    parameters : \n",
    "    1) dollar_amount : float \n",
    "    2) conversion_rate : float \n",
    "    action : \n",
    "    method prints the dollar to euro conversion value\n",
    "    \"\"\"\n",
    "    euro_amount = dollar_amount * conversion_rate\n",
    "    print(euro_amount)"
   ]
  },
  {
   "cell_type": "code",
   "execution_count": 45,
   "id": "f8a77b83-18c6-4f39-ba7a-747e50bfc6f8",
   "metadata": {},
   "outputs": [
    {
     "name": "stdout",
     "output_type": "stream",
     "text": [
      "Help on function dollar_to_euro in module __main__:\n",
      "\n",
      "dollar_to_euro(dollar_amount, conversion_rate)\n",
      "    method_name : dollar_to_euro\n",
      "    parameters :\n",
      "    1) dollar_amount : float\n",
      "    2) conversion_rate : float\n",
      "    action :\n",
      "    method prints the dollar to euro conversion value\n",
      "\n"
     ]
    }
   ],
   "source": [
    "help(dollar_to_euro)"
   ]
  },
  {
   "cell_type": "code",
   "execution_count": 46,
   "id": "8cc6310b-bc96-4c57-9f06-726cbb03a81f",
   "metadata": {},
   "outputs": [
    {
     "name": "stdout",
     "output_type": "stream",
     "text": [
      "Help on built-in function print in module builtins:\n",
      "\n",
      "print(*args, sep=' ', end='\\n', file=None, flush=False)\n",
      "    Prints the values to a stream, or to sys.stdout by default.\n",
      "\n",
      "    sep\n",
      "      string inserted between values, default a space.\n",
      "    end\n",
      "      string appended after the last value, default a newline.\n",
      "    file\n",
      "      a file-like object (stream); defaults to the current sys.stdout.\n",
      "    flush\n",
      "      whether to forcibly flush the stream.\n",
      "\n"
     ]
    }
   ],
   "source": [
    "help(print)"
   ]
  },
  {
   "cell_type": "code",
   "execution_count": 47,
   "id": "d8448776-8a15-40ce-8078-8ab6babb60b6",
   "metadata": {},
   "outputs": [
    {
     "name": "stdout",
     "output_type": "stream",
     "text": [
      "10\n",
      "20\n"
     ]
    }
   ],
   "source": [
    "print(10)\n",
    "print(20)"
   ]
  },
  {
   "cell_type": "code",
   "execution_count": 58,
   "id": "203a0603-2c5e-49ab-9a64-7d8776a568b2",
   "metadata": {},
   "outputs": [
    {
     "name": "stdout",
     "output_type": "stream",
     "text": [
      "10#20#30$20\n"
     ]
    }
   ],
   "source": [
    "print(10, 20, 30, sep='#', end='$')\n",
    "print(20)"
   ]
  },
  {
   "cell_type": "code",
   "execution_count": 59,
   "id": "d4fd1b9b-ae0f-4159-b94d-a26895cdfba4",
   "metadata": {},
   "outputs": [
    {
     "data": {
      "text/plain": [
       "6"
      ]
     },
     "execution_count": 59,
     "metadata": {},
     "output_type": "execute_result"
    }
   ],
   "source": [
    "len(\"Venkat\")"
   ]
  },
  {
   "cell_type": "code",
   "execution_count": 60,
   "id": "f6d6cfb8-bd51-4b1a-a53e-81952d812e3e",
   "metadata": {},
   "outputs": [
    {
     "name": "stdout",
     "output_type": "stream",
     "text": [
      "Help on built-in function len in module builtins:\n",
      "\n",
      "len(obj, /)\n",
      "    Return the number of items in a container.\n",
      "\n"
     ]
    }
   ],
   "source": [
    "help(len)"
   ]
  },
  {
   "cell_type": "code",
   "execution_count": 62,
   "id": "74d071a3-890a-4306-8505-3839e91d7ec5",
   "metadata": {},
   "outputs": [
    {
     "data": {
      "text/plain": [
       "105"
      ]
     },
     "execution_count": 62,
     "metadata": {},
     "output_type": "execute_result"
    }
   ],
   "source": [
    "max(94, 105, 32)"
   ]
  },
  {
   "cell_type": "code",
   "execution_count": 63,
   "id": "8bfe0887-a0e8-4ea9-a42e-c3ae46b9cdd0",
   "metadata": {},
   "outputs": [
    {
     "data": {
      "text/plain": [
       "32"
      ]
     },
     "execution_count": 63,
     "metadata": {},
     "output_type": "execute_result"
    }
   ],
   "source": [
    "min(94, 105, 32)"
   ]
  },
  {
   "cell_type": "code",
   "execution_count": 64,
   "id": "44375cdf-b354-44ae-8679-18a8adf53696",
   "metadata": {},
   "outputs": [
    {
     "name": "stdout",
     "output_type": "stream",
     "text": [
      "10\n"
     ]
    }
   ],
   "source": [
    "print(10)"
   ]
  },
  {
   "cell_type": "code",
   "execution_count": 65,
   "id": "e8d89326-62a4-4937-97fd-bf63d3f04927",
   "metadata": {},
   "outputs": [
    {
     "name": "stdout",
     "output_type": "stream",
     "text": [
      "9.765\n"
     ]
    }
   ],
   "source": [
    "print(9.765)"
   ]
  },
  {
   "cell_type": "code",
   "execution_count": 66,
   "id": "c55401e5-f93e-4454-b249-e48242283010",
   "metadata": {},
   "outputs": [
    {
     "name": "stdout",
     "output_type": "stream",
     "text": [
      "False\n"
     ]
    }
   ],
   "source": [
    "print(10>20)"
   ]
  },
  {
   "cell_type": "code",
   "execution_count": 70,
   "id": "abae9f84-b0d9-4034-a8a1-dbe7e63ee721",
   "metadata": {},
   "outputs": [
    {
     "name": "stdout",
     "output_type": "stream",
     "text": [
      "False#True\n"
     ]
    }
   ],
   "source": [
    "print(10>20, 30<40, sep='#')"
   ]
  }
 ],
 "metadata": {
  "kernelspec": {
   "display_name": "Python 3 (ipykernel)",
   "language": "python",
   "name": "python3"
  },
  "language_info": {
   "codemirror_mode": {
    "name": "ipython",
    "version": 3
   },
   "file_extension": ".py",
   "mimetype": "text/x-python",
   "name": "python",
   "nbconvert_exporter": "python",
   "pygments_lexer": "ipython3",
   "version": "3.13.7"
  }
 },
 "nbformat": 4,
 "nbformat_minor": 5
}
