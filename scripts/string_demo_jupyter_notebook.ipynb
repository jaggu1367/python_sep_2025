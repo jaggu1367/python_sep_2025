{
 "cells": [
  {
   "cell_type": "code",
   "execution_count": 2,
   "id": "2002ae7c-7f49-41ed-bd65-510c11d4e2d0",
   "metadata": {},
   "outputs": [],
   "source": [
    "name = \"jagadeesh\""
   ]
  },
  {
   "cell_type": "code",
   "execution_count": 3,
   "id": "3d74f6ba-c2a1-48cf-8744-aecb1cd9bae4",
   "metadata": {},
   "outputs": [],
   "source": [
    "name = 'jagadeesh'"
   ]
  },
  {
   "cell_type": "code",
   "execution_count": 27,
   "id": "81e4a361-6218-4f06-988a-7879188c9a38",
   "metadata": {},
   "outputs": [],
   "source": [
    "para_1 = \"\"\"Every sunrise is a fresh start a quiet reminder that you have another chance to move closer to the life you want.\n",
    "Youre not behind youre right where you need to be to begin again The world doesnt wait and neither should you.\n",
    "Success isnt built in comfort but in the moments you choose discipline over ease Someone out there is wishing for the opportunities you have today Dont let them slip away.\n",
    "Your dreams are real but they need your effort to grow Youve faced tough days before and made it through this morning is no different.\n",
    "Progress is built when no one is watching when you rise while others sleep Today might just be the day everything starts to shift but only if you get up and take that first step.\n",
    "\"\"\""
   ]
  },
  {
   "cell_type": "code",
   "execution_count": 25,
   "id": "a5f008de-679e-4247-bab3-b6a16371de85",
   "metadata": {},
   "outputs": [],
   "source": [
    "para_2 = '''Every sunrise is a fresh start a quiet reminder that you have another chance to move closer to the life you want.\n",
    "Youre not behind youre right where you need to be to begin again The world doesnt wait and neither should you.\n",
    "Success isnt built in comfort but in the moments you choose discipline over ease Someone out there is wishing for the opportunities you have today Dont let them slip away.\n",
    "Your dreams are real but they need your effort to grow Youve faced tough days before and made it through this morning is no different.\n",
    "Progress is built when no one is watching when you rise while others sleep Today might just be the day everything starts to shift but only if you get up and take that first step.\n",
    "'''"
   ]
  },
  {
   "cell_type": "code",
   "execution_count": 26,
   "id": "0395b568-1562-4c5b-ac20-ca7645201af7",
   "metadata": {},
   "outputs": [
    {
     "name": "stdout",
     "output_type": "stream",
     "text": [
      "Every sunrise is a fresh start a quiet reminder that you have another chance to move closer to the life you want.\n",
      "Youre not behind youre right where you need to be to begin again The world doesnt wait and neither should you.\n",
      "Success isnt built in comfort but in the moments you choose discipline over ease Someone out there is wishing for the opportunities you have today Dont let them slip away.\n",
      "Your dreams are real but they need your effort to grow Youve faced tough days before and made it through this morning is no different.\n",
      "Progress is built when no one is watching when you rise while others sleep Today might just be the day everything starts to shift but only if you get up and take that first step.\n",
      "\n"
     ]
    }
   ],
   "source": [
    "print(para_2)"
   ]
  },
  {
   "cell_type": "code",
   "execution_count": 28,
   "id": "08bcbe5b-f3b5-409e-a476-aa0ce0a83480",
   "metadata": {},
   "outputs": [],
   "source": [
    "name = \"nagarjuna\""
   ]
  },
  {
   "cell_type": "code",
   "execution_count": 29,
   "id": "1b9f95a7-6918-40ec-a44d-eebbdcfbffa4",
   "metadata": {},
   "outputs": [
    {
     "data": {
      "text/plain": [
       "9"
      ]
     },
     "execution_count": 29,
     "metadata": {},
     "output_type": "execute_result"
    }
   ],
   "source": [
    "len(name)"
   ]
  },
  {
   "cell_type": "code",
   "execution_count": 30,
   "id": "d5710103-cd79-4a23-806b-1e6271e7b13f",
   "metadata": {},
   "outputs": [],
   "source": [
    "name = \"nagarjuna\""
   ]
  },
  {
   "cell_type": "code",
   "execution_count": 31,
   "id": "a128ab7c-3e4d-4548-93ea-c67f70dc6561",
   "metadata": {},
   "outputs": [
    {
     "data": {
      "text/plain": [
       "'n'"
      ]
     },
     "execution_count": 31,
     "metadata": {},
     "output_type": "execute_result"
    }
   ],
   "source": [
    "name[0]"
   ]
  },
  {
   "cell_type": "code",
   "execution_count": 32,
   "id": "1cdeefed-4dd7-4f3e-9cbf-ee88b67208ef",
   "metadata": {},
   "outputs": [
    {
     "data": {
      "text/plain": [
       "'a'"
      ]
     },
     "execution_count": 32,
     "metadata": {},
     "output_type": "execute_result"
    }
   ],
   "source": [
    "name[-1]"
   ]
  },
  {
   "cell_type": "code",
   "execution_count": 38,
   "id": "6d2efc26-1798-4e80-95e4-7c40d87cee1b",
   "metadata": {},
   "outputs": [
    {
     "data": {
      "text/plain": [
       "'naga'"
      ]
     },
     "execution_count": 38,
     "metadata": {},
     "output_type": "execute_result"
    }
   ],
   "source": [
    "name[0:4]"
   ]
  },
  {
   "cell_type": "code",
   "execution_count": 39,
   "id": "b02faaa3-6a1b-4db0-9bd5-3db6a14fb545",
   "metadata": {},
   "outputs": [
    {
     "data": {
      "text/plain": [
       "'a'"
      ]
     },
     "execution_count": 39,
     "metadata": {},
     "output_type": "execute_result"
    }
   ],
   "source": [
    "name[1:2]"
   ]
  },
  {
   "cell_type": "code",
   "execution_count": 41,
   "id": "2981e3fd-92a1-49ee-95d6-537538cce5e1",
   "metadata": {},
   "outputs": [
    {
     "data": {
      "text/plain": [
       "'arjuna'"
      ]
     },
     "execution_count": 41,
     "metadata": {},
     "output_type": "execute_result"
    }
   ],
   "source": [
    "name[3:len(name)]"
   ]
  },
  {
   "cell_type": "code",
   "execution_count": 43,
   "id": "3d6ab666-d9cf-49f6-b827-d37bfaf15d12",
   "metadata": {},
   "outputs": [
    {
     "data": {
      "text/plain": [
       "'arjuna'"
      ]
     },
     "execution_count": 43,
     "metadata": {},
     "output_type": "execute_result"
    }
   ],
   "source": [
    "name[3:]"
   ]
  },
  {
   "cell_type": "code",
   "execution_count": 44,
   "id": "f2836ca1-14ea-4efa-bd0d-c45cba775588",
   "metadata": {
    "scrolled": true
   },
   "outputs": [
    {
     "ename": "IndexError",
     "evalue": "string index out of range",
     "output_type": "error",
     "traceback": [
      "\u001b[31m---------------------------------------------------------------------------\u001b[39m",
      "\u001b[31mIndexError\u001b[39m                                Traceback (most recent call last)",
      "\u001b[36mCell\u001b[39m\u001b[36m \u001b[39m\u001b[32mIn[44]\u001b[39m\u001b[32m, line 1\u001b[39m\n\u001b[32m----> \u001b[39m\u001b[32m1\u001b[39m \u001b[43mname\u001b[49m\u001b[43m[\u001b[49m\u001b[32;43m9\u001b[39;49m\u001b[43m]\u001b[49m \n",
      "\u001b[31mIndexError\u001b[39m: string index out of range"
     ]
    }
   ],
   "source": [
    "\n",
    "#0,1,2,3...8\n",
    "name[9] "
   ]
  },
  {
   "cell_type": "code",
   "execution_count": 51,
   "id": "a4bcc563-5def-4b4a-a2ba-82e40d1c6501",
   "metadata": {},
   "outputs": [
    {
     "name": "stdout",
     "output_type": "stream",
     "text": [
      "jagadeeshverri\n",
      "jagadeesh verri\n",
      "jagadeesh verri\n"
     ]
    }
   ],
   "source": [
    "first_name = \"jagadeesh\"\n",
    "last_name = \"verri\"\n",
    "\n",
    "#concatenate\n",
    "full_name = first_name + last_name \n",
    "print(full_name)\n",
    "\n",
    "#concatenate\n",
    "full_name = first_name + \" \" + last_name \n",
    "print(full_name)\n",
    "\n",
    "#concatenate\n",
    "full_name = first_name + ' ' + last_name \n",
    "print(full_name)"
   ]
  },
  {
   "cell_type": "code",
   "execution_count": 59,
   "id": "ba7df782-ab3c-4647-8c2f-bff74be54633",
   "metadata": {},
   "outputs": [
    {
     "name": "stdout",
     "output_type": "stream",
     "text": [
      "bharath#bharath#bharath#bharath#bharath#\n"
     ]
    }
   ],
   "source": [
    "name = \"bharath\" + \"#\" \n",
    "\n",
    "repeated_name = name * 5 \n",
    "\n",
    "print(repeated_name)"
   ]
  },
  {
   "cell_type": "code",
   "execution_count": 73,
   "id": "cc1e0818-edb7-48b1-a4f1-64b5f8d69097",
   "metadata": {},
   "outputs": [
    {
     "name": "stdout",
     "output_type": "stream",
     "text": [
      "bharath\n",
      "bharath\n",
      "bharath\n",
      "bharath\n",
      "bharath\n",
      "\n"
     ]
    }
   ],
   "source": [
    "name = \"bharath\" + \"\\n\" \n",
    "\n",
    "repeated_name = name * 5 \n",
    "\n",
    "print(repeated_name)"
   ]
  },
  {
   "cell_type": "code",
   "execution_count": 67,
   "id": "57022872-74b8-4044-861f-438810892457",
   "metadata": {},
   "outputs": [
    {
     "data": {
      "text/plain": [
       "'bharat'"
      ]
     },
     "execution_count": 67,
     "metadata": {},
     "output_type": "execute_result"
    }
   ],
   "source": [
    "name = \"bharath\"\n",
    "\n",
    "result = name[0:len(name)-1]\n",
    "\n",
    "result\n"
   ]
  },
  {
   "cell_type": "code",
   "execution_count": 72,
   "id": "89f4bb4b-b286-4cfa-b074-3e83d33d8c04",
   "metadata": {},
   "outputs": [
    {
     "name": "stdout",
     "output_type": "stream",
     "text": [
      "    bharath        \n",
      "bharath\n"
     ]
    }
   ],
   "source": [
    "name = \"    bharath        \"\n",
    "\n",
    "print(name)\n",
    "\n",
    "result = name.strip()\n",
    "\n",
    "print(result)"
   ]
  },
  {
   "cell_type": "code",
   "execution_count": 79,
   "id": "f4498b6e-9569-4469-995e-bb74b7b32592",
   "metadata": {},
   "outputs": [
    {
     "name": "stdout",
     "output_type": "stream",
     "text": [
      "  hello world!  \n",
      "  HELLO WORLD!  \n",
      "Hello World!\n",
      "  Hello World!  \n"
     ]
    }
   ],
   "source": [
    "text = \"  Hello World!  \"\n",
    "print(text.lower())      # hello world!\n",
    "print(text.upper())      # hello world!\n",
    "print(text.strip())      # Hello World!\n",
    "print(text.replace(\"World\", \"Python\"))  # Hello Python!\n",
    "print(text.replace(\"Earth\", \"Python\"))  # Hello Python!\n",
    "\n",
    "# print(\"-\".join([\"Python\", \"is\", \"fun\"]))  # Python-is-fun\n",
    "# print(text.find(\"World\")) # 8\n",
    "# print(text.count(\"l\"))    # 3"
   ]
  },
  {
   "cell_type": "code",
   "execution_count": 86,
   "id": "4649342e-b476-4740-b891-2a01062a9eca",
   "metadata": {},
   "outputs": [
    {
     "name": "stdout",
     "output_type": "stream",
     "text": [
      "<class 'str'>\n",
      "HOW\n",
      "<class 'str'>\n",
      "ARE\n",
      "<class 'str'>\n",
      "YOU\n"
     ]
    }
   ],
   "source": [
    "text = \"How are you\"\n",
    "\n",
    "words = text.split()\n",
    "\n",
    "for word in words: \n",
    "    print(type(word))\n",
    "    print(word.upper())"
   ]
  },
  {
   "cell_type": "code",
   "execution_count": 93,
   "id": "06959672-9568-4658-a7af-da286c412a63",
   "metadata": {},
   "outputs": [
    {
     "data": {
      "text/plain": [
       "['bharath', 'bharath', 'bharath', 'bharath', 'bharath']"
      ]
     },
     "execution_count": 93,
     "metadata": {},
     "output_type": "execute_result"
    }
   ],
   "source": [
    "text = \"bharath#bharath#bharath#bharath#bharath\"\n",
    "text.split('#')\n"
   ]
  },
  {
   "cell_type": "code",
   "execution_count": 94,
   "id": "8e7db0e5-a488-47c6-9b5a-af5dc67c2cf6",
   "metadata": {},
   "outputs": [],
   "source": [
    "names = [\"anusha\", \"bharath\", \"chinni\", \"david\", \"eswar\"]"
   ]
  },
  {
   "cell_type": "code",
   "execution_count": 104,
   "id": "fde3bfec-fade-400d-9edb-44ee8000111a",
   "metadata": {},
   "outputs": [
    {
     "name": "stdout",
     "output_type": "stream",
     "text": [
      "anusha bharath chinni david eswar\n"
     ]
    }
   ],
   "source": [
    "result = \"\"\n",
    "for name in names:\n",
    "    result = result + name + \" \"\n",
    "\n",
    "print(result.strip())"
   ]
  },
  {
   "cell_type": "code",
   "execution_count": 115,
   "id": "a1e894cd-3d39-40ee-aeb7-ae2f6565c714",
   "metadata": {},
   "outputs": [
    {
     "data": {
      "text/plain": [
       "'anusha,bharath,chinni,david,eswar'"
      ]
     },
     "execution_count": 115,
     "metadata": {},
     "output_type": "execute_result"
    }
   ],
   "source": [
    "# using symbol join items in collection \n",
    "\",\".join(names)"
   ]
  },
  {
   "cell_type": "code",
   "execution_count": 116,
   "id": "aad8c73c-dde2-4a95-aeec-f25ba5191204",
   "metadata": {},
   "outputs": [],
   "source": [
    "text = 'anusha,bharath,chinni,david,eswar'"
   ]
  },
  {
   "cell_type": "code",
   "execution_count": 117,
   "id": "8b23a056-8791-4d43-aa3e-9cfbe56e5baf",
   "metadata": {},
   "outputs": [],
   "source": [
    "names = text.split(\",\")"
   ]
  },
  {
   "cell_type": "code",
   "execution_count": 119,
   "id": "02a5d549-f9b8-4791-972a-bca72264b513",
   "metadata": {},
   "outputs": [
    {
     "data": {
      "text/plain": [
       "'anusha$bharath$chinni$david$eswar'"
      ]
     },
     "execution_count": 119,
     "metadata": {},
     "output_type": "execute_result"
    }
   ],
   "source": [
    "\"$\".join(names)"
   ]
  },
  {
   "cell_type": "code",
   "execution_count": 124,
   "id": "15f9d6fa-83ad-4bde-993b-8ac1163049d1",
   "metadata": {},
   "outputs": [
    {
     "name": "stdout",
     "output_type": "stream",
     "text": [
      "-1\n"
     ]
    },
    {
     "data": {
      "text/plain": [
       "True"
      ]
     },
     "execution_count": 124,
     "metadata": {},
     "output_type": "execute_result"
    }
   ],
   "source": [
    "text = 'anusha bharath chinni david eswar'\n",
    "\n",
    "print(text.find(\"darwin\"))\n",
    "\n",
    "\"nni\" in text\n",
    "\n"
   ]
  },
  {
   "cell_type": "code",
   "execution_count": 129,
   "id": "60fed016-5278-4954-8501-294ff4edf378",
   "metadata": {},
   "outputs": [
    {
     "name": "stdout",
     "output_type": "stream",
     "text": [
      "5\n"
     ]
    },
    {
     "data": {
      "text/plain": [
       "4"
      ]
     },
     "execution_count": 129,
     "metadata": {},
     "output_type": "execute_result"
    }
   ],
   "source": [
    "text = 'sachin sachin sachin sachin eswar'\n",
    "print(text.count('s'))\n",
    "text.count('sachin')"
   ]
  },
  {
   "cell_type": "code",
   "execution_count": 143,
   "id": "ceba5058-f496-4efd-9e6b-80d28f9ae0ed",
   "metadata": {},
   "outputs": [
    {
     "name": "stdout",
     "output_type": "stream",
     "text": [
      "helloWorld\n",
      "hello\n",
      "World\n",
      "hello\tWorld\n"
     ]
    }
   ],
   "source": [
    "msg = \"helloWorld\"\n",
    "print(msg)\n",
    "\n",
    "# \\n to insert a new line character \n",
    "msg = \"hello\\nWorld\"\n",
    "print(msg)\n",
    "\n",
    "# \\t to insert a tab space\n",
    "msg = \"hello\\tWorld\"\n",
    "print(msg)\n"
   ]
  },
  {
   "cell_type": "code",
   "execution_count": 149,
   "id": "44ab2e15-6e70-4ba5-8b62-05f0aa9243fb",
   "metadata": {},
   "outputs": [
    {
     "name": "stdout",
     "output_type": "stream",
     "text": [
      "hell\"oWor'ld\n"
     ]
    }
   ],
   "source": [
    "msg = 'hell\\\"oWor\\'ld'\n",
    "print(msg)"
   ]
  },
  {
   "cell_type": "code",
   "execution_count": null,
   "id": "c0fb9c85-434b-4c50-bc5c-0412ef879824",
   "metadata": {},
   "outputs": [],
   "source": [
    "# name = \"Alice\"\n",
    "# age = 25\n",
    "# print(f\"My name is {name} and I am {age} years old.\")\n",
    "# print(\"My name is {} and I am {} years old.\".format(name, age))\n",
    "# print(\"My name is %s and I am %d years old.\" % (name, age))"
   ]
  },
  {
   "cell_type": "code",
   "execution_count": 154,
   "id": "66498eb9-91ce-4ade-9792-531718a82dc2",
   "metadata": {},
   "outputs": [
    {
     "name": "stdout",
     "output_type": "stream",
     "text": [
      "My name is Alice and I am 25 years old.\n"
     ]
    }
   ],
   "source": [
    "name = \"Alice\"\n",
    "age = 25\n",
    "\n",
    "msg = f\"My name is {name} and I am {age} years old.\"\n",
    "print(msg)"
   ]
  },
  {
   "cell_type": "code",
   "execution_count": 155,
   "id": "0f043c09-d07b-4a79-894f-0535073aa16b",
   "metadata": {},
   "outputs": [
    {
     "name": "stdout",
     "output_type": "stream",
     "text": [
      "My name is Alice and I am 25 years old.\n"
     ]
    }
   ],
   "source": [
    "name = \"Alice\"\n",
    "age = 25\n",
    "msg = \"My name is {} and I am {} years old.\".format(name, age)\n",
    "print(msg)"
   ]
  },
  {
   "cell_type": "code",
   "execution_count": 160,
   "id": "fdf5c1d1-5899-43bb-a978-cb8ce2a61abf",
   "metadata": {},
   "outputs": [
    {
     "name": "stdout",
     "output_type": "stream",
     "text": [
      "My name is Alice and I am 25 years old.\n"
     ]
    }
   ],
   "source": [
    "name = \"Alice\"\n",
    "age = 25\n",
    "print(\"My name is %s and I am %d years old.\" %(name, age))"
   ]
  },
  {
   "cell_type": "code",
   "execution_count": null,
   "id": "6bf4a695-470e-4041-90ae-055e4ed8f652",
   "metadata": {},
   "outputs": [],
   "source": []
  },
  {
   "cell_type": "code",
   "execution_count": null,
   "id": "3e7b7dbc-49ed-4b26-a5d6-05cd30828eb7",
   "metadata": {},
   "outputs": [],
   "source": []
  }
 ],
 "metadata": {
  "kernelspec": {
   "display_name": "Python 3 (ipykernel)",
   "language": "python",
   "name": "python3"
  },
  "language_info": {
   "codemirror_mode": {
    "name": "ipython",
    "version": 3
   },
   "file_extension": ".py",
   "mimetype": "text/x-python",
   "name": "python",
   "nbconvert_exporter": "python",
   "pygments_lexer": "ipython3",
   "version": "3.13.7"
  }
 },
 "nbformat": 4,
 "nbformat_minor": 5
}
