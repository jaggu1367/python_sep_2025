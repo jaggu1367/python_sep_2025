{
 "cells": [
  {
   "cell_type": "code",
   "execution_count": null,
   "id": "1de97961-1075-4a18-b702-5cb4c647f9b9",
   "metadata": {},
   "outputs": [],
   "source": [
    "# lambda is an anonymous function"
   ]
  },
  {
   "cell_type": "code",
   "execution_count": 18,
   "id": "c546f8f2-8dd4-4631-95ca-ecf66c8fe0a1",
   "metadata": {},
   "outputs": [],
   "source": [
    "# define a function with return statement(with one line of implementation)\n",
    "def square(a):\n",
    "    return a*a"
   ]
  },
  {
   "cell_type": "code",
   "execution_count": 23,
   "id": "68e33e17-de73-4955-b144-3feee18e143b",
   "metadata": {},
   "outputs": [],
   "source": [
    "# call the function/ invoke the function\n",
    "res = square(10)"
   ]
  },
  {
   "cell_type": "code",
   "execution_count": 24,
   "id": "3f56bf5c-d4dc-4577-a9bb-3e4f24bc02b8",
   "metadata": {},
   "outputs": [
    {
     "name": "stdout",
     "output_type": "stream",
     "text": [
      "100\n"
     ]
    }
   ],
   "source": [
    "print(res)"
   ]
  },
  {
   "cell_type": "code",
   "execution_count": 25,
   "id": "dfb48dc8-e77c-4d91-ab20-c2db40ef66ad",
   "metadata": {},
   "outputs": [
    {
     "data": {
      "text/plain": [
       "<function __main__.square(a)>"
      ]
     },
     "execution_count": 25,
     "metadata": {},
     "output_type": "execute_result"
    }
   ],
   "source": [
    "square"
   ]
  },
  {
   "cell_type": "code",
   "execution_count": 33,
   "id": "ebebcf33-4c71-45f0-9ee9-bbb5129bb97d",
   "metadata": {},
   "outputs": [],
   "source": [
    "b = square"
   ]
  },
  {
   "cell_type": "code",
   "execution_count": 34,
   "id": "16786b88-9715-4c3c-b797-24fde12a4704",
   "metadata": {},
   "outputs": [
    {
     "data": {
      "text/plain": [
       "<function __main__.square(a)>"
      ]
     },
     "execution_count": 34,
     "metadata": {},
     "output_type": "execute_result"
    }
   ],
   "source": [
    "b"
   ]
  },
  {
   "cell_type": "code",
   "execution_count": 35,
   "id": "bf0d6125-85ef-4664-8ce6-9a5660895c84",
   "metadata": {},
   "outputs": [
    {
     "data": {
      "text/plain": [
       "100"
      ]
     },
     "execution_count": 35,
     "metadata": {},
     "output_type": "execute_result"
    }
   ],
   "source": [
    "b(10)"
   ]
  },
  {
   "cell_type": "code",
   "execution_count": 36,
   "id": "f3de47b8-c22b-483e-997e-3c35847051f3",
   "metadata": {},
   "outputs": [
    {
     "data": {
      "text/plain": [
       "100"
      ]
     },
     "execution_count": 36,
     "metadata": {},
     "output_type": "execute_result"
    }
   ],
   "source": [
    "square(10)"
   ]
  },
  {
   "cell_type": "code",
   "execution_count": 40,
   "id": "c23598d4-c4c4-4b28-9d3b-0f66d0edf085",
   "metadata": {},
   "outputs": [
    {
     "data": {
      "text/plain": [
       "<function __main__.<lambda>(a)>"
      ]
     },
     "execution_count": 40,
     "metadata": {},
     "output_type": "execute_result"
    }
   ],
   "source": [
    "lambda a:a*a"
   ]
  },
  {
   "cell_type": "code",
   "execution_count": 41,
   "id": "530f7b1f-a2b9-465b-84fa-09e4968e683d",
   "metadata": {},
   "outputs": [],
   "source": [
    " my_square = lambda a:a*a"
   ]
  },
  {
   "cell_type": "code",
   "execution_count": 42,
   "id": "1dbbc32a-11de-4935-802e-92935cc5d915",
   "metadata": {},
   "outputs": [
    {
     "data": {
      "text/plain": [
       "100"
      ]
     },
     "execution_count": 42,
     "metadata": {},
     "output_type": "execute_result"
    }
   ],
   "source": [
    "my_square(10)"
   ]
  },
  {
   "cell_type": "code",
   "execution_count": 43,
   "id": "546b0a87-122f-43d8-82ad-fda388d4f37c",
   "metadata": {},
   "outputs": [],
   "source": [
    "def add(a,b):\n",
    "    return a+b"
   ]
  },
  {
   "cell_type": "code",
   "execution_count": 44,
   "id": "981cf3c0-3fbf-4bef-93c1-904b5fb263a9",
   "metadata": {},
   "outputs": [
    {
     "data": {
      "text/plain": [
       "<function __main__.<lambda>(a, b)>"
      ]
     },
     "execution_count": 44,
     "metadata": {},
     "output_type": "execute_result"
    }
   ],
   "source": [
    "# quick throw away function \n",
    "lambda a,b : a+b"
   ]
  },
  {
   "cell_type": "code",
   "execution_count": 45,
   "id": "d6202a5e-29ed-4038-8c82-84226cce6934",
   "metadata": {},
   "outputs": [],
   "source": [
    "add = lambda a,b : a+b"
   ]
  },
  {
   "cell_type": "code",
   "execution_count": 47,
   "id": "40ba381f-c002-4716-83a3-6847000d5dc3",
   "metadata": {},
   "outputs": [
    {
     "data": {
      "text/plain": [
       "30"
      ]
     },
     "execution_count": 47,
     "metadata": {},
     "output_type": "execute_result"
    }
   ],
   "source": [
    "add(10, 20)"
   ]
  },
  {
   "cell_type": "code",
   "execution_count": 49,
   "id": "b177cc11-8889-4d77-ad60-8a7e997546d1",
   "metadata": {},
   "outputs": [],
   "source": [
    "def is_even(a):\n",
    "    if a%2 ==0: \n",
    "        return True\n",
    "    else:\n",
    "        return False"
   ]
  },
  {
   "cell_type": "code",
   "execution_count": 51,
   "id": "eb97e105-4e79-411d-a197-8c941ceb0a9a",
   "metadata": {},
   "outputs": [
    {
     "data": {
      "text/plain": [
       "True"
      ]
     },
     "execution_count": 51,
     "metadata": {},
     "output_type": "execute_result"
    }
   ],
   "source": [
    "is_even(10)"
   ]
  },
  {
   "cell_type": "code",
   "execution_count": 52,
   "id": "dbb41133-ec1a-4a45-8a7e-852a2e0bc45a",
   "metadata": {},
   "outputs": [
    {
     "data": {
      "text/plain": [
       "False"
      ]
     },
     "execution_count": 52,
     "metadata": {},
     "output_type": "execute_result"
    }
   ],
   "source": [
    "is_even(11)"
   ]
  },
  {
   "cell_type": "code",
   "execution_count": 63,
   "id": "e8c2e2ec-8dfb-4c33-947d-23f95c711442",
   "metadata": {},
   "outputs": [],
   "source": [
    "def is_even(a):\n",
    "    return a%2 == 0"
   ]
  },
  {
   "cell_type": "code",
   "execution_count": 58,
   "id": "8f153064-a236-46a1-b832-c5c2633beda2",
   "metadata": {},
   "outputs": [
    {
     "data": {
      "text/plain": [
       "True"
      ]
     },
     "execution_count": 58,
     "metadata": {},
     "output_type": "execute_result"
    }
   ],
   "source": [
    "is_even(10)"
   ]
  },
  {
   "cell_type": "code",
   "execution_count": 59,
   "id": "de99ddad-0cd8-4ab3-9d91-fbe39a7182b3",
   "metadata": {},
   "outputs": [
    {
     "data": {
      "text/plain": [
       "False"
      ]
     },
     "execution_count": 59,
     "metadata": {},
     "output_type": "execute_result"
    }
   ],
   "source": [
    "is_even(11)"
   ]
  },
  {
   "cell_type": "code",
   "execution_count": 60,
   "id": "1fe92f5b-6e73-4a6f-89be-afefb19ff23d",
   "metadata": {},
   "outputs": [
    {
     "data": {
      "text/plain": [
       "<function __main__.<lambda>(a)>"
      ]
     },
     "execution_count": 60,
     "metadata": {},
     "output_type": "execute_result"
    }
   ],
   "source": [
    "lambda a:a%2 == 0"
   ]
  },
  {
   "cell_type": "code",
   "execution_count": 64,
   "id": "c33b90b2-1759-47c0-99f4-c763ff533316",
   "metadata": {},
   "outputs": [],
   "source": [
    "check_even = lambda a:a%2 == 0"
   ]
  },
  {
   "cell_type": "code",
   "execution_count": 65,
   "id": "8ffcbca9-e4d9-4b7a-9609-cdd430c13ae3",
   "metadata": {},
   "outputs": [
    {
     "data": {
      "text/plain": [
       "True"
      ]
     },
     "execution_count": 65,
     "metadata": {},
     "output_type": "execute_result"
    }
   ],
   "source": [
    "check_even(10)"
   ]
  },
  {
   "cell_type": "code",
   "execution_count": 66,
   "id": "bf73ba4f-b804-4762-a275-67cdba7622af",
   "metadata": {},
   "outputs": [
    {
     "data": {
      "text/plain": [
       "False"
      ]
     },
     "execution_count": 66,
     "metadata": {},
     "output_type": "execute_result"
    }
   ],
   "source": [
    "check_even(11)"
   ]
  },
  {
   "cell_type": "code",
   "execution_count": 67,
   "id": "99cc28cf-5c61-40f3-a12e-709d499c5b17",
   "metadata": {},
   "outputs": [],
   "source": [
    "numbers_list = [ 34, 12, 23, 97, 50]"
   ]
  },
  {
   "cell_type": "code",
   "execution_count": 71,
   "id": "d19d7a92-a8a6-4b72-b0ba-6ce34a50244f",
   "metadata": {},
   "outputs": [
    {
     "name": "stdout",
     "output_type": "stream",
     "text": [
      "34\n",
      "12\n",
      "23\n",
      "97\n",
      "50\n"
     ]
    },
    {
     "data": {
      "text/plain": [
       "[44, 22, 33, 107, 60]"
      ]
     },
     "execution_count": 71,
     "metadata": {},
     "output_type": "execute_result"
    }
   ],
   "source": [
    "# create list by adding 10 to each number \n",
    "# input : [ 34, 12, 23, 97, 50]\n",
    "# expected output : [ 44, 22, 33, 107, 60]\n",
    "\n",
    "for x in numbers_list:\n",
    "    print(x)\n",
    "\n",
    "print([x+10 for x in numbers_list])"
   ]
  },
  {
   "cell_type": "code",
   "execution_count": 73,
   "id": "68efc04b-975d-4b87-aca9-cd3400af3970",
   "metadata": {},
   "outputs": [
    {
     "name": "stdout",
     "output_type": "stream",
     "text": [
      "34\n",
      "12\n",
      "23\n",
      "97\n",
      "50\n",
      "[34, 12, 50]\n"
     ]
    }
   ],
   "source": [
    "# filter the with only even numbers\n",
    "# input : [ 34, 12, 23, 97, 50]\n",
    "# expected output : [34, 12, 50]\n",
    "numbers_list =  [ 34, 12, 23, 97, 50]\n",
    "\n",
    "for x in numbers_list:\n",
    "    print(x)\n",
    "\n",
    "print([x for x in numbers_list if x%2==0])"
   ]
  },
  {
   "cell_type": "code",
   "execution_count": null,
   "id": "4a0a391c-9c97-4638-94ad-d99d145826ad",
   "metadata": {},
   "outputs": [],
   "source": [
    "# create list by adding 10 to each number \n",
    "# input :           [ 34, 12, 23, 97, 50]\n",
    "# expected output : [ 44, 22, 33, 107, 60]"
   ]
  },
  {
   "cell_type": "code",
   "execution_count": 76,
   "id": "2dc4cedd-874d-41c8-8be5-2bc74992e99c",
   "metadata": {},
   "outputs": [],
   "source": [
    "# map()\n",
    "# map(function, iterable)\n",
    "\n",
    "num_list = [ 34, 12, 23, 97, 50]\n"
   ]
  },
  {
   "cell_type": "code",
   "execution_count": 77,
   "id": "42e20c80-344b-49bf-bf8a-58358f05c956",
   "metadata": {},
   "outputs": [],
   "source": [
    "def add_10(a):\n",
    "    return a+10"
   ]
  },
  {
   "cell_type": "code",
   "execution_count": 78,
   "id": "b335f92b-854f-4c7d-a155-0687f8ff8d82",
   "metadata": {},
   "outputs": [
    {
     "data": {
      "text/plain": [
       "list"
      ]
     },
     "execution_count": 78,
     "metadata": {},
     "output_type": "execute_result"
    }
   ],
   "source": [
    "type(num_list)"
   ]
  },
  {
   "cell_type": "code",
   "execution_count": 79,
   "id": "5293cb5d-3be5-4f8a-9d55-4fe15d49ca70",
   "metadata": {},
   "outputs": [
    {
     "data": {
      "text/plain": [
       "function"
      ]
     },
     "execution_count": 79,
     "metadata": {},
     "output_type": "execute_result"
    }
   ],
   "source": [
    "type(add_10)"
   ]
  },
  {
   "cell_type": "code",
   "execution_count": 81,
   "id": "382bcaf8-1b93-4c56-bc51-eef245779fc0",
   "metadata": {},
   "outputs": [
    {
     "data": {
      "text/plain": [
       "[44, 22, 33, 107, 60]"
      ]
     },
     "execution_count": 81,
     "metadata": {},
     "output_type": "execute_result"
    }
   ],
   "source": [
    "list(map(add_10, num_list))"
   ]
  },
  {
   "cell_type": "code",
   "execution_count": 86,
   "id": "1e996b4b-59c6-4cb4-be7a-3ec4ab972377",
   "metadata": {},
   "outputs": [
    {
     "data": {
      "text/plain": [
       "[34, 12, 23, 97, 50]"
      ]
     },
     "execution_count": 86,
     "metadata": {},
     "output_type": "execute_result"
    }
   ],
   "source": [
    "num_list"
   ]
  },
  {
   "cell_type": "code",
   "execution_count": 88,
   "id": "a9e65fff-fa94-4860-b257-f48668b3d280",
   "metadata": {},
   "outputs": [],
   "source": [
    "output_list = list(map(lambda a:a*2, num_list))"
   ]
  },
  {
   "cell_type": "code",
   "execution_count": 89,
   "id": "0358c11b-222f-4be8-8335-b61b65655bf0",
   "metadata": {},
   "outputs": [
    {
     "data": {
      "text/plain": [
       "[68, 24, 46, 194, 100]"
      ]
     },
     "execution_count": 89,
     "metadata": {},
     "output_type": "execute_result"
    }
   ],
   "source": [
    "output_list"
   ]
  },
  {
   "cell_type": "code",
   "execution_count": null,
   "id": "666db5da-6e1c-496d-83b8-6e640751e228",
   "metadata": {},
   "outputs": [],
   "source": [
    "# filter the with only even numbers\n",
    "# input : [ 34, 12, 23, 97, 50]\n",
    "# expected output : [34, 12, 50]"
   ]
  },
  {
   "cell_type": "code",
   "execution_count": 90,
   "id": "213913b1-f859-477b-90a8-884e7e31ff81",
   "metadata": {},
   "outputs": [],
   "source": [
    "num_list = [ 34, 12, 23, 97, 50]"
   ]
  },
  {
   "cell_type": "code",
   "execution_count": 91,
   "id": "5d0f5559-0d50-46d7-887d-db8c396e09d9",
   "metadata": {},
   "outputs": [],
   "source": [
    "def is_even(a):\n",
    "    return a%2 == 0 "
   ]
  },
  {
   "cell_type": "code",
   "execution_count": 92,
   "id": "da1c8e23-7bf6-4424-ab66-b7a62ec99da6",
   "metadata": {},
   "outputs": [
    {
     "data": {
      "text/plain": [
       "True"
      ]
     },
     "execution_count": 92,
     "metadata": {},
     "output_type": "execute_result"
    }
   ],
   "source": [
    "is_even(10)"
   ]
  },
  {
   "cell_type": "code",
   "execution_count": 93,
   "id": "57980f76-be2e-4988-a1ac-636e140bb264",
   "metadata": {},
   "outputs": [
    {
     "data": {
      "text/plain": [
       "False"
      ]
     },
     "execution_count": 93,
     "metadata": {},
     "output_type": "execute_result"
    }
   ],
   "source": [
    "is_even(11)"
   ]
  },
  {
   "cell_type": "code",
   "execution_count": 95,
   "id": "9115eaa7-63f4-4229-9156-910cf8fd921f",
   "metadata": {},
   "outputs": [
    {
     "data": {
      "text/plain": [
       "[34, 12, 50]"
      ]
     },
     "execution_count": 95,
     "metadata": {},
     "output_type": "execute_result"
    }
   ],
   "source": [
    "# filter(function, iterable)\n",
    "list(filter(is_even, num_list))"
   ]
  },
  {
   "cell_type": "code",
   "execution_count": 104,
   "id": "0128f0ff-c086-4e21-8d1b-f178de98cfcc",
   "metadata": {},
   "outputs": [
    {
     "data": {
      "text/plain": [
       "[34, 12, 50]"
      ]
     },
     "execution_count": 104,
     "metadata": {},
     "output_type": "execute_result"
    }
   ],
   "source": [
    "list(filter(lambda a: a%2==0 , num_list))"
   ]
  },
  {
   "cell_type": "code",
   "execution_count": 105,
   "id": "11a2104c-052c-4d5e-ad67-7bfd5610c285",
   "metadata": {},
   "outputs": [],
   "source": [
    "num_list = [ 34, 12, 23, 97, 50]"
   ]
  },
  {
   "cell_type": "code",
   "execution_count": 108,
   "id": "970be675-fb3a-4a0c-a187-303730ecb795",
   "metadata": {},
   "outputs": [
    {
     "data": {
      "text/plain": [
       "[12, 23, 34, 50, 97]"
      ]
     },
     "execution_count": 108,
     "metadata": {},
     "output_type": "execute_result"
    }
   ],
   "source": [
    "sorted(num_list)"
   ]
  },
  {
   "cell_type": "code",
   "execution_count": 109,
   "id": "646a2dd0-61a6-4742-84b1-f85dbe5512f6",
   "metadata": {},
   "outputs": [
    {
     "data": {
      "text/plain": [
       "[97, 50, 34, 23, 12]"
      ]
     },
     "execution_count": 109,
     "metadata": {},
     "output_type": "execute_result"
    }
   ],
   "source": [
    "sorted(num_list, reverse=True)"
   ]
  },
  {
   "cell_type": "code",
   "execution_count": 112,
   "id": "973db0c0-c87c-4e23-8cbe-e129020262d0",
   "metadata": {},
   "outputs": [],
   "source": [
    "names = [\"yshruti\", \"swetha\", \"anusha\", \"sunny\", \"hemanth\"]"
   ]
  },
  {
   "cell_type": "code",
   "execution_count": 113,
   "id": "946f12ac-a2b5-49d7-b23e-0d7b396fcd91",
   "metadata": {},
   "outputs": [
    {
     "data": {
      "text/plain": [
       "['anusha', 'hemanth', 'sunny', 'swetha', 'yshruti']"
      ]
     },
     "execution_count": 113,
     "metadata": {},
     "output_type": "execute_result"
    }
   ],
   "source": [
    "sorted(names)\n",
    "#lexicographical order / dictionary order"
   ]
  },
  {
   "cell_type": "code",
   "execution_count": 114,
   "id": "451dc394-6698-428e-ae2e-41b8d41eb97e",
   "metadata": {},
   "outputs": [
    {
     "data": {
      "text/plain": [
       "['anusha', 'hemanth', 'sunny', 'swetha', 'yshruti']"
      ]
     },
     "execution_count": 114,
     "metadata": {},
     "output_type": "execute_result"
    }
   ],
   "source": [
    "sorted(names)"
   ]
  },
  {
   "cell_type": "code",
   "execution_count": 115,
   "id": "b47c9372-544d-4a47-92b9-6e54c19b5220",
   "metadata": {},
   "outputs": [
    {
     "data": {
      "text/plain": [
       "['yshruti', 'swetha', 'sunny', 'hemanth', 'anusha']"
      ]
     },
     "execution_count": 115,
     "metadata": {},
     "output_type": "execute_result"
    }
   ],
   "source": [
    "sorted(names, reverse=True)"
   ]
  },
  {
   "cell_type": "code",
   "execution_count": 116,
   "id": "f84b662d-ac10-4a3c-940a-ec21eb3ef71c",
   "metadata": {},
   "outputs": [],
   "source": [
    "name = \"yshruti\""
   ]
  },
  {
   "cell_type": "code",
   "execution_count": 117,
   "id": "e0ba6d18-90c1-43ab-a5a7-bbc90d5adec5",
   "metadata": {},
   "outputs": [
    {
     "data": {
      "text/plain": [
       "7"
      ]
     },
     "execution_count": 117,
     "metadata": {},
     "output_type": "execute_result"
    }
   ],
   "source": [
    "len(name)"
   ]
  },
  {
   "cell_type": "code",
   "execution_count": 118,
   "id": "d546a0c4-c0b2-4d6c-b838-139eabadf0e3",
   "metadata": {},
   "outputs": [
    {
     "name": "stdout",
     "output_type": "stream",
     "text": [
      "name=yshruti, size=7\n",
      "name=swetha, size=6\n",
      "name=anusha, size=6\n",
      "name=sunny, size=5\n",
      "name=hemanth, size=7\n"
     ]
    }
   ],
   "source": [
    "for name in names:\n",
    "    print(f\"name={name}, size={len(name)}\")"
   ]
  },
  {
   "cell_type": "code",
   "execution_count": 119,
   "id": "7d04dd48-83d6-4bb9-a6e9-dd9aced3a3af",
   "metadata": {},
   "outputs": [],
   "source": [
    "names = [\"yshruti\", \"swetha\", \"hemu\", \"anusha\", \"sunny\"]"
   ]
  },
  {
   "cell_type": "code",
   "execution_count": 120,
   "id": "4d6cc64b-a98d-4133-bd0e-bfdbef559dac",
   "metadata": {},
   "outputs": [
    {
     "data": {
      "text/plain": [
       "['anusha', 'hemu', 'sunny', 'swetha', 'yshruti']"
      ]
     },
     "execution_count": 120,
     "metadata": {},
     "output_type": "execute_result"
    }
   ],
   "source": [
    "sorted(names)"
   ]
  },
  {
   "cell_type": "code",
   "execution_count": 126,
   "id": "d9468a91-ecc5-4aca-861f-f9b080f2f46e",
   "metadata": {},
   "outputs": [
    {
     "name": "stdout",
     "output_type": "stream",
     "text": [
      "name=yshruti, size=7\n",
      "name=swetha, size=6\n",
      "name=hemu, size=4\n",
      "name=anusha, size=6\n",
      "name=sunny, size=5\n"
     ]
    }
   ],
   "source": [
    "for name in names:\n",
    "    print(f\"name={name}, size={len(name)}\")"
   ]
  },
  {
   "cell_type": "code",
   "execution_count": 121,
   "id": "0795cc26-09a9-4470-b5e6-ddba21911f51",
   "metadata": {},
   "outputs": [],
   "source": [
    "def size(a):\n",
    "    return len(a)"
   ]
  },
  {
   "cell_type": "code",
   "execution_count": 127,
   "id": "392e460f-08b9-4ccb-a16d-9e456b89fbfb",
   "metadata": {},
   "outputs": [
    {
     "data": {
      "text/plain": [
       "['hemu', 'sunny', 'swetha', 'anusha', 'yshruti']"
      ]
     },
     "execution_count": 127,
     "metadata": {},
     "output_type": "execute_result"
    }
   ],
   "source": [
    "# sort the names based on the length of the words\n",
    "sorted(names, key=size)"
   ]
  },
  {
   "cell_type": "code",
   "execution_count": 129,
   "id": "1c1522f4-13eb-49c8-a510-a61b11de93ca",
   "metadata": {},
   "outputs": [
    {
     "data": {
      "text/plain": [
       "['hemu', 'sunny', 'swetha', 'anusha', 'yshruti']"
      ]
     },
     "execution_count": 129,
     "metadata": {},
     "output_type": "execute_result"
    }
   ],
   "source": [
    "# sort the names based on the length of the words\n",
    "sorted(names, key=lambda a: len(a))"
   ]
  },
  {
   "cell_type": "code",
   "execution_count": 130,
   "id": "83608248-4091-4ac6-8820-95b8c5f557d4",
   "metadata": {},
   "outputs": [],
   "source": [
    "size = lambda a: len(a)"
   ]
  },
  {
   "cell_type": "code",
   "execution_count": 131,
   "id": "9722ff6e-5f7b-4e39-bb0b-9bae662bde7d",
   "metadata": {},
   "outputs": [
    {
     "data": {
      "text/plain": [
       "['hemu', 'sunny', 'swetha', 'anusha', 'yshruti']"
      ]
     },
     "execution_count": 131,
     "metadata": {},
     "output_type": "execute_result"
    }
   ],
   "source": [
    "sorted(names, key=size)"
   ]
  },
  {
   "cell_type": "code",
   "execution_count": 136,
   "id": "fe08e97b-f0be-4e77-b887-5d2343770fa2",
   "metadata": {},
   "outputs": [
    {
     "ename": "ImportError",
     "evalue": "cannot import name 'deduce' from 'functools' (C:\\Users\\Jagadeesh Verri\\AppData\\Local\\Programs\\Python\\Python313\\Lib\\functools.py)",
     "output_type": "error",
     "traceback": [
      "\u001b[31m---------------------------------------------------------------------------\u001b[39m",
      "\u001b[31mImportError\u001b[39m                               Traceback (most recent call last)",
      "\u001b[36mCell\u001b[39m\u001b[36m \u001b[39m\u001b[32mIn[136]\u001b[39m\u001b[32m, line 1\u001b[39m\n\u001b[32m----> \u001b[39m\u001b[32m1\u001b[39m \u001b[38;5;28;01mfrom\u001b[39;00m\u001b[38;5;250m \u001b[39m\u001b[34;01mfunctools\u001b[39;00m\u001b[38;5;250m \u001b[39m\u001b[38;5;28;01mimport\u001b[39;00m deduce\n",
      "\u001b[31mImportError\u001b[39m: cannot import name 'deduce' from 'functools' (C:\\Users\\Jagadeesh Verri\\AppData\\Local\\Programs\\Python\\Python313\\Lib\\functools.py)"
     ]
    }
   ],
   "source": [
    "from functools import deduce"
   ]
  },
  {
   "cell_type": "code",
   "execution_count": 137,
   "id": "17712b20-a28b-47e9-819e-d9bb753b9d1b",
   "metadata": {},
   "outputs": [],
   "source": [
    "from functools import reduce"
   ]
  },
  {
   "cell_type": "code",
   "execution_count": 140,
   "id": "f28d4d26-15f4-40de-b585-0bbd23549a4c",
   "metadata": {},
   "outputs": [],
   "source": [
    "#reduce(function, iterable)"
   ]
  },
  {
   "cell_type": "code",
   "execution_count": 142,
   "id": "6b0710ab-bef2-4380-a0c0-be6336060d27",
   "metadata": {},
   "outputs": [],
   "source": [
    "num_list  = [1, 2, 3, 4, 5]"
   ]
  },
  {
   "cell_type": "code",
   "execution_count": 143,
   "id": "1bf0a9db-68b8-4810-bb20-70627b4e33cc",
   "metadata": {},
   "outputs": [],
   "source": [
    "def add(a,b):\n",
    "    return a+b"
   ]
  },
  {
   "cell_type": "code",
   "execution_count": 144,
   "id": "70e5526d-b985-48ef-b809-56cce09ed09f",
   "metadata": {},
   "outputs": [
    {
     "data": {
      "text/plain": [
       "15"
      ]
     },
     "execution_count": 144,
     "metadata": {},
     "output_type": "execute_result"
    }
   ],
   "source": [
    "reduce(add, num_list)"
   ]
  },
  {
   "cell_type": "code",
   "execution_count": 145,
   "id": "16fbe604-580f-4dbf-ab2f-d1555061e70c",
   "metadata": {},
   "outputs": [],
   "source": [
    "def multiply(a,b):\n",
    "    return a*b"
   ]
  },
  {
   "cell_type": "code",
   "execution_count": 146,
   "id": "0b11658b-9bc7-4e55-aff4-53ff3973f8f4",
   "metadata": {},
   "outputs": [
    {
     "data": {
      "text/plain": [
       "120"
      ]
     },
     "execution_count": 146,
     "metadata": {},
     "output_type": "execute_result"
    }
   ],
   "source": [
    "reduce(multiply, num_list)"
   ]
  },
  {
   "cell_type": "code",
   "execution_count": 147,
   "id": "c6af03f7-4753-4174-9b90-cdaafd1db528",
   "metadata": {},
   "outputs": [
    {
     "data": {
      "text/plain": [
       "15"
      ]
     },
     "execution_count": 147,
     "metadata": {},
     "output_type": "execute_result"
    }
   ],
   "source": [
    "reduce(lambda a,b:a+b , num_list)"
   ]
  },
  {
   "cell_type": "code",
   "execution_count": 148,
   "id": "3935d137-8d02-4878-bf46-d7af031b068c",
   "metadata": {},
   "outputs": [
    {
     "data": {
      "text/plain": [
       "120"
      ]
     },
     "execution_count": 148,
     "metadata": {},
     "output_type": "execute_result"
    }
   ],
   "source": [
    "reduce(lambda a,b:a*b , num_list)"
   ]
  },
  {
   "cell_type": "code",
   "execution_count": 149,
   "id": "dfc8154c-be4a-4cff-825f-6c668026ad72",
   "metadata": {},
   "outputs": [
    {
     "data": {
      "text/plain": [
       "-13"
      ]
     },
     "execution_count": 149,
     "metadata": {},
     "output_type": "execute_result"
    }
   ],
   "source": [
    "reduce(lambda a,b:a-b , num_list)"
   ]
  },
  {
   "cell_type": "code",
   "execution_count": null,
   "id": "86c0fb99-8159-4f05-8c0e-949846700dc2",
   "metadata": {},
   "outputs": [],
   "source": [
    "# transformer function \n",
    "# map()\n",
    "# filter()\n",
    "# reduce()\n",
    "# sorted()"
   ]
  },
  {
   "cell_type": "code",
   "execution_count": null,
   "id": "015b0b96-4bde-45a2-b4c1-62b2c687425f",
   "metadata": {},
   "outputs": [],
   "source": []
  }
 ],
 "metadata": {
  "kernelspec": {
   "display_name": "Python 3 (ipykernel)",
   "language": "python",
   "name": "python3"
  },
  "language_info": {
   "codemirror_mode": {
    "name": "ipython",
    "version": 3
   },
   "file_extension": ".py",
   "mimetype": "text/x-python",
   "name": "python",
   "nbconvert_exporter": "python",
   "pygments_lexer": "ipython3",
   "version": "3.13.7"
  }
 },
 "nbformat": 4,
 "nbformat_minor": 5
}
