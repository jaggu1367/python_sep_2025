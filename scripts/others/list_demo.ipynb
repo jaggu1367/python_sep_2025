{
 "cells": [
  {
   "cell_type": "code",
   "execution_count": 0,
   "metadata": {
    "application/vnd.databricks.v1+cell": {
     "cellMetadata": {
      "byteLimit": 2048000,
      "rowLimit": 10000
     },
     "inputWidgets": {},
     "nuid": "fa933a38-4978-4465-9d4b-79c8577aac06",
     "showTitle": true,
     "tableResultSettingsMap": {},
     "title": "define a list"
    }
   },
   "outputs": [],
   "source": [
    "a = [10, 20, 30, 40, 50]"
   ]
  },
  {
   "cell_type": "code",
   "execution_count": 0,
   "metadata": {
    "application/vnd.databricks.v1+cell": {
     "cellMetadata": {
      "byteLimit": 2048000,
      "rowLimit": 10000
     },
     "inputWidgets": {},
     "nuid": "c2e82c14-bc87-4b82-b3b7-8e45040e3789",
     "showTitle": true,
     "tableResultSettingsMap": {},
     "title": "check the type"
    }
   },
   "outputs": [],
   "source": [
    "type(a)"
   ]
  },
  {
   "cell_type": "code",
   "execution_count": 0,
   "metadata": {
    "application/vnd.databricks.v1+cell": {
     "cellMetadata": {
      "byteLimit": 2048000,
      "rowLimit": 10000
     },
     "inputWidgets": {},
     "nuid": "f6bce707-98b9-46e5-bf38-14debb055e4f",
     "showTitle": true,
     "tableResultSettingsMap": {},
     "title": "print the list"
    }
   },
   "outputs": [],
   "source": [
    "print(a)"
   ]
  },
  {
   "cell_type": "code",
   "execution_count": 0,
   "metadata": {
    "application/vnd.databricks.v1+cell": {
     "cellMetadata": {
      "byteLimit": 2048000,
      "rowLimit": 10000
     },
     "inputWidgets": {},
     "nuid": "6b796299-ee3f-4774-bd26-66bd4e89cf3c",
     "showTitle": true,
     "tableResultSettingsMap": {},
     "title": "iterate/traverse the list"
    }
   },
   "outputs": [],
   "source": [
    "for item in a: \n",
    "    print(item)"
   ]
  },
  {
   "cell_type": "code",
   "execution_count": 0,
   "metadata": {
    "application/vnd.databricks.v1+cell": {
     "cellMetadata": {
      "byteLimit": 2048000,
      "rowLimit": 10000
     },
     "inputWidgets": {},
     "nuid": "2f4d5231-b574-473e-8c19-c2d212f25a59",
     "showTitle": false,
     "tableResultSettingsMap": {},
     "title": ""
    }
   },
   "outputs": [],
   "source": [
    "# collection : a which is list \n",
    "# loop variable : i which will hold one item at a time\n",
    "\n",
    "for i in a:\n",
    "    # do something with the item \n",
    "    print(i)"
   ]
  },
  {
   "cell_type": "code",
   "execution_count": 0,
   "metadata": {
    "application/vnd.databricks.v1+cell": {
     "cellMetadata": {
      "byteLimit": 2048000,
      "rowLimit": 10000
     },
     "inputWidgets": {},
     "nuid": "9f9ee154-7779-43a3-aa2a-ef740308d906",
     "showTitle": true,
     "tableResultSettingsMap": {},
     "title": "add an element to the list"
    }
   },
   "outputs": [],
   "source": [
    "a.append(60)"
   ]
  },
  {
   "cell_type": "code",
   "execution_count": 0,
   "metadata": {
    "application/vnd.databricks.v1+cell": {
     "cellMetadata": {
      "byteLimit": 2048000,
      "rowLimit": 10000
     },
     "inputWidgets": {},
     "nuid": "0b0a9268-4eb5-4bbf-8815-4b6e70c3e404",
     "showTitle": false,
     "tableResultSettingsMap": {},
     "title": ""
    }
   },
   "outputs": [],
   "source": [
    "print(a)"
   ]
  },
  {
   "cell_type": "code",
   "execution_count": 0,
   "metadata": {
    "application/vnd.databricks.v1+cell": {
     "cellMetadata": {
      "byteLimit": 2048000,
      "rowLimit": 10000
     },
     "inputWidgets": {},
     "nuid": "4c35da6e-baec-4930-b867-4852d70ac2ca",
     "showTitle": true,
     "tableResultSettingsMap": {},
     "title": "get first element from index"
    }
   },
   "outputs": [],
   "source": [
    "a[0]"
   ]
  },
  {
   "cell_type": "code",
   "execution_count": 0,
   "metadata": {
    "application/vnd.databricks.v1+cell": {
     "cellMetadata": {
      "byteLimit": 2048000,
      "rowLimit": 10000
     },
     "inputWidgets": {},
     "nuid": "ae497ecf-b08f-4a80-b835-7a496615982d",
     "showTitle": true,
     "tableResultSettingsMap": {},
     "title": "get last element from index"
    }
   },
   "outputs": [],
   "source": [
    "a[-1]"
   ]
  },
  {
   "cell_type": "code",
   "execution_count": 0,
   "metadata": {
    "application/vnd.databricks.v1+cell": {
     "cellMetadata": {
      "byteLimit": 2048000,
      "rowLimit": 10000
     },
     "inputWidgets": {},
     "nuid": "391341d1-6cf8-4729-8c48-fdf3f2082e84",
     "showTitle": true,
     "tableResultSettingsMap": {},
     "title": "get element using valid index"
    }
   },
   "outputs": [],
   "source": [
    "a[3]"
   ]
  },
  {
   "cell_type": "code",
   "execution_count": 0,
   "metadata": {
    "application/vnd.databricks.v1+cell": {
     "cellMetadata": {
      "byteLimit": 2048000,
      "rowLimit": 10000
     },
     "inputWidgets": {},
     "nuid": "8e16ee37-be6d-4e82-bf7d-b30293519bed",
     "showTitle": true,
     "tableResultSettingsMap": {},
     "title": "get element using invalid index"
    }
   },
   "outputs": [],
   "source": [
    "a[10]"
   ]
  },
  {
   "cell_type": "code",
   "execution_count": 0,
   "metadata": {
    "application/vnd.databricks.v1+cell": {
     "cellMetadata": {
      "byteLimit": 2048000,
      "rowLimit": 10000
     },
     "inputWidgets": {},
     "nuid": "ac2eec8e-535c-4cc0-bd50-2c7587f66ce8",
     "showTitle": true,
     "tableResultSettingsMap": {},
     "title": "size of the list"
    }
   },
   "outputs": [],
   "source": [
    "len(a)"
   ]
  },
  {
   "cell_type": "code",
   "execution_count": 0,
   "metadata": {
    "application/vnd.databricks.v1+cell": {
     "cellMetadata": {
      "byteLimit": 2048000,
      "rowLimit": 10000
     },
     "inputWidgets": {},
     "nuid": "88e70ea8-062a-4389-bcb9-6335ed5ef18f",
     "showTitle": true,
     "tableResultSettingsMap": {},
     "title": "remove an element from the list"
    }
   },
   "outputs": [],
   "source": [
    "a.remove(30)"
   ]
  },
  {
   "cell_type": "code",
   "execution_count": 0,
   "metadata": {
    "application/vnd.databricks.v1+cell": {
     "cellMetadata": {
      "byteLimit": 2048000,
      "rowLimit": 10000
     },
     "inputWidgets": {},
     "nuid": "d68b0b00-2e5b-446d-b29e-338d2ce19966",
     "showTitle": true,
     "tableResultSettingsMap": {},
     "title": "reverse the list"
    }
   },
   "outputs": [],
   "source": [
    "a.reverse()"
   ]
  },
  {
   "cell_type": "code",
   "execution_count": 0,
   "metadata": {
    "application/vnd.databricks.v1+cell": {
     "cellMetadata": {
      "byteLimit": 2048000,
      "rowLimit": 10000
     },
     "inputWidgets": {},
     "nuid": "11bb79f0-eecc-43d2-816b-fc76da51d08f",
     "showTitle": true,
     "tableResultSettingsMap": {},
     "title": "print the list"
    }
   },
   "outputs": [],
   "source": [
    "a"
   ]
  },
  {
   "cell_type": "code",
   "execution_count": 0,
   "metadata": {
    "application/vnd.databricks.v1+cell": {
     "cellMetadata": {
      "byteLimit": 2048000,
      "rowLimit": 10000
     },
     "inputWidgets": {},
     "nuid": "8a6a5427-387a-43eb-9b43-106dca7b7a08",
     "showTitle": true,
     "tableResultSettingsMap": {},
     "title": "sort the list"
    }
   },
   "outputs": [],
   "source": [
    "a.sort(reverse=False) # a.sort()"
   ]
  },
  {
   "cell_type": "code",
   "execution_count": 0,
   "metadata": {
    "application/vnd.databricks.v1+cell": {
     "cellMetadata": {
      "byteLimit": 2048000,
      "rowLimit": 10000
     },
     "inputWidgets": {},
     "nuid": "a5f9ed5d-98df-4b48-97e8-766fa267857e",
     "showTitle": true,
     "tableResultSettingsMap": {},
     "title": "print the sorted list"
    }
   },
   "outputs": [],
   "source": [
    "print(a)"
   ]
  },
  {
   "cell_type": "code",
   "execution_count": 0,
   "metadata": {
    "application/vnd.databricks.v1+cell": {
     "cellMetadata": {
      "byteLimit": 2048000,
      "rowLimit": 10000
     },
     "inputWidgets": {},
     "nuid": "9d021a0a-fd39-4803-84d0-5bec211e9152",
     "showTitle": true,
     "tableResultSettingsMap": {},
     "title": "sort the list in reverse order"
    }
   },
   "outputs": [],
   "source": [
    "a.sort(reverse=True)"
   ]
  },
  {
   "cell_type": "code",
   "execution_count": 0,
   "metadata": {
    "application/vnd.databricks.v1+cell": {
     "cellMetadata": {
      "byteLimit": 2048000,
      "rowLimit": 10000
     },
     "inputWidgets": {},
     "nuid": "bea1e336-54ca-49b7-9b81-bb007c5ac223",
     "showTitle": true,
     "tableResultSettingsMap": {},
     "title": "print the sorted list in reverse order"
    }
   },
   "outputs": [],
   "source": [
    "print(a)"
   ]
  },
  {
   "cell_type": "code",
   "execution_count": 0,
   "metadata": {
    "application/vnd.databricks.v1+cell": {
     "cellMetadata": {
      "byteLimit": 2048000,
      "rowLimit": 10000
     },
     "inputWidgets": {},
     "nuid": "76bd3841-6d75-40fe-812b-69b5f1d7ab8e",
     "showTitle": true,
     "tableResultSettingsMap": {},
     "title": "adding some extra values"
    }
   },
   "outputs": [],
   "source": [
    "a.append(30)\n",
    "a.append(30)\n",
    "a.append(100)"
   ]
  },
  {
   "cell_type": "code",
   "execution_count": 0,
   "metadata": {
    "application/vnd.databricks.v1+cell": {
     "cellMetadata": {
      "byteLimit": 2048000,
      "rowLimit": 10000
     },
     "inputWidgets": {},
     "nuid": "2cd99521-6259-4486-bfa7-ee013fd08006",
     "showTitle": true,
     "tableResultSettingsMap": {},
     "title": "count is checking no of times an item is repeating"
    }
   },
   "outputs": [],
   "source": [
    "a.count(30)"
   ]
  },
  {
   "cell_type": "code",
   "execution_count": 0,
   "metadata": {
    "application/vnd.databricks.v1+cell": {
     "cellMetadata": {
      "byteLimit": 2048000,
      "rowLimit": 10000
     },
     "inputWidgets": {},
     "nuid": "c82fb59a-b71c-43ab-a675-7d3cb46cacc1",
     "showTitle": true,
     "tableResultSettingsMap": {},
     "title": "count of 100 in the list"
    }
   },
   "outputs": [],
   "source": [
    "a.count(100)"
   ]
  },
  {
   "cell_type": "code",
   "execution_count": 0,
   "metadata": {
    "application/vnd.databricks.v1+cell": {
     "cellMetadata": {
      "byteLimit": 2048000,
      "rowLimit": 10000
     },
     "inputWidgets": {},
     "nuid": "a0a22a49-b341-43c3-b334-88ea1c0ff1ea",
     "showTitle": true,
     "tableResultSettingsMap": {},
     "title": "count of 200 in the list"
    }
   },
   "outputs": [],
   "source": [
    "a.count(200)"
   ]
  },
  {
   "cell_type": "code",
   "execution_count": 0,
   "metadata": {
    "application/vnd.databricks.v1+cell": {
     "cellMetadata": {
      "byteLimit": 2048000,
      "rowLimit": 10000
     },
     "inputWidgets": {},
     "nuid": "6928eff3-6761-45af-9107-9cebbcb9b0b8",
     "showTitle": true,
     "tableResultSettingsMap": {},
     "title": "remove item from list"
    }
   },
   "outputs": [],
   "source": [
    "a.remove(30)"
   ]
  },
  {
   "cell_type": "code",
   "execution_count": 0,
   "metadata": {
    "application/vnd.databricks.v1+cell": {
     "cellMetadata": {
      "byteLimit": 2048000,
      "rowLimit": 10000
     },
     "inputWidgets": {},
     "nuid": "f1c5347a-dd10-4947-950d-8297b7234610",
     "showTitle": true,
     "tableResultSettingsMap": {},
     "title": "print the list"
    }
   },
   "outputs": [],
   "source": [
    "a"
   ]
  },
  {
   "cell_type": "code",
   "execution_count": 0,
   "metadata": {
    "application/vnd.databricks.v1+cell": {
     "cellMetadata": {
      "byteLimit": 2048000,
      "rowLimit": 10000
     },
     "inputWidgets": {},
     "nuid": "6f5f1694-5ebb-4069-9633-7df711c19060",
     "showTitle": false,
     "tableResultSettingsMap": {},
     "title": ""
    }
   },
   "outputs": [],
   "source": [
    "a.remove(30)"
   ]
  },
  {
   "cell_type": "code",
   "execution_count": 0,
   "metadata": {
    "application/vnd.databricks.v1+cell": {
     "cellMetadata": {
      "byteLimit": 2048000,
      "rowLimit": 10000
     },
     "inputWidgets": {},
     "nuid": "1bae2ac6-9c96-43e1-8b18-8a83ddb359e9",
     "showTitle": false,
     "tableResultSettingsMap": {},
     "title": ""
    }
   },
   "outputs": [],
   "source": [
    "a"
   ]
  },
  {
   "cell_type": "code",
   "execution_count": 0,
   "metadata": {
    "application/vnd.databricks.v1+cell": {
     "cellMetadata": {
      "byteLimit": 2048000,
      "rowLimit": 10000
     },
     "inputWidgets": {},
     "nuid": "76b50afc-29be-40f0-85bf-36fff5e1d428",
     "showTitle": false,
     "tableResultSettingsMap": {},
     "title": ""
    }
   },
   "outputs": [],
   "source": [
    "a.remove(30)\n",
    "a"
   ]
  },
  {
   "cell_type": "code",
   "execution_count": 0,
   "metadata": {
    "application/vnd.databricks.v1+cell": {
     "cellMetadata": {
      "byteLimit": 2048000,
      "rowLimit": 10000
     },
     "inputWidgets": {},
     "nuid": "12924e1b-d600-49ef-a3c9-d77b6f2770d0",
     "showTitle": true,
     "tableResultSettingsMap": {},
     "title": "remove if item is present"
    }
   },
   "outputs": [],
   "source": [
    "item = 30 \n",
    "if a.count(item) > 0:\n",
    "    a.remove(30)\n",
    "else:\n",
    "    print(f\"{item} is not present in the list\")"
   ]
  },
  {
   "cell_type": "code",
   "execution_count": 0,
   "metadata": {
    "application/vnd.databricks.v1+cell": {
     "cellMetadata": {
      "byteLimit": 2048000,
      "rowLimit": 10000
     },
     "inputWidgets": {},
     "nuid": "6ea690c4-e5ee-403d-b80a-a5bda47259a6",
     "showTitle": true,
     "tableResultSettingsMap": {},
     "title": "finding index of a given element"
    }
   },
   "outputs": [],
   "source": [
    "a = [10, 20, 30, 40, 50]\n",
    "i = a.index(30)\n",
    "print(i)"
   ]
  },
  {
   "cell_type": "code",
   "execution_count": 0,
   "metadata": {
    "application/vnd.databricks.v1+cell": {
     "cellMetadata": {
      "byteLimit": 2048000,
      "rowLimit": 10000
     },
     "inputWidgets": {},
     "nuid": "22ff2f24-6ba6-4a34-83d0-61aa827356d3",
     "showTitle": true,
     "tableResultSettingsMap": {},
     "title": "finding index of a repeated element"
    }
   },
   "outputs": [],
   "source": [
    "a = [30, 10, 20, 30, 30, 40, 50]\n",
    "i = 0 \n",
    "while i < len(a):\n",
    "    if a[i] == 30:\n",
    "        print(i) # printing the index \n",
    "        #print(a[i]) # printing the value \n",
    "    i = i + 1 # increment loop variable"
   ]
  }
 ],
 "metadata": {
  "application/vnd.databricks.v1+notebook": {
   "computePreferences": null,
   "dashboards": [],
   "environmentMetadata": {
    "base_environment": "",
    "environment_version": "3"
   },
   "inputWidgetPreferences": null,
   "language": "python",
   "notebookMetadata": {
    "pythonIndentUnit": 4
   },
   "notebookName": "list_demo",
   "widgets": {}
  },
  "language_info": {
   "name": "python"
  }
 },
 "nbformat": 4,
 "nbformat_minor": 0
}
