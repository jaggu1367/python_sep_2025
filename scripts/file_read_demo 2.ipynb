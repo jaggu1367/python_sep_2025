{
 "cells": [
  {
   "cell_type": "code",
   "execution_count": 3,
   "id": "d8a6fb2c-66cc-444d-9c76-a170cb8a2b8e",
   "metadata": {},
   "outputs": [],
   "source": [
    "file_path = \"D:/work/bigdata/python_demo_project/my_data.txt\""
   ]
  },
  {
   "cell_type": "code",
   "execution_count": 4,
   "id": "140410dd-7117-4ae5-8289-9e4d35c79ec3",
   "metadata": {},
   "outputs": [
    {
     "data": {
      "text/plain": [
       "'D:/work/bigdata/python_demo_project/my_data.txt'"
      ]
     },
     "execution_count": 4,
     "metadata": {},
     "output_type": "execute_result"
    }
   ],
   "source": [
    "file_path"
   ]
  },
  {
   "cell_type": "code",
   "execution_count": 5,
   "id": "cc0862c4-cbcd-47a0-9d40-6a36cfc3e809",
   "metadata": {},
   "outputs": [],
   "source": [
    "f = open(file_path, mode='r')"
   ]
  },
  {
   "cell_type": "code",
   "execution_count": 6,
   "id": "f7cd06a6-8a0a-47a3-8104-7b1ec12e17e8",
   "metadata": {},
   "outputs": [
    {
     "data": {
      "text/plain": [
       "'Hello Pavan'"
      ]
     },
     "execution_count": 6,
     "metadata": {},
     "output_type": "execute_result"
    }
   ],
   "source": [
    "f.read()"
   ]
  },
  {
   "cell_type": "code",
   "execution_count": 7,
   "id": "826d4796-47b1-454d-aa49-9ba623cc11de",
   "metadata": {},
   "outputs": [],
   "source": [
    "f.close()"
   ]
  },
  {
   "cell_type": "code",
   "execution_count": 9,
   "id": "12964069-6517-4774-a85c-0411dec43bea",
   "metadata": {},
   "outputs": [
    {
     "name": "stdout",
     "output_type": "stream",
     "text": [
      "Hello Pavan\n"
     ]
    }
   ],
   "source": [
    "with open(file_path, mode='r') as f:\n",
    "    content = f.read()\n",
    "    print(content)"
   ]
  },
  {
   "cell_type": "code",
   "execution_count": 10,
   "id": "706f994b-9955-4581-908e-e041b1dd33d9",
   "metadata": {},
   "outputs": [
    {
     "name": "stdout",
     "output_type": "stream",
     "text": [
      "Hello Pavan\n",
      "Hi Ganesh\n",
      "Bye Nagarjuna\n"
     ]
    }
   ],
   "source": [
    "with open(file_path, mode='r') as f:\n",
    "    content = f.read()\n",
    "    print(content)"
   ]
  },
  {
   "cell_type": "code",
   "execution_count": 11,
   "id": "53a7a1b0-3a64-4165-8619-83e2105b9691",
   "metadata": {},
   "outputs": [],
   "source": [
    "f = open(file_path)"
   ]
  },
  {
   "cell_type": "code",
   "execution_count": 12,
   "id": "67974d2a-e2cf-4cbc-a23a-eb1371691746",
   "metadata": {},
   "outputs": [
    {
     "data": {
      "text/plain": [
       "'Hello Pavan\\nHi Ganesh\\nBye Nagarjuna'"
      ]
     },
     "execution_count": 12,
     "metadata": {},
     "output_type": "execute_result"
    }
   ],
   "source": [
    "f.read()"
   ]
  },
  {
   "cell_type": "code",
   "execution_count": 13,
   "id": "2e66b7e4-1ed4-4c33-b508-e12ab876e865",
   "metadata": {},
   "outputs": [
    {
     "data": {
      "text/plain": [
       "0"
      ]
     },
     "execution_count": 13,
     "metadata": {},
     "output_type": "execute_result"
    }
   ],
   "source": [
    "f.seek(0)"
   ]
  },
  {
   "cell_type": "code",
   "execution_count": 14,
   "id": "afad17be-da36-42a1-ab5c-7ec02785bf3a",
   "metadata": {},
   "outputs": [
    {
     "data": {
      "text/plain": [
       "'Hello Pavan\\n'"
      ]
     },
     "execution_count": 14,
     "metadata": {},
     "output_type": "execute_result"
    }
   ],
   "source": [
    "f.readline()"
   ]
  },
  {
   "cell_type": "code",
   "execution_count": 15,
   "id": "6ddf8fc5-9901-49b7-8178-290d94d578d9",
   "metadata": {},
   "outputs": [
    {
     "data": {
      "text/plain": [
       "'Hi Ganesh\\n'"
      ]
     },
     "execution_count": 15,
     "metadata": {},
     "output_type": "execute_result"
    }
   ],
   "source": [
    "f.readline()"
   ]
  },
  {
   "cell_type": "code",
   "execution_count": 16,
   "id": "e01c5d45-08bf-43f0-9564-14b34fd5f2f9",
   "metadata": {},
   "outputs": [
    {
     "data": {
      "text/plain": [
       "'Bye Nagarjuna'"
      ]
     },
     "execution_count": 16,
     "metadata": {},
     "output_type": "execute_result"
    }
   ],
   "source": [
    "f.readline()"
   ]
  },
  {
   "cell_type": "code",
   "execution_count": 17,
   "id": "e7b1f127-88d8-4a3d-991e-8572866c26df",
   "metadata": {},
   "outputs": [
    {
     "data": {
      "text/plain": [
       "''"
      ]
     },
     "execution_count": 17,
     "metadata": {},
     "output_type": "execute_result"
    }
   ],
   "source": [
    "f.readline()"
   ]
  },
  {
   "cell_type": "code",
   "execution_count": 18,
   "id": "b9c9cb02-6ced-4580-b1ca-a9173ff12477",
   "metadata": {},
   "outputs": [
    {
     "data": {
      "text/plain": [
       "''"
      ]
     },
     "execution_count": 18,
     "metadata": {},
     "output_type": "execute_result"
    }
   ],
   "source": [
    "f.readline()"
   ]
  },
  {
   "cell_type": "code",
   "execution_count": 19,
   "id": "9a9c1d88-578a-4c2b-9965-b39300df53b9",
   "metadata": {},
   "outputs": [
    {
     "data": {
      "text/plain": [
       "''"
      ]
     },
     "execution_count": 19,
     "metadata": {},
     "output_type": "execute_result"
    }
   ],
   "source": [
    "f.read()"
   ]
  },
  {
   "cell_type": "code",
   "execution_count": 20,
   "id": "7e5b7cfc-ec81-4e71-b85e-159a21f513e4",
   "metadata": {},
   "outputs": [
    {
     "data": {
      "text/plain": [
       "0"
      ]
     },
     "execution_count": 20,
     "metadata": {},
     "output_type": "execute_result"
    }
   ],
   "source": [
    "f.seek(0)"
   ]
  },
  {
   "cell_type": "code",
   "execution_count": 21,
   "id": "5edbc1c6-6d62-4735-8533-3a2718bb62b8",
   "metadata": {},
   "outputs": [
    {
     "data": {
      "text/plain": [
       "'Hello Pavan\\nHi Ganesh\\nBye Nagarjuna'"
      ]
     },
     "execution_count": 21,
     "metadata": {},
     "output_type": "execute_result"
    }
   ],
   "source": [
    "f.read()"
   ]
  },
  {
   "cell_type": "code",
   "execution_count": null,
   "id": "10d041e4-7332-4172-b798-efe911d7ad7e",
   "metadata": {},
   "outputs": [],
   "source": [
    "f.seek(position,whence) \n",
    "f.seek(position,0)\n",
    "f.seek(position,1)\n",
    "f.seek(position,2)\n",
    "\n",
    "whence = from what position / relative to what position"
   ]
  },
  {
   "cell_type": "code",
   "execution_count": null,
   "id": "fc84e54d-e55b-4901-8aeb-168475887455",
   "metadata": {},
   "outputs": [],
   "source": [
    "f.seek(0,0) beginning of the file \n",
    "f.seek(0,2) end of the file "
   ]
  },
  {
   "cell_type": "code",
   "execution_count": 35,
   "id": "783522ce-a089-4a09-8f38-6bf546bb4558",
   "metadata": {},
   "outputs": [
    {
     "data": {
      "text/plain": [
       "'D:/work/bigdata/python_demo_project/my_data.txt'"
      ]
     },
     "execution_count": 35,
     "metadata": {},
     "output_type": "execute_result"
    }
   ],
   "source": [
    "file_path"
   ]
  },
  {
   "cell_type": "code",
   "execution_count": 36,
   "id": "4300660f-8ef6-41f8-9d6f-26ede608ce37",
   "metadata": {},
   "outputs": [],
   "source": [
    "f = open(file_path)"
   ]
  },
  {
   "cell_type": "code",
   "execution_count": 37,
   "id": "106ac3b1-a601-4623-b7d3-e057b30e91df",
   "metadata": {},
   "outputs": [
    {
     "ename": "UnsupportedOperation",
     "evalue": "can't do nonzero end-relative seeks",
     "output_type": "error",
     "traceback": [
      "\u001b[31m---------------------------------------------------------------------------\u001b[39m",
      "\u001b[31mUnsupportedOperation\u001b[39m                      Traceback (most recent call last)",
      "\u001b[36mCell\u001b[39m\u001b[36m \u001b[39m\u001b[32mIn[37]\u001b[39m\u001b[32m, line 1\u001b[39m\n\u001b[32m----> \u001b[39m\u001b[32m1\u001b[39m \u001b[43mf\u001b[49m\u001b[43m.\u001b[49m\u001b[43mseek\u001b[49m\u001b[43m(\u001b[49m\u001b[43m-\u001b[49m\u001b[32;43m9\u001b[39;49m\u001b[43m,\u001b[49m\u001b[32;43m2\u001b[39;49m\u001b[43m)\u001b[49m\n",
      "\u001b[31mUnsupportedOperation\u001b[39m: can't do nonzero end-relative seeks"
     ]
    }
   ],
   "source": [
    "f.seek(-9,2)"
   ]
  },
  {
   "cell_type": "code",
   "execution_count": 38,
   "id": "55178973-ccfe-47f0-9a2b-d8416442439a",
   "metadata": {},
   "outputs": [
    {
     "data": {
      "text/plain": [
       "'Hello Pavan\\nHi Ganesh\\nBye Nagarjuna'"
      ]
     },
     "execution_count": 38,
     "metadata": {},
     "output_type": "execute_result"
    }
   ],
   "source": [
    "f.read()"
   ]
  },
  {
   "cell_type": "code",
   "execution_count": 39,
   "id": "5f637ec0-f44b-4c90-8889-76b4d8bf42f9",
   "metadata": {},
   "outputs": [
    {
     "ename": "UnsupportedOperation",
     "evalue": "can't do nonzero end-relative seeks",
     "output_type": "error",
     "traceback": [
      "\u001b[31m---------------------------------------------------------------------------\u001b[39m",
      "\u001b[31mUnsupportedOperation\u001b[39m                      Traceback (most recent call last)",
      "\u001b[36mCell\u001b[39m\u001b[36m \u001b[39m\u001b[32mIn[39]\u001b[39m\u001b[32m, line 2\u001b[39m\n\u001b[32m      1\u001b[39m \u001b[38;5;28;01mwith\u001b[39;00m \u001b[38;5;28mopen\u001b[39m(file_path, \u001b[33m\"\u001b[39m\u001b[33mr\u001b[39m\u001b[33m\"\u001b[39m) \u001b[38;5;28;01mas\u001b[39;00m f:\n\u001b[32m----> \u001b[39m\u001b[32m2\u001b[39m     \u001b[43mf\u001b[49m\u001b[43m.\u001b[49m\u001b[43mseek\u001b[49m\u001b[43m(\u001b[49m\u001b[43m-\u001b[49m\u001b[32;43m5\u001b[39;49m\u001b[43m,\u001b[49m\u001b[43m \u001b[49m\u001b[32;43m2\u001b[39;49m\u001b[43m)\u001b[49m\n\u001b[32m      3\u001b[39m     \u001b[38;5;28mprint\u001b[39m(f.read())\n",
      "\u001b[31mUnsupportedOperation\u001b[39m: can't do nonzero end-relative seeks"
     ]
    }
   ],
   "source": [
    "with open(file_path, \"r\") as f:\n",
    "    f.seek(-5, 2)\n",
    "    print(f.read())"
   ]
  },
  {
   "cell_type": "code",
   "execution_count": 42,
   "id": "7fbc2c4b-171b-426a-b88a-c353d7974b93",
   "metadata": {},
   "outputs": [
    {
     "name": "stdout",
     "output_type": "stream",
     "text": [
      "Nagarjuna\n"
     ]
    }
   ],
   "source": [
    "f = open(file_path, \"r\")\n",
    "end_position = f.seek(0,2)\n",
    "read_position = end_position - 9 \n",
    "f.seek(read_position)\n",
    "print(f.read())\n",
    "f.close()"
   ]
  },
  {
   "cell_type": "code",
   "execution_count": null,
   "id": "b8f6e580-17e1-4379-8f8d-37af3d7f2adf",
   "metadata": {},
   "outputs": [],
   "source": []
  }
 ],
 "metadata": {
  "kernelspec": {
   "display_name": "Python 3 (ipykernel)",
   "language": "python",
   "name": "python3"
  },
  "language_info": {
   "codemirror_mode": {
    "name": "ipython",
    "version": 3
   },
   "file_extension": ".py",
   "mimetype": "text/x-python",
   "name": "python",
   "nbconvert_exporter": "python",
   "pygments_lexer": "ipython3",
   "version": "3.13.7"
  }
 },
 "nbformat": 4,
 "nbformat_minor": 5
}
