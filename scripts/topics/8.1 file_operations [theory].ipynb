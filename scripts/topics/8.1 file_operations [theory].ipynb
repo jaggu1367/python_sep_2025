{
 "cells": [
  {
   "cell_type": "markdown",
   "metadata": {
    "application/vnd.databricks.v1+cell": {
     "cellMetadata": {},
     "inputWidgets": {},
     "nuid": "cbdd3f5a-66db-4cfc-ae55-96b52a34a936",
     "showTitle": false,
     "tableResultSettingsMap": {},
     "title": ""
    }
   },
   "source": [
    "# How to open a file in Python?\n",
    "\n",
    "You can open files in Python using the `open()` function. There are two main ways:\n",
    "\n",
    "---\n",
    "\n",
    "## 1. Using `open()` and manually closing\n",
    "\n",
    "python <br>\n",
    "<pre>\n",
    "f = open('example.txt', 'r')\n",
    "content = f.read()\n",
    "# do something with the content\n",
    "f.close() \n",
    "</pre>\n",
    "### You must remember to close the file!\n",
    "\n",
    "**Disadvantage:**  \n",
    "If you forget to call `close()`, the file may remain open, leading to resource leaks or data not being written properly.\n",
    "\n",
    "---\n",
    "\n",
    "## 2. Using `with open()` (Context Manager)\n",
    "\n",
    "python <br>\n",
    "<pre>\n",
    "with open('example.txt', 'r') as f:\n",
    "    content = f.read()\n",
    "# File is automatically closed when block ends\n",
    "</pre>\n",
    "\n",
    "**Advantage:**  \n",
    "The file is automatically closed, even if an error occurs inside the block. This is safer and recommended.\n",
    "\n",
    "---\n",
    "\n",
    "**Summary:**  \n",
    "- `open()` requires manual closing (`close()`).\n",
    "- `with open()` automatically closes the file, preventing resource leaks."
   ]
  },
  {
   "cell_type": "code",
   "execution_count": null,
   "metadata": {
    "application/vnd.databricks.v1+cell": {
     "cellMetadata": {},
     "inputWidgets": {},
     "nuid": "033ce270-7876-4465-a15a-07a87ca6672f",
     "showTitle": true,
     "tableResultSettingsMap": {},
     "title": "help(open)"
    }
   },
   "outputs": [],
   "source": [
    "help(open)"
   ]
  },
  {
   "cell_type": "markdown",
   "metadata": {
    "application/vnd.databricks.v1+cell": {
     "cellMetadata": {},
     "inputWidgets": {},
     "nuid": "02e4f19f-5036-4b30-beec-6c21b42cb548",
     "showTitle": false,
     "tableResultSettingsMap": {},
     "title": ""
    }
   },
   "source": [
    "# File Handling —  File Open Modes\n",
    "\n",
    "### Introduction & Comparison\n",
    "\n",
    "**What are file modes?**\n",
    "When opening a file in Python you give a *mode* that specifies how you want to work with the file.\n",
    "\n",
    "| Mode | Readable? | Writable? | File must exist? | Truncates existing file? |\n",
    "|------|-----------|-----------|------------------|--------------------------|\n",
    "| r    | Yes       | No        | Yes              | No                       |\n",
    "| r+   | Yes       | Yes       | Yes              | No                       |\n",
    "| w    | No        | Yes       | No (creates)     | Yes (clears file)        |\n",
    "| w+   | Yes       | Yes       | No (creates)     | Yes (clears file)        |\n",
    "| a    | No        | Yes       | No (creates)     | No                       |\n",
    "| a+   | Yes       | Yes       | No (creates)     | No                       |"
   ]
  },
  {
   "cell_type": "markdown",
   "metadata": {
    "application/vnd.databricks.v1+cell": {
     "cellMetadata": {},
     "inputWidgets": {},
     "nuid": "58d52bbc-fd92-43e2-b7fe-50b5c5367b97",
     "showTitle": false,
     "tableResultSettingsMap": {},
     "title": ""
    }
   },
   "source": [
    "# File Handling — File Open Modes Explained"
   ]
  },
  {
   "cell_type": "markdown",
   "metadata": {
    "application/vnd.databricks.v1+cell": {
     "cellMetadata": {},
     "inputWidgets": {},
     "nuid": "4db2b1c4-1b15-4cd6-a53b-73071f7cdcae",
     "showTitle": false,
     "tableResultSettingsMap": {},
     "title": ""
    }
   },
   "source": [
    "## Mode: **r** (Read Only)\n",
    "- Opens file for **reading only**\n",
    "- **File must exist**\n",
    "- Pointer starts at **beginning**"
   ]
  },
  {
   "cell_type": "code",
   "execution_count": null,
   "metadata": {
    "application/vnd.databricks.v1+cell": {
     "cellMetadata": {},
     "inputWidgets": {},
     "nuid": "038cd0ef-f7ee-4250-b6ef-f22870ecbb8e",
     "showTitle": true,
     "tableResultSettingsMap": {},
     "title": " Demo_r_mode"
    }
   },
   "outputs": [],
   "source": [
    "with open(\"/tmp/mode_r_example.txt\", \"w\") as f:\n",
    "    f.write(\"Hello Students!\\nWelcome to File Handling.\")\n",
    "\n",
    "with open(\"/tmp/mode_r_example.txt\", \"r\") as f:\n",
    "    print(f.read())"
   ]
  },
  {
   "cell_type": "markdown",
   "metadata": {
    "application/vnd.databricks.v1+cell": {
     "cellMetadata": {},
     "inputWidgets": {},
     "nuid": "71cdfb62-9695-4481-af87-f7212e0f77f9",
     "showTitle": false,
     "tableResultSettingsMap": {},
     "title": ""
    }
   },
   "source": [
    "## Mode: **w** (Write Only)\n",
    "- Opens file for **writing**\n",
    "- **Creates** file if not exists\n",
    "- **Erases** (truncates) existing file content"
   ]
  },
  {
   "cell_type": "code",
   "execution_count": null,
   "metadata": {
    "application/vnd.databricks.v1+cell": {
     "cellMetadata": {},
     "inputWidgets": {},
     "nuid": "6751e706-83b7-495c-9721-843b6d7bc150",
     "showTitle": true,
     "tableResultSettingsMap": {},
     "title": " Demo_w_mode"
    }
   },
   "outputs": [],
   "source": [
    "with open(\"/tmp/mode_w_example.txt\", \"w\") as f:\n",
    "    f.write(\"This file was written using w mode.\")\n",
    "\n",
    "with open(\"/tmp/mode_w_example.txt\", \"r\") as f:\n",
    "    print(f.read())"
   ]
  },
  {
   "cell_type": "markdown",
   "metadata": {
    "application/vnd.databricks.v1+cell": {
     "cellMetadata": {},
     "inputWidgets": {},
     "nuid": "2aa8ff33-149b-4f3d-89af-0a053d17647a",
     "showTitle": false,
     "tableResultSettingsMap": {},
     "title": ""
    }
   },
   "source": [
    "## Mode: **a** (Append Only)\n",
    "- Opens file for **adding new content**\n",
    "- Does **not** erase existing content\n",
    "- Always writes **at end**"
   ]
  },
  {
   "cell_type": "code",
   "execution_count": null,
   "metadata": {
    "application/vnd.databricks.v1+cell": {
     "cellMetadata": {},
     "inputWidgets": {},
     "nuid": "057137bf-6195-458f-b0b2-51a0a725eea1",
     "showTitle": true,
     "tableResultSettingsMap": {},
     "title": " Demo_a_mode"
    }
   },
   "outputs": [],
   "source": [
    "with open(\"/tmp/mode_a_example.txt\", \"w\") as f:\n",
    "    f.write(\"Line 1\\n\")\n",
    "\n",
    "with open(\"/tmp/mode_a_example.txt\", \"a\") as f:\n",
    "    f.write(\"Line 2 (appended)\\n\")\n",
    "\n",
    "with open(\"/tmp/mode_a_example.txt\", \"r\") as f:\n",
    "    print(f.read())"
   ]
  },
  {
   "cell_type": "markdown",
   "metadata": {
    "application/vnd.databricks.v1+cell": {
     "cellMetadata": {},
     "inputWidgets": {},
     "nuid": "32083a3a-588d-4724-87d3-2572ffb9141d",
     "showTitle": false,
     "tableResultSettingsMap": {},
     "title": ""
    }
   },
   "source": [
    "## Mode: **r+** (Read + Write)\n",
    "- Opens file for **reading and writing**\n",
    "- **File must exist**\n",
    "- Does **not** erase content, but writing starts at current pointer"
   ]
  },
  {
   "cell_type": "code",
   "execution_count": null,
   "metadata": {
    "application/vnd.databricks.v1+cell": {
     "cellMetadata": {},
     "inputWidgets": {},
     "nuid": "9ed6a2e5-5f2c-43df-9cb3-72a633741a39",
     "showTitle": true,
     "tableResultSettingsMap": {},
     "title": " Demo_r_plus_mode"
    }
   },
   "outputs": [],
   "source": [
    "with open(\"/tmp/mode_r_plus_example.txt\", \"w\") as f:\n",
    "    f.write(\"ABCDEFG\")\n",
    "\n",
    "with open(\"/tmp/mode_r_plus_example.txt\", \"r+\") as f:\n",
    "    f.seek(3)\n",
    "    f.write(\"***\")\n",
    "    f.seek(0)\n",
    "    print(f.read())"
   ]
  },
  {
   "cell_type": "markdown",
   "metadata": {
    "application/vnd.databricks.v1+cell": {
     "cellMetadata": {},
     "inputWidgets": {},
     "nuid": "57d5399b-4d16-44be-b251-1628d207dd3c",
     "showTitle": false,
     "tableResultSettingsMap": {},
     "title": ""
    }
   },
   "source": [
    "## Mode: **w+** (Write + Read)\n",
    "- Opens file to **write then read**\n",
    "- **Erases** file before writing\n",
    "- Pointer starts at beginning"
   ]
  },
  {
   "cell_type": "code",
   "execution_count": null,
   "metadata": {
    "application/vnd.databricks.v1+cell": {
     "cellMetadata": {},
     "inputWidgets": {},
     "nuid": "7197aa08-732e-470a-808b-04ae5635884f",
     "showTitle": true,
     "tableResultSettingsMap": {},
     "title": " Demo_w_plus_mode"
    }
   },
   "outputs": [],
   "source": [
    "with open(\"/tmp/mode_w_plus_example.txt\", \"w+\") as f:\n",
    "    f.write(\"Hello!\")\n",
    "    f.seek(0)\n",
    "    print(f.read())"
   ]
  },
  {
   "cell_type": "markdown",
   "metadata": {
    "application/vnd.databricks.v1+cell": {
     "cellMetadata": {},
     "inputWidgets": {},
     "nuid": "1d8d42b0-ccf9-4140-9ad6-06a9a871c2b4",
     "showTitle": false,
     "tableResultSettingsMap": {},
     "title": ""
    }
   },
   "source": [
    "## Mode: **a+** (Append + Read)\n",
    "- Opens file to **read and append**\n",
    "- Does **not erase** existing content\n",
    "- Writing always happens **at end**"
   ]
  },
  {
   "cell_type": "code",
   "execution_count": null,
   "metadata": {
    "application/vnd.databricks.v1+cell": {
     "cellMetadata": {},
     "inputWidgets": {},
     "nuid": "73d8289b-c357-4489-8201-816da303cb10",
     "showTitle": true,
     "tableResultSettingsMap": {},
     "title": " Demo_a_plus_mode"
    }
   },
   "outputs": [],
   "source": [
    "with open(\"/tmp/mode_a_plus_example.txt\", \"w\") as f:\n",
    "    f.write(\"Original Line\\n\")\n",
    "\n",
    "with open(\"/tmp/mode_a_plus_example.txt\", \"a+\") as f:\n",
    "    f.write(\"New Appended Line\\n\")\n",
    "    f.seek(0)\n",
    "    print(f.read())"
   ]
  },
  {
   "cell_type": "markdown",
   "metadata": {
    "application/vnd.databricks.v1+cell": {
     "cellMetadata": {},
     "inputWidgets": {},
     "nuid": "2d5f42b5-508a-498e-9318-ff8502526036",
     "showTitle": false,
     "tableResultSettingsMap": {},
     "title": ""
    }
   },
   "source": [
    "# File Handling — File Read & Write Methods\n",
    "- `read()` reads whole or part of the file\n",
    "- `readline()` reads one line\n",
    "- `readlines()` returns list of lines\n",
    "- `write()` writes data\n",
    "- `writelines()` writes list of lines"
   ]
  },
  {
   "cell_type": "code",
   "execution_count": null,
   "metadata": {
    "application/vnd.databricks.v1+cell": {
     "cellMetadata": {},
     "inputWidgets": {},
     "nuid": "bca4debf-9e0a-4b22-8468-c3863f606245",
     "showTitle": true,
     "tableResultSettingsMap": {},
     "title": "Demo File read & write methods"
    }
   },
   "outputs": [],
   "source": [
    "demo_path = \"/tmp/demo_read_write.txt\"\n",
    "\n",
    "with open(demo_path, \"w\") as f:\n",
    "    f.write(\"First line\\nSecond line\\nThird line\\n\")\n",
    "\n",
    "with open(demo_path, \"r\") as f:\n",
    "    print(\"read():\", f.read())\n",
    "\n",
    "with open(demo_path, \"r\") as f:\n",
    "    print(\"readline():\", f.readline())\n",
    "\n",
    "with open(demo_path, \"a\") as f:\n",
    "    f.write(\"Fourth line (appended)\\n\")\n",
    "\n",
    "with open(demo_path, \"r\") as f:\n",
    "    print(\"After append:\", f.read())\n",
    "\n",
    "os.remove(demo_path)"
   ]
  },
  {
   "cell_type": "markdown",
   "metadata": {
    "application/vnd.databricks.v1+cell": {
     "cellMetadata": {},
     "inputWidgets": {},
     "nuid": "0150953f-03ea-4e12-a9cb-f48a203a6d8b",
     "showTitle": false,
     "tableResultSettingsMap": {},
     "title": ""
    }
   },
   "source": [
    "# File Handling — Controlling File Pointer\n",
    "Use seek() to control the file pointer \n",
    "`seek(offset, whence)`\n",
    "\n",
    "\n",
    "`seek()` moves the read/write pointer:\n",
    "- `seek(0)` → start of file\n",
    "- `seek(offset, 1)` → relative to current position\n",
    "- `seek(offset, 2)` → relative to end of the file\n",
    "- `seek(0, 2)` → end of file"
   ]
  },
  {
   "cell_type": "markdown",
   "metadata": {
    "application/vnd.databricks.v1+cell": {
     "cellMetadata": {},
     "inputWidgets": {},
     "nuid": "ff47f79c-4a76-45af-abdc-994cba41cf6d",
     "showTitle": false,
     "tableResultSettingsMap": {},
     "title": ""
    }
   },
   "source": [
    "## `seek(offset, 0)` — Move Pointer From **Start**\n",
    "Example: move to 5th character and read from there."
   ]
  },
  {
   "cell_type": "code",
   "execution_count": null,
   "metadata": {
    "application/vnd.databricks.v1+cell": {
     "cellMetadata": {},
     "inputWidgets": {},
     "nuid": "030e97df-80e4-4267-a8da-a6c4b5295464",
     "showTitle": true,
     "tableResultSettingsMap": {},
     "title": " Demo_seek_from_start"
    }
   },
   "outputs": [],
   "source": [
    "with open(\"/tmp/seek_example.txt\", \"w\") as f:\n",
    "    f.write(\"ABCDEFGHIJKLMN\")\n",
    "\n",
    "with open(\"/tmp/seek_example.txt\", \"r\") as f:\n",
    "    f.seek(5, 0)\n",
    "    print(f.read())"
   ]
  },
  {
   "cell_type": "markdown",
   "metadata": {
    "application/vnd.databricks.v1+cell": {
     "cellMetadata": {},
     "inputWidgets": {},
     "nuid": "05767485-abec-4603-9aca-9b28a4dd8c16",
     "showTitle": false,
     "tableResultSettingsMap": {},
     "title": ""
    }
   },
   "source": [
    "## `seek(offset, 1)` — Move Pointer From **Current Position**"
   ]
  },
  {
   "cell_type": "code",
   "execution_count": null,
   "metadata": {
    "application/vnd.databricks.v1+cell": {
     "cellMetadata": {},
     "inputWidgets": {},
     "nuid": "3022d57f-6713-44fa-854f-990e4b47a289",
     "showTitle": true,
     "tableResultSettingsMap": {},
     "title": " Demo_seek_from_current"
    }
   },
   "outputs": [],
   "source": [
    "with open(\"/tmp/seek_example.txt\", \"r\") as f:\n",
    "    f.read(5)\n",
    "    f.seek(2, 1)\n",
    "    print(f.read())"
   ]
  },
  {
   "cell_type": "markdown",
   "metadata": {
    "application/vnd.databricks.v1+cell": {
     "cellMetadata": {},
     "inputWidgets": {},
     "nuid": "3d2b863b-3c42-4b6c-b159-564c5890c24d",
     "showTitle": false,
     "tableResultSettingsMap": {},
     "title": ""
    }
   },
   "source": [
    "## `seek(offset, 2)` — Move Pointer From **End of File**"
   ]
  },
  {
   "cell_type": "code",
   "execution_count": null,
   "metadata": {
    "application/vnd.databricks.v1+cell": {
     "cellMetadata": {},
     "inputWidgets": {},
     "nuid": "2f80c459-1827-4e18-8a59-3e9c82dbb84b",
     "showTitle": true,
     "tableResultSettingsMap": {},
     "title": "*** Demo_seek_from_end in text mode *** will fail"
    }
   },
   "outputs": [],
   "source": [
    "with open(\"/tmp/seek_example.txt\", \"r\") as f:\n",
    "    f.seek(-5, 2)\n",
    "    print(f.read())"
   ]
  },
  {
   "cell_type": "code",
   "execution_count": null,
   "metadata": {
    "application/vnd.databricks.v1+cell": {
     "cellMetadata": {},
     "inputWidgets": {},
     "nuid": "4fdb2997-ba1a-498f-8a02-6313cb0275f7",
     "showTitle": true,
     "tableResultSettingsMap": {},
     "title": "*** Demo_seek_from_end in binary mode *** will work"
    }
   },
   "outputs": [],
   "source": [
    "with open(\"/tmp/text.txt\", \"wb+\") as f:\n",
    "    f.write(b\"hello python\")\n",
    "    f.seek(-6, 2)\n",
    "    print(f.read().decode())"
   ]
  }
 ],
 "metadata": {
  "application/vnd.databricks.v1+notebook": {
   "computePreferences": null,
   "dashboards": [],
   "environmentMetadata": null,
   "inputWidgetPreferences": null,
   "language": "python",
   "notebookMetadata": {
    "pythonIndentUnit": 4
   },
   "notebookName": "8.1 file_operations [theory]",
   "widgets": {}
  },
  "kernelspec": {
   "display_name": "Python 3 (ipykernel)",
   "language": "python",
   "name": "python3"
  },
  "language_info": {
   "codemirror_mode": {
    "name": "ipython",
    "version": 3
   },
   "file_extension": ".py",
   "mimetype": "text/x-python",
   "name": "python",
   "nbconvert_exporter": "python",
   "pygments_lexer": "ipython3",
   "version": "3.13.7"
  }
 },
 "nbformat": 4,
 "nbformat_minor": 4
}
