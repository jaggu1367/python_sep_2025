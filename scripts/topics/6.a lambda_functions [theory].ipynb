{
 "cells": [
  {
   "cell_type": "markdown",
   "metadata": {
    "application/vnd.databricks.v1+cell": {
     "cellMetadata": {},
     "inputWidgets": {},
     "nuid": "20a66551-9403-4a9a-b70b-4ed6af0d585b",
     "showTitle": false,
     "tableResultSettingsMap": {},
     "title": ""
    }
   },
   "source": [
    "## 💡 What is a Lambda Function in Python?\n",
    "\n",
    "A **lambda** function in Python is a small **anonymous function**. It can take any number of arguments, but **can only have one expression**.\n",
    "\n",
    "**Why use lambda?**\n",
    "- To write quick, throwaway functions\n",
    "- For functional programming (alongside `map`, `filter`, `reduce`)\n",
    "- Used where function objects are needed temporarily\n",
    "\n",
    "**Syntax:**\n",
    "```python\n",
    "lambda arguments: expression\n",
    "```"
   ]
  },
  {
   "cell_type": "code",
   "execution_count": 0,
   "metadata": {
    "application/vnd.databricks.v1+cell": {
     "cellMetadata": {},
     "inputWidgets": {},
     "nuid": "88c0bf49-74cf-4bbe-80d9-33ae825f9c9c",
     "showTitle": true,
     "tableResultSettingsMap": {},
     "title": "Basic Lambda Function Examples"
    }
   },
   "outputs": [],
   "source": [
    "# Simple lambda function to add 10 to a number\n",
    "add_10 = lambda x: x + 10\n",
    "print(add_10(5))  # Output: 15\n",
    "\n",
    "# Lambda with multiple arguments\n",
    "multiply = lambda x, y: x * y\n",
    "print(multiply(4, 5))  # Output: 20"
   ]
  },
  {
   "cell_type": "markdown",
   "metadata": {
    "application/vnd.databricks.v1+cell": {
     "cellMetadata": {},
     "inputWidgets": {},
     "nuid": "e9ab3665-2a17-41b3-9471-c8d93d3f89bd",
     "showTitle": false,
     "tableResultSettingsMap": {},
     "title": ""
    }
   },
   "source": [
    "## 👉 Lambda vs Regular Function\n",
    "\n",
    "Let's compare how we define a regular function vs. a lambda function."
   ]
  },
  {
   "cell_type": "code",
   "execution_count": 0,
   "metadata": {
    "application/vnd.databricks.v1+cell": {
     "cellMetadata": {},
     "inputWidgets": {},
     "nuid": "09864614-1ced-4755-96cd-d1d7310d0b07",
     "showTitle": true,
     "tableResultSettingsMap": {},
     "title": "Lambda vs Regular Function"
    }
   },
   "outputs": [],
   "source": [
    "# Regular function\n",
    "def square(x):\n",
    "    return x ** 2\n",
    "\n",
    "# Lambda function\n",
    "square_lambda = lambda x: x ** 2\n",
    "\n",
    "print(\"Regular Function:\", square(6))\n",
    "print(\"Lambda Function:\", square_lambda(6))"
   ]
  },
  {
   "cell_type": "markdown",
   "metadata": {
    "application/vnd.databricks.v1+cell": {
     "cellMetadata": {},
     "inputWidgets": {},
     "nuid": "1de84fa8-c226-4ef4-aea5-5b757af29e1c",
     "showTitle": false,
     "tableResultSettingsMap": {},
     "title": ""
    }
   },
   "source": [
    "## 👉 Using Lambda with `map()`\n",
    "\n",
    "`map()` applies a function to **all items** in an iterable (like a list).\n",
    "\n",
    "**Syntax:**\n",
    "```python\n",
    "map(function, iterable)\n",
    "```"
   ]
  },
  {
   "cell_type": "code",
   "execution_count": 0,
   "metadata": {
    "application/vnd.databricks.v1+cell": {
     "cellMetadata": {},
     "inputWidgets": {},
     "nuid": "b420537c-4438-4856-b8ee-6a3840fe9b39",
     "showTitle": true,
     "tableResultSettingsMap": {},
     "title": "Lambda with map()"
    }
   },
   "outputs": [],
   "source": [
    "numbers = [1, 2, 3, 4, 5]\n",
    "\n",
    "# Double each number using lambda\n",
    "doubled = list(map(lambda x: x * 2, numbers))\n",
    "print(\"Doubled:\", doubled)\n",
    "\n",
    "# Square each number\n",
    "squared = list(map(lambda x: x ** 2, numbers))\n",
    "print(\"Squared:\", squared)"
   ]
  },
  {
   "cell_type": "markdown",
   "metadata": {
    "application/vnd.databricks.v1+cell": {
     "cellMetadata": {},
     "inputWidgets": {},
     "nuid": "d3f5fe3f-6c56-4365-a248-cb8935584f72",
     "showTitle": false,
     "tableResultSettingsMap": {},
     "title": ""
    }
   },
   "source": [
    "## 👉 Using Lambda with `filter()`\n",
    "\n",
    "`filter()` filters elements from a list based on a condition.\n",
    "\n",
    "**Syntax:**\n",
    "```python\n",
    "filter(function, iterable)\n",
    "```"
   ]
  },
  {
   "cell_type": "code",
   "execution_count": 0,
   "metadata": {
    "application/vnd.databricks.v1+cell": {
     "cellMetadata": {},
     "inputWidgets": {},
     "nuid": "e53ac163-0f72-43d3-8d8b-cfc39a230dda",
     "showTitle": true,
     "tableResultSettingsMap": {},
     "title": "Lambda with filter()"
    }
   },
   "outputs": [],
   "source": [
    "# Get even numbers\n",
    "numbers = [1, 2, 3, 4, 5, 6, 7, 8]\n",
    "evens = list(filter(lambda x: x % 2 == 0, numbers))\n",
    "print(\"Even Numbers:\", evens)\n",
    "\n",
    "# Filter names starting with 'A'\n",
    "names = [\"Alice\", \"Bob\", \"Ankit\", \"Charlie\"]\n",
    "starts_with_A = list(filter(lambda name: name.startswith('A'), names))\n",
    "print(\"Names starting with A:\", starts_with_A)"
   ]
  },
  {
   "cell_type": "markdown",
   "metadata": {
    "application/vnd.databricks.v1+cell": {
     "cellMetadata": {},
     "inputWidgets": {},
     "nuid": "c46a51d1-3219-440f-9aa9-aa5ee50d1ef1",
     "showTitle": false,
     "tableResultSettingsMap": {},
     "title": ""
    }
   },
   "source": [
    "## 👉 Using Lambda with `reduce()`\n",
    "\n",
    "`reduce()` is used to apply a rolling computation to sequential pairs of values in a list.\n",
    "\n",
    "You must import it from `functools`."
   ]
  },
  {
   "cell_type": "code",
   "execution_count": 0,
   "metadata": {
    "application/vnd.databricks.v1+cell": {
     "cellMetadata": {},
     "inputWidgets": {},
     "nuid": "c0407536-75db-419d-bdfc-fbff5a40f687",
     "showTitle": true,
     "tableResultSettingsMap": {},
     "title": "Lambda with reduce()"
    }
   },
   "outputs": [],
   "source": [
    "from functools import reduce\n",
    "\n",
    "# Sum of all numbers\n",
    "numbers = [1, 2, 3, 4, 5]\n",
    "total = reduce(lambda x, y: x + y, numbers)\n",
    "print(\"Sum:\", total)\n",
    "\n",
    "# Product of all numbers\n",
    "product = reduce(lambda x, y: x * y, numbers)\n",
    "print(\"Product:\", product)"
   ]
  },
  {
   "cell_type": "markdown",
   "metadata": {
    "application/vnd.databricks.v1+cell": {
     "cellMetadata": {},
     "inputWidgets": {},
     "nuid": "0f98c576-47a7-41b3-9472-76e5c08a7910",
     "showTitle": false,
     "tableResultSettingsMap": {},
     "title": ""
    }
   },
   "source": [
    "## 👉 Lambda in Sorting (Custom Sort)\n",
    "\n",
    "Lambda functions are often used as the key function in sorting lists of tuples or dictionaries."
   ]
  },
  {
   "cell_type": "code",
   "execution_count": 0,
   "metadata": {
    "application/vnd.databricks.v1+cell": {
     "cellMetadata": {},
     "inputWidgets": {},
     "nuid": "03c311df-f6b1-407b-b8fe-1092521eaf0d",
     "showTitle": true,
     "tableResultSettingsMap": {},
     "title": "Using Lambda for Sorting"
    }
   },
   "outputs": [],
   "source": [
    "# Sort list of tuples by second item\n",
    "data = [(1, 4), (3, 1), (5, 2)]\n",
    "sorted_data = sorted(data, key=lambda x: x[1])\n",
    "print(\"Sorted by 2nd item:\", sorted_data)\n",
    "\n",
    "# Sort dictionary by value\n",
    "my_dict = {'apple': 10, 'banana': 5, 'orange': 7}\n",
    "sorted_items = sorted(my_dict.items(), key=lambda x: x[1])\n",
    "print(\"Sorted by value:\", sorted_items)"
   ]
  },
  {
   "cell_type": "markdown",
   "metadata": {
    "application/vnd.databricks.v1+cell": {
     "cellMetadata": {},
     "inputWidgets": {},
     "nuid": "b10577b8-be5a-484c-bc74-d6e49d4de15c",
     "showTitle": false,
     "tableResultSettingsMap": {},
     "title": ""
    }
   },
   "source": [
    "## 👉 Lambda with `if-else` (Ternary Operator)\n",
    "\n",
    "Lambda can include conditional expressions like:\n",
    "```python\n",
    "lambda x: x if x > 0 else -x\n",
    "```"
   ]
  },
  {
   "cell_type": "code",
   "execution_count": 0,
   "metadata": {
    "application/vnd.databricks.v1+cell": {
     "cellMetadata": {},
     "inputWidgets": {},
     "nuid": "1d9dedce-f120-435a-83dd-3deda83e6e36",
     "showTitle": true,
     "tableResultSettingsMap": {},
     "title": "Lambda with Conditional Logic"
    }
   },
   "outputs": [],
   "source": [
    "# Absolute value using lambda\n",
    "absolute = lambda x: x if x >= 0 else -x\n",
    "print(absolute(5))    # 5\n",
    "print(absolute(-5))   # 5\n",
    "\n",
    "# Check even or odd\n",
    "even_or_odd = lambda x: \"Even\" if x % 2 == 0 else \"Odd\"\n",
    "print(even_or_odd(4))  # Even\n",
    "print(even_or_odd(7))  # Odd"
   ]
  },
  {
   "cell_type": "markdown",
   "metadata": {
    "application/vnd.databricks.v1+cell": {
     "cellMetadata": {},
     "inputWidgets": {},
     "nuid": "904312ab-95e3-4640-b808-c507ec6218bf",
     "showTitle": false,
     "tableResultSettingsMap": {},
     "title": ""
    }
   },
   "source": [
    "## 👉 Nested Lambda Functions\n",
    "\n",
    "You can nest lambda functions to create curried functions."
   ]
  },
  {
   "cell_type": "code",
   "execution_count": 0,
   "metadata": {
    "application/vnd.databricks.v1+cell": {
     "cellMetadata": {},
     "inputWidgets": {},
     "nuid": "dfbd63a5-af73-4d6b-87cc-96b2b565705d",
     "showTitle": true,
     "tableResultSettingsMap": {},
     "title": "Nested Lambda Functions"
    }
   },
   "outputs": [],
   "source": [
    "# Create a lambda that adds two numbers, one at a time\n",
    "add = lambda x: (lambda y: x + y)\n",
    "add_5 = add(5)\n",
    "print(add_5(10))  # 15\n",
    "\n",
    "# Another way to directly use nested lambda\n",
    "print((lambda x: (lambda y: x * y))(3)(4))  # 12"
   ]
  },
  {
   "cell_type": "markdown",
   "metadata": {
    "application/vnd.databricks.v1+cell": {
     "cellMetadata": {},
     "inputWidgets": {},
     "nuid": "ddc0d789-2298-436e-8f13-da05b8f30c86",
     "showTitle": false,
     "tableResultSettingsMap": {},
     "title": ""
    }
   },
   "source": [
    "## 👉 Interview-style Lambda Challenges\n",
    "\n",
    "Let's explore some examples that mimic real interview questions."
   ]
  },
  {
   "cell_type": "code",
   "execution_count": 0,
   "metadata": {
    "application/vnd.databricks.v1+cell": {
     "cellMetadata": {},
     "inputWidgets": {},
     "nuid": "789cfd4a-a008-497c-a14e-06e319995d80",
     "showTitle": true,
     "tableResultSettingsMap": {},
     "title": "Interview-Oriented Lambda Exercises"
    }
   },
   "outputs": [],
   "source": [
    "# 1. Sort a list of strings by their length\n",
    "words = ['apple', 'banana', 'kiwi', 'grape']\n",
    "sorted_by_len = sorted(words, key=lambda x: len(x))\n",
    "print(\"Sorted by length:\", sorted_by_len)\n",
    "\n",
    "# 2. Create a lambda to extract last character\n",
    "last_char = lambda s: s[-1]\n",
    "print(\"Last char of 'Python':\", last_char(\"Python\"))\n",
    "\n",
    "# 3. Count how many strings start with a vowel using filter + lambda\n",
    "words = ['apple', 'orange', 'grape', 'umbrella', 'banana']\n",
    "vowel_words = list(filter(lambda x: x[0].lower() in 'aeiou', words))\n",
    "print(\"Starts with vowel:\", vowel_words)\n",
    "print(\"Count:\", len(vowel_words))\n",
    "\n",
    "# 4. Multiply only even numbers from list\n",
    "nums = [1, 2, 3, 4, 5, 6]\n",
    "even_product = reduce(lambda x, y: x * y, filter(lambda x: x % 2 == 0, nums))\n",
    "print(\"Product of even numbers:\", even_product)\n",
    "\n",
    "# 5. Sort a list of tuples by the last character of the second element\n",
    "pairs = [('a', 'cat'), ('b', 'dog'), ('c', 'bat')]\n",
    "sorted_pairs = sorted(pairs, key=lambda x: x[1][-1])\n",
    "print(\"Sorted by last char of 2nd element:\", sorted_pairs)\n",
    "\n",
    "# 6. Extract all uppercase words from a list using filter and lambda\n",
    "words = ['Python', 'JAVA', 'sql', 'HTML', 'css']\n",
    "uppercase_words = list(filter(lambda x: x.isupper(), words))\n",
    "print(\"Uppercase words:\", uppercase_words)\n",
    "\n",
    "# 7. Find max length word using reduce and lambda\n",
    "from functools import reduce\n",
    "words = ['data', 'machine', 'learning', 'AI']\n",
    "longest = reduce(lambda a, b: a if len(a) > len(b) else b, words)\n",
    "print(\"Longest word:\", longest)\n",
    "\n",
    "# 8. Convert a list of temperatures in Celsius to Fahrenheit\n",
    "celsius = [0, 10, 20, 30]\n",
    "fahrenheit = list(map(lambda c: (9/5) * c + 32, celsius))\n",
    "print(\"Fahrenheit:\", fahrenheit)\n",
    "\n",
    "# 9. Count how many numbers are divisible by 3 or 5\n",
    "nums = list(range(1, 21))\n",
    "div_3_or_5 = list(filter(lambda x: x % 3 == 0 or x % 5 == 0, nums))\n",
    "print(\"Divisible by 3 or 5:\", div_3_or_5)\n",
    "print(\"Count:\", len(div_3_or_5))\n",
    "\n",
    "# 10. Create a list of squares for only odd numbers\n",
    "nums = [1, 2, 3, 4, 5, 6, 7]\n",
    "odd_squares = list(map(lambda x: x**2, filter(lambda x: x % 2 != 0, nums)))\n",
    "print(\"Squares of odd numbers:\", odd_squares)\n",
    "\n",
    "# 11. Sort a list of dictionaries by a specific key using lambda\n",
    "people = [{'name': 'Alice', 'age': 30},\n",
    "          {'name': 'Bob', 'age': 25},\n",
    "          {'name': 'Charlie', 'age': 35}]\n",
    "sorted_people = sorted(people, key=lambda x: x['age'])\n",
    "print(\"Sorted by age:\", sorted_people)\n",
    "\n",
    "# 12. Filter out palindromes from a list\n",
    "words = ['madam', 'apple', 'racecar', 'banana', 'level']\n",
    "palindromes = list(filter(lambda x: x == x[::-1], words))\n",
    "print(\"Palindromes:\", palindromes)\n",
    "\n",
    "# 13. Find the word with most vowels using reduce + lambda\n",
    "vowel_count = lambda word: sum(map(lambda c: c in 'aeiouAEIOU', word))\n",
    "words = ['data', 'science', 'artificial', 'intelligence']\n",
    "most_vowels = reduce(lambda a, b: a if vowel_count(a) > vowel_count(b) else b, words)\n",
    "print(\"Word with most vowels:\", most_vowels)\n",
    "\n",
    "# 14. Add index to list items using map and lambda (like enumerate)\n",
    "words = ['one', 'two', 'three']\n",
    "indexed = list(map(lambda x: f\"{x[0]}: {x[1]}\", enumerate(words)))\n",
    "print(\"Indexed words:\", indexed)\n",
    "\n",
    "# 15. Format a list of full names into initials using lambda and map\n",
    "names = [\"John Doe\", \"Jane Smith\", \"Alice Johnson\"]\n",
    "# Convert to \"J.D.\", \"J.S.\", etc.\n",
    "initials = list(map(lambda name: '.'.join([part[0].upper() for part in name.split()]) + '.', names))\n",
    "print(\"Formatted initials:\", initials)\n",
    "\n"
   ]
  },
  {
   "cell_type": "markdown",
   "metadata": {
    "application/vnd.databricks.v1+cell": {
     "cellMetadata": {},
     "inputWidgets": {},
     "nuid": "384a0364-f0dc-4372-ab1a-c07cd37318b3",
     "showTitle": false,
     "tableResultSettingsMap": {},
     "title": ""
    }
   },
   "source": [
    "## *** Summary ***\n",
    "\n",
    "Lambda functions are powerful tools in Python, especially when used with:\n",
    "- `map()`, `filter()`, `reduce()`\n",
    "- Sorting custom structures\n",
    "- Conditional logic\n",
    "\n",
    "**Tip:** Use lambda when the function is small and used only once. Otherwise, prefer regular functions for readability."
   ]
  }
 ],
 "metadata": {
  "application/vnd.databricks.v1+notebook": {
   "computePreferences": null,
   "dashboards": [],
   "environmentMetadata": null,
   "inputWidgetPreferences": null,
   "language": "python",
   "notebookMetadata": {
    "pythonIndentUnit": 4
   },
   "notebookName": "6.a lambda_functions [theory]",
   "widgets": {}
  },
  "language_info": {
   "name": "python"
  }
 },
 "nbformat": 4,
 "nbformat_minor": 0
}
