{
 "cells": [
  {
   "cell_type": "markdown",
   "metadata": {
    "application/vnd.databricks.v1+cell": {
     "cellMetadata": {},
     "inputWidgets": {},
     "nuid": "ab0d9782-b030-4c57-a769-284133a049a8",
     "showTitle": false,
     "tableResultSettingsMap": {},
     "title": ""
    }
   },
   "source": [
    "### Transformer functions\n",
    "<table>\n",
    "  <thead>\n",
    "    <tr>\n",
    "      <th>Function</th>\n",
    "      <th>Purpose</th>\n",
    "      <th>Returns</th>\n",
    "      <th>Function Type</th>\n",
    "    </tr>\n",
    "  </thead>\n",
    "  <tbody>\n",
    "    <tr>\n",
    "      <td><code>map()</code></td>\n",
    "      <td>Transform each element</td>\n",
    "      <td>map object</td>\n",
    "      <td>Any transformation</td>\n",
    "    </tr>\n",
    "    <tr>\n",
    "      <td><code>filter()</code></td>\n",
    "      <td>Select items by condition</td>\n",
    "      <td>filter object</td>\n",
    "      <td>Boolean-returning</td>\n",
    "    </tr>\n",
    "    <tr>\n",
    "      <td><code>reduce()</code></td>\n",
    "      <td>Combine items into one</td>\n",
    "      <td>Single value</td>\n",
    "      <td>Binary function</td>\n",
    "    </tr>\n",
    "    <tr>\n",
    "      <td><code>sorted()</code></td>\n",
    "      <td>Sort items (custom key optional)</td>\n",
    "      <td>list</td>\n",
    "      <td>Key function (optional)</td>\n",
    "    </tr>\n",
    "  </tbody>\n",
    "</table>\n",
    "\n",
    "This notebook explains four powerful built-in functions in Python:\n",
    "- `map()`\n",
    "- `filter()`\n",
    "- `reduce()`\n",
    "- `sorted()`\n",
    "\n",
    "Each section includes theory and examples using named functions without using `lambda`"
   ]
  },
  {
   "cell_type": "markdown",
   "metadata": {
    "application/vnd.databricks.v1+cell": {
     "cellMetadata": {},
     "inputWidgets": {},
     "nuid": "7cb30e08-05ac-4757-9260-c488eed4d479",
     "showTitle": false,
     "tableResultSettingsMap": {},
     "title": ""
    }
   },
   "source": [
    "### 1. map()\n",
    "### syntax : `map(function, iterable)`\n",
    "- > **What it does**: Applies a function to each item in an iterable and returns a new iterable (a `map` object).\n",
    "- > **Use case**: When you want to transform or modify each element."
   ]
  },
  {
   "cell_type": "code",
   "execution_count": 1,
   "metadata": {
    "application/vnd.databricks.v1+cell": {
     "cellMetadata": {},
     "inputWidgets": {},
     "nuid": "115a0994-8eec-4a25-8257-742639482e79",
     "showTitle": true,
     "tableResultSettingsMap": {},
     "title": "Example: Squaring numbers with `map()`"
    }
   },
   "outputs": [
    {
     "name": "stdout",
     "output_type": "stream",
     "text": [
      "[1, 4, 9, 16]\n"
     ]
    }
   ],
   "source": [
    "def square(x):\n",
    "    return x * x\n",
    "\n",
    "numbers = [1, 2, 3, 4]\n",
    "squared_numbers = map(square, numbers)\n",
    "\n",
    "print(list(squared_numbers))  # Output: [1, 4, 9, 16]"
   ]
  },
  {
   "cell_type": "markdown",
   "metadata": {
    "application/vnd.databricks.v1+cell": {
     "cellMetadata": {},
     "inputWidgets": {},
     "nuid": "f7acfab8-1808-4c42-b546-aca299758b9d",
     "showTitle": false,
     "tableResultSettingsMap": {},
     "title": ""
    }
   },
   "source": [
    "### 2. filter()\n",
    "### syntax: `filter(function, iterable)`\n",
    "- > **What it does**: filters items in an iterable using a function that returns `True` or `False`.  \n",
    "- > **Use case**: when you want to keep only items that meet a condition."
   ]
  },
  {
   "cell_type": "code",
   "execution_count": 2,
   "metadata": {
    "application/vnd.databricks.v1+cell": {
     "cellMetadata": {},
     "inputWidgets": {},
     "nuid": "4e82b1e7-570d-419b-8442-2e2404767d3a",
     "showTitle": true,
     "tableResultSettingsMap": {},
     "title": " Example: Filtering even numbers with `filter()`"
    }
   },
   "outputs": [
    {
     "name": "stdout",
     "output_type": "stream",
     "text": [
      "[2, 4, 6]\n"
     ]
    }
   ],
   "source": [
    "def is_even(x):\n",
    "    return x % 2 == 0\n",
    "\n",
    "numbers = [1, 2, 3, 4, 5, 6]\n",
    "even_numbers = filter(is_even, numbers)\n",
    "\n",
    "print(list(even_numbers))  # Output: [2, 4, 6]"
   ]
  },
  {
   "cell_type": "markdown",
   "metadata": {
    "application/vnd.databricks.v1+cell": {
     "cellMetadata": {},
     "inputWidgets": {},
     "nuid": "25111b5d-9c3e-4f14-8fdb-e8875d24b798",
     "showTitle": false,
     "tableResultSettingsMap": {},
     "title": ""
    }
   },
   "source": [
    "### 3. reduce()\n",
    "### `reduce(function, iterable)`\n",
    "- > **What it does**: Applies a rolling computation to sequential pairs of items.  \n",
    "- > **Use case**: When you want to reduce a list to a single value (like a sum or product).  \n",
    "- > `reduce()` comes from the `functools` module."
   ]
  },
  {
   "cell_type": "code",
   "execution_count": 3,
   "metadata": {
    "application/vnd.databricks.v1+cell": {
     "cellMetadata": {},
     "inputWidgets": {},
     "nuid": "87c870c2-b9f4-4d22-8f80-c6560ea95fea",
     "showTitle": true,
     "tableResultSettingsMap": {},
     "title": " Example: Multiplying all elements with `reduce()`"
    }
   },
   "outputs": [
    {
     "name": "stdout",
     "output_type": "stream",
     "text": [
      "24\n"
     ]
    }
   ],
   "source": [
    "from functools import reduce\n",
    "\n",
    "def multiply(x, y):\n",
    "    return x * y\n",
    "\n",
    "numbers = [1, 2, 3, 4]\n",
    "product = reduce(multiply, numbers)\n",
    "\n",
    "print(product)  # Output: 24"
   ]
  },
  {
   "cell_type": "markdown",
   "metadata": {
    "application/vnd.databricks.v1+cell": {
     "cellMetadata": {},
     "inputWidgets": {},
     "nuid": "4972ff30-15c8-4f1c-9816-f19096b05d41",
     "showTitle": false,
     "tableResultSettingsMap": {},
     "title": ""
    }
   },
   "source": [
    "### 4. sorted()\n",
    "### `sorted(iterable, key=..., reverse=...)`\n",
    "- > **What it does**: Returns a new sorted list from the items in an iterable.  \n",
    "- > **Use case**: Sort using default or custom key (e.g., sort by string length).\n",
    "\n",
    "**Parameters**: \n",
    "- >  `key` is optional and often used for custom sorting. \n",
    "- > `reverse` is not mandatory can be either `True` or `False` and used to apply reverse sort on the iterable"
   ]
  },
  {
   "cell_type": "code",
   "execution_count": 5,
   "metadata": {
    "application/vnd.databricks.v1+cell": {
     "cellMetadata": {},
     "inputWidgets": {},
     "nuid": "85d244b6-369f-406b-b6cd-869b8c7137d7",
     "showTitle": true,
     "tableResultSettingsMap": {},
     "title": " Example: Sorting words by length with `sorted()`"
    }
   },
   "outputs": [
    {
     "name": "stdout",
     "output_type": "stream",
     "text": [
      "['kiwi', 'apple', 'banana', 'cherry']\n"
     ]
    }
   ],
   "source": [
    "# **Note**: key is optional. often used for custom sorting\n",
    "def get_length(word):\n",
    "    return len(word)\n",
    "\n",
    "words = ['apple', 'banana', 'kiwi', 'cherry']\n",
    "sorted_words = sorted(words, key=get_length)\n",
    "\n",
    "print(sorted_words)  # Output: ['kiwi', 'apple', 'banana', 'cherry']"
   ]
  }
 ],
 "metadata": {
  "application/vnd.databricks.v1+notebook": {
   "computePreferences": null,
   "dashboards": [],
   "environmentMetadata": null,
   "inputWidgetPreferences": null,
   "language": "python",
   "notebookMetadata": {
    "pythonIndentUnit": 4
   },
   "notebookName": "5.a transformer_functions [thoery]",
   "widgets": {}
  },
  "kernelspec": {
   "display_name": "Python 3 (ipykernel)",
   "language": "python",
   "name": "python3"
  },
  "language_info": {
   "codemirror_mode": {
    "name": "ipython",
    "version": 3
   },
   "file_extension": ".py",
   "mimetype": "text/x-python",
   "name": "python",
   "nbconvert_exporter": "python",
   "pygments_lexer": "ipython3",
   "version": "3.13.7"
  }
 },
 "nbformat": 4,
 "nbformat_minor": 4
}
