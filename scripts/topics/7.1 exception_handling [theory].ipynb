{
 "cells": [
  {
   "cell_type": "markdown",
   "metadata": {
    "application/vnd.databricks.v1+cell": {
     "cellMetadata": {},
     "inputWidgets": {},
     "nuid": "45ceeed8-3166-4105-8e0c-0bb5786dd79c",
     "showTitle": false,
     "tableResultSettingsMap": {},
     "title": ""
    }
   },
   "source": [
    "# Python Exception Handling\n",
    "Learn how to detect and handle runtime errors safely using `try`, `except`, `else`, `finally`, `raise`, and custom exceptions."
   ]
  },
  {
   "cell_type": "markdown",
   "metadata": {
    "application/vnd.databricks.v1+cell": {
     "cellMetadata": {},
     "inputWidgets": {},
     "nuid": "77081cef-4bdb-4846-a136-0e2756c9ec88",
     "showTitle": false,
     "tableResultSettingsMap": {},
     "title": ""
    }
   },
   "source": [
    "## What is an Exception?\n",
    "An **exception** is an error that occurs during program execution.  \n",
    "Instead of crashing the program, we use **exception handling** to manage errors gracefully."
   ]
  },
  {
   "cell_type": "markdown",
   "metadata": {
    "application/vnd.databricks.v1+cell": {
     "cellMetadata": {},
     "inputWidgets": {},
     "nuid": "44b5a4a9-f80b-46ef-bac9-7887a3d4d0cd",
     "showTitle": false,
     "tableResultSettingsMap": {},
     "title": ""
    }
   },
   "source": [
    "## Basic `try` and `except`\n",
    "**Syntax:**\n",
    "```python\n",
    "try:\n",
    "    # code that may cause error\n",
    "except:\n",
    "    # code to run if error occurs\n",
    "```"
   ]
  },
  {
   "cell_type": "code",
   "execution_count": 0,
   "metadata": {
    "application/vnd.databricks.v1+cell": {
     "cellMetadata": {},
     "inputWidgets": {},
     "nuid": "4ebbb890-dc63-4987-b65f-4fc12afb344c",
     "showTitle": true,
     "tableResultSettingsMap": {},
     "title": " Basic try-except Example"
    }
   },
   "outputs": [],
   "source": [
    "try:\n",
    "    x = 10 / 0\n",
    "except:\n",
    "    print(\"Error occurred: Division by zero\")"
   ]
  },
  {
   "cell_type": "markdown",
   "metadata": {
    "application/vnd.databricks.v1+cell": {
     "cellMetadata": {},
     "inputWidgets": {},
     "nuid": "f08b860c-82eb-4f7e-9d85-328cce2fef43",
     "showTitle": false,
     "tableResultSettingsMap": {},
     "title": ""
    }
   },
   "source": [
    "## Handling Specific Exceptions\n",
    "We can catch different errors separately."
   ]
  },
  {
   "cell_type": "code",
   "execution_count": 0,
   "metadata": {
    "application/vnd.databricks.v1+cell": {
     "cellMetadata": {},
     "inputWidgets": {},
     "nuid": "a1084c16-c7f5-46f6-bc1d-2e0bc7d023af",
     "showTitle": true,
     "tableResultSettingsMap": {},
     "title": " Specific Exception Example"
    }
   },
   "outputs": [],
   "source": [
    "try:\n",
    "    num = int(\"abc\")\n",
    "except ValueError:\n",
    "    print(\"ValueError: Cannot convert string to number.\")\n",
    "except ZeroDivisionError:\n",
    "    print(\"ZeroDivisionError occurred.\")\n",
    "    "
   ]
  },
  {
   "cell_type": "markdown",
   "metadata": {
    "application/vnd.databricks.v1+cell": {
     "cellMetadata": {},
     "inputWidgets": {},
     "nuid": "fb594945-23e4-4be0-b682-9eb7f33f5495",
     "showTitle": false,
     "tableResultSettingsMap": {},
     "title": ""
    }
   },
   "source": [
    "## `else` Block\n",
    "Code inside **else** runs only if **no exception occurs**."
   ]
  },
  {
   "cell_type": "code",
   "execution_count": 0,
   "metadata": {
    "application/vnd.databricks.v1+cell": {
     "cellMetadata": {
      "byteLimit": 2048000,
      "rowLimit": 10000
     },
     "inputWidgets": {},
     "nuid": "5d38d57c-1638-48a9-a6bb-385ba386d431",
     "showTitle": true,
     "tableResultSettingsMap": {},
     "title": " else Block Example"
    }
   },
   "outputs": [],
   "source": [
    "try:\n",
    "    result = 10 / 2\n",
    "except:\n",
    "    print(\"An error occurred.\")\n",
    "else:\n",
    "    print(\"No errors! Result =\", result)"
   ]
  },
  {
   "cell_type": "markdown",
   "metadata": {
    "application/vnd.databricks.v1+cell": {
     "cellMetadata": {},
     "inputWidgets": {},
     "nuid": "2ef30113-4680-4707-bd0f-9dbd95765b7a",
     "showTitle": false,
     "tableResultSettingsMap": {},
     "title": ""
    }
   },
   "source": [
    "## `finally` Block\n",
    "Code inside **finally** runs **no matter what** (error or no error).\n",
    "Useful for cleanup operations."
   ]
  },
  {
   "cell_type": "code",
   "execution_count": 0,
   "metadata": {
    "application/vnd.databricks.v1+cell": {
     "cellMetadata": {},
     "inputWidgets": {},
     "nuid": "84b19976-2a0d-499a-b8ae-f71a1d6a11fb",
     "showTitle": true,
     "tableResultSettingsMap": {},
     "title": " finally Block Example"
    }
   },
   "outputs": [],
   "source": [
    "try:\n",
    "    file = open(\"/tmp/test_file.txt\", \"w\")\n",
    "    file.write(\"Hello!\")\n",
    "except:\n",
    "    print(\"Error occurred.\")\n",
    "finally:\n",
    "    file.close()\n",
    "    print(\"File closed successfully.\")"
   ]
  },
  {
   "cell_type": "code",
   "execution_count": 0,
   "metadata": {
    "application/vnd.databricks.v1+cell": {
     "cellMetadata": {
      "byteLimit": 2048000,
      "rowLimit": 10000
     },
     "inputWidgets": {},
     "nuid": "d109e949-9153-4844-893c-31d3ee8bad1a",
     "showTitle": false,
     "tableResultSettingsMap": {},
     "title": ""
    }
   },
   "outputs": [],
   "source": [
    "try:\n",
    "    int(\"Hi\") #ValueError\n",
    "    print(\"This line will not be executed.\")\n",
    "    print(10/0)  #ZeroDivisionError\n",
    "    print(\"This line will not be executed.\")\n",
    "    list = [10, 20, 30]\n",
    "    print(list[0])\n",
    "    print(list[1])\n",
    "    print(list[2])\n",
    "    print(list[3]) #IndexError\n",
    "except Exception as e:\n",
    "    print(type(e))\n",
    "    print(e)\n",
    "    print(\"Some unknown occurred.\")"
   ]
  },
  {
   "cell_type": "markdown",
   "metadata": {
    "application/vnd.databricks.v1+cell": {
     "cellMetadata": {},
     "inputWidgets": {},
     "nuid": "c6011cd6-cf3a-4ed3-9718-11c9f180bf65",
     "showTitle": false,
     "tableResultSettingsMap": {},
     "title": ""
    }
   },
   "source": [
    "## Raising Exceptions Using `raise`\n",
    "We can throw an exception manually."
   ]
  },
  {
   "cell_type": "code",
   "execution_count": 0,
   "metadata": {
    "application/vnd.databricks.v1+cell": {
     "cellMetadata": {
      "byteLimit": 2048000,
      "rowLimit": 10000
     },
     "inputWidgets": {},
     "nuid": "161edb3d-b4aa-4668-863b-3446ae679651",
     "showTitle": true,
     "tableResultSettingsMap": {},
     "title": " raise Example"
    }
   },
   "outputs": [],
   "source": [
    "age = 15\n",
    "if age < 18:\n",
    "    raise ValueError(\"Age must be 18 or older.\")"
   ]
  },
  {
   "cell_type": "markdown",
   "metadata": {
    "application/vnd.databricks.v1+cell": {
     "cellMetadata": {},
     "inputWidgets": {},
     "nuid": "ac3b7893-1b3a-471f-bfaa-2401a216040a",
     "showTitle": false,
     "tableResultSettingsMap": {},
     "title": ""
    }
   },
   "source": [
    "## Creating Custom Exceptions"
   ]
  },
  {
   "cell_type": "code",
   "execution_count": 0,
   "metadata": {
    "application/vnd.databricks.v1+cell": {
     "cellMetadata": {},
     "inputWidgets": {},
     "nuid": "ec7bcde2-15fa-4d84-a7c4-54234f7310f1",
     "showTitle": true,
     "tableResultSettingsMap": {},
     "title": " Custom Exception Example"
    }
   },
   "outputs": [],
   "source": [
    "class AgeTooLowError(Exception):\n",
    "    pass\n",
    "\n",
    "try:\n",
    "    age = 12\n",
    "    if age < 18:\n",
    "        raise AgeTooLowError(\"Custom Error: Age is below allowed limit.\")\n",
    "except AgeTooLowError as e:\n",
    "    print(e)"
   ]
  }
 ],
 "metadata": {
  "application/vnd.databricks.v1+notebook": {
   "computePreferences": null,
   "dashboards": [],
   "environmentMetadata": null,
   "inputWidgetPreferences": null,
   "language": "python",
   "notebookMetadata": {
    "pythonIndentUnit": 4
   },
   "notebookName": "7.1 exception_handling [theory]",
   "widgets": {}
  },
  "language_info": {
   "name": "python"
  }
 },
 "nbformat": 4,
 "nbformat_minor": 0
}
