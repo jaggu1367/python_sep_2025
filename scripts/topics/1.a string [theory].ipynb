{
 "cells": [
  {
   "cell_type": "markdown",
   "metadata": {
    "application/vnd.databricks.v1+cell": {
     "cellMetadata": {},
     "inputWidgets": {},
     "nuid": "7aca672a-3110-43ba-a64e-10d9a081ecfd",
     "showTitle": false,
     "tableResultSettingsMap": {},
     "title": ""
    }
   },
   "source": [
    "## 1. Introduction to Strings\n",
    "- Strings are sequences of characters enclosed in quotes.\n",
    "- Strings can be created using <br> single quotes `'...'`<br> double quotes `\"...\"` and <br> triple quotes `'''...'''` or `\"\"\"...\"\"\"`.\n",
    "**Examples:**"
   ]
  },
  {
   "cell_type": "code",
   "execution_count": 0,
   "metadata": {
    "application/vnd.databricks.v1+cell": {
     "cellMetadata": {},
     "inputWidgets": {},
     "nuid": "f7668cb8-af7c-4c43-a568-20da9c624af0",
     "showTitle": true,
     "tableResultSettingsMap": {},
     "title": "Introduction to Strings - Examples"
    }
   },
   "outputs": [],
   "source": [
    "single_quote = 'Hello'\n",
    "double_quote = \"World\"\n",
    "triple_quote = '''This is\n",
    "a multi-line\n",
    "string'''\n",
    "print(single_quote)\n",
    "print(double_quote)\n",
    "print(triple_quote)"
   ]
  },
  {
   "cell_type": "markdown",
   "metadata": {
    "application/vnd.databricks.v1+cell": {
     "cellMetadata": {},
     "inputWidgets": {},
     "nuid": "57d92dde-e02e-497d-8077-911441aed36a",
     "showTitle": false,
     "tableResultSettingsMap": {},
     "title": ""
    }
   },
   "source": [
    "## 2. String Basics\n",
    "- Access characters using indexing.\n",
    "- Slice strings to get substrings.\n",
    "- Use `len()` to find the length of a string."
   ]
  },
  {
   "cell_type": "code",
   "execution_count": 0,
   "metadata": {
    "application/vnd.databricks.v1+cell": {
     "cellMetadata": {},
     "inputWidgets": {},
     "nuid": "60af372a-32af-4993-9d55-6273f96cc6d6",
     "showTitle": true,
     "tableResultSettingsMap": {},
     "title": "String Basics - Indexing, Slicing, Length"
    }
   },
   "outputs": [],
   "source": [
    "s = \"Python\"\n",
    "print(s[0])   # P\n",
    "print(s[-1])  # n\n",
    "print(s[1:4]) # yth\n",
    "print(len(s)) # 6"
   ]
  },
  {
   "cell_type": "markdown",
   "metadata": {
    "application/vnd.databricks.v1+cell": {
     "cellMetadata": {},
     "inputWidgets": {},
     "nuid": "178ea1d4-f033-417f-b406-cf263712ad35",
     "showTitle": false,
     "tableResultSettingsMap": {},
     "title": ""
    }
   },
   "source": [
    "## 3. String Operations\n",
    "- Concatenate strings with `+`\n",
    "- Repeat strings with `*`\n",
    "- Check membership with `in`"
   ]
  },
  {
   "cell_type": "code",
   "execution_count": 0,
   "metadata": {
    "application/vnd.databricks.v1+cell": {
     "cellMetadata": {},
     "inputWidgets": {},
     "nuid": "4229aff3-72be-4ec8-9c86-d531d8f5c549",
     "showTitle": true,
     "tableResultSettingsMap": {},
     "title": "String Operations - Concatenation, Repetition, Membership"
    }
   },
   "outputs": [],
   "source": [
    "a = \"Hello\"\n",
    "b = \"World\"\n",
    "print(a + \" \" + b)   # Hello World\n",
    "print(a * 3)         # HelloHelloHello\n",
    "print('H' in a)      # True"
   ]
  },
  {
   "cell_type": "markdown",
   "metadata": {
    "application/vnd.databricks.v1+cell": {
     "cellMetadata": {},
     "inputWidgets": {},
     "nuid": "3babe572-91a0-4c14-9361-ee0c82b6443f",
     "showTitle": false,
     "tableResultSettingsMap": {},
     "title": ""
    }
   },
   "source": [
    "## 4. Common String Methods\n",
    "Some useful string methods:\n",
    "- `lower()`, `upper()` - change case\n",
    "- `strip()` - remove whitespace from start/end\n",
    "- `replace()` - replace parts of string\n",
    "- `split()` - split string into a list\n",
    "- `join()` - join list into string\n",
    "- `find()` - find substring position\n",
    "- `count()` - count occurrences"
   ]
  },
  {
   "cell_type": "code",
   "execution_count": 0,
   "metadata": {
    "application/vnd.databricks.v1+cell": {
     "cellMetadata": {},
     "inputWidgets": {},
     "nuid": "a3eacc4e-c331-48c2-9a84-63372549e10d",
     "showTitle": true,
     "tableResultSettingsMap": {},
     "title": "Common String Methods - Examples"
    }
   },
   "outputs": [],
   "source": [
    "text = \"  Hello World!  \"\n",
    "print(text.lower())      # hello world!\n",
    "print(text.strip())      # Hello World!\n",
    "print(text.replace(\"World\", \"Python\"))  # Hello Python!\n",
    "print(text.split())      # ['Hello', 'World!']\n",
    "print(\"-\".join([\"Python\", \"is\", \"fun\"]))  # Python-is-fun\n",
    "print(text.find(\"World\")) # 8\n",
    "print(text.count(\"l\"))    # 3"
   ]
  },
  {
   "cell_type": "markdown",
   "metadata": {
    "application/vnd.databricks.v1+cell": {
     "cellMetadata": {},
     "inputWidgets": {},
     "nuid": "1876a34c-3956-43ed-967d-3c9cdd63a41a",
     "showTitle": false,
     "tableResultSettingsMap": {},
     "title": ""
    }
   },
   "source": [
    "## 5. Escape Characters\n",
    "Special characters in strings:\n",
    "- Newline `\\n`\n",
    "- Tab `\\t`\n",
    "- Quotes inside strings with escape `\\\"` or `\\'`"
   ]
  },
  {
   "cell_type": "code",
   "execution_count": 0,
   "metadata": {
    "application/vnd.databricks.v1+cell": {
     "cellMetadata": {},
     "inputWidgets": {},
     "nuid": "2ad0d9b3-1b82-40fb-95cb-d775ff024ef3",
     "showTitle": true,
     "tableResultSettingsMap": {},
     "title": "Escape Characters - Examples"
    }
   },
   "outputs": [],
   "source": [
    "print(\"Hello\\nWorld\")\n",
    "print(\"Hello\\tWorld\")\n",
    "print(\"He said, \\\"Python is fun!\\\"\")"
   ]
  },
  {
   "cell_type": "markdown",
   "metadata": {
    "application/vnd.databricks.v1+cell": {
     "cellMetadata": {},
     "inputWidgets": {},
     "nuid": "61a1818a-d8fb-413c-ac21-45131b97f7d4",
     "showTitle": false,
     "tableResultSettingsMap": {},
     "title": ""
    }
   },
   "source": [
    "## 6. String Formatting\n",
    "Ways to format strings:\n",
    "- **f-strings** (Python 3.6+)\n",
    "- `.format()` method\n",
    "- Old `%` formatting"
   ]
  },
  {
   "cell_type": "code",
   "execution_count": 0,
   "metadata": {
    "application/vnd.databricks.v1+cell": {
     "cellMetadata": {},
     "inputWidgets": {},
     "nuid": "947b787e-e9d7-4d52-9b71-e8c512777dd7",
     "showTitle": true,
     "tableResultSettingsMap": {},
     "title": "String Formatting - Examples"
    }
   },
   "outputs": [],
   "source": [
    "name = \"Alice\"\n",
    "age = 25\n",
    "\n",
    "print(f\"My name is {name} and I am {age} years old.\")\n",
    "print(\"My name is {} and I am {} years old.\".format(name, age))\n",
    "print(\"My name is %s and I am %d years old.\" % (name, age))"
   ]
  },
  {
   "cell_type": "markdown",
   "metadata": {
    "application/vnd.databricks.v1+cell": {
     "cellMetadata": {},
     "inputWidgets": {},
     "nuid": "5e2bf1cd-46b6-4f10-bf62-50b2fda3a555",
     "showTitle": false,
     "tableResultSettingsMap": {},
     "title": ""
    }
   },
   "source": [
    "## 7. Practice Exercises\n",
    "Try these exercises:\n",
    "- Extract domain name from an email address\n",
    "- Count vowels in a string\n",
    "- Reverse a string\n",
    "- Check if a string is a palindrome"
   ]
  }
 ],
 "metadata": {
  "application/vnd.databricks.v1+notebook": {
   "computePreferences": null,
   "dashboards": [],
   "environmentMetadata": null,
   "inputWidgetPreferences": null,
   "language": "python",
   "notebookMetadata": {
    "pythonIndentUnit": 4
   },
   "notebookName": "1.a string [theory]",
   "widgets": {}
  },
  "language_info": {
   "name": "python"
  }
 },
 "nbformat": 4,
 "nbformat_minor": 0
}
