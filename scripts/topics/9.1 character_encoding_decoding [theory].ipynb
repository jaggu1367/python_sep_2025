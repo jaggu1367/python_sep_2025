{
 "cells": [
  {
   "cell_type": "markdown",
   "metadata": {
    "application/vnd.databricks.v1+cell": {
     "cellMetadata": {},
     "inputWidgets": {},
     "nuid": "725fe97a-df00-4e2c-8f9c-ccaa0f81f141",
     "showTitle": false,
     "tableResultSettingsMap": {},
     "title": ""
    }
   },
   "source": [
    "### ASCII\n",
    "\n",
    "**ASCII** (American Standard Code for Information Interchange) is a character encoding standard for electronic communication. Each character (letters, digits, symbols, and control codes) is assigned a unique number from 0 to 127. ASCII is widely used for representing text in computers and devices.\n",
    "\n",
    "<table>\n",
    "  <thead>\n",
    "    <tr>\n",
    "      <th>Dec</th>\n",
    "      <th>Char</th>\n",
    "      <th>Description</th>\n",
    "    </tr>\n",
    "  </thead>\n",
    "  <tbody>\n",
    "    <tr><td>0</td><td>NUL</td><td>Null</td></tr>\n",
    "    <tr><td>1</td><td>SOH</td><td>Start of Header</td></tr>\n",
    "    <tr><td>2</td><td>STX</td><td>Start of Text</td></tr>\n",
    "    <tr><td>3</td><td>ETX</td><td>End of Text</td></tr>\n",
    "    <tr><td>4</td><td>EOT</td><td>End of Transmission</td></tr>\n",
    "    <tr><td>5</td><td>ENQ</td><td>Enquiry</td></tr>\n",
    "    <tr><td>6</td><td>ACK</td><td>Acknowledge</td></tr>\n",
    "    <tr><td>7</td><td>BEL</td><td>Bell</td></tr>\n",
    "    <tr><td>8</td><td>BS</td><td>Backspace</td></tr>\n",
    "    <tr><td>9</td><td>TAB</td><td>Horizontal Tab</td></tr>\n",
    "    <tr><td>10</td><td>LF</td><td>Line Feed</td></tr>\n",
    "    <tr><td>11</td><td>VT</td><td>Vertical Tab</td></tr>\n",
    "    <tr><td>12</td><td>FF</td><td>Form Feed</td></tr>\n",
    "    <tr><td>13</td><td>CR</td><td>Carriage Return</td></tr>\n",
    "    <tr><td>14</td><td>SO</td><td>Shift Out</td></tr>\n",
    "    <tr><td>15</td><td>SI</td><td>Shift In</td></tr>\n",
    "    <tr><td>16</td><td>DLE</td><td>Data Link Escape</td></tr>\n",
    "    <tr><td>17</td><td>DC1</td><td>Device Control 1</td></tr>\n",
    "    <tr><td>18</td><td>DC2</td><td>Device Control 2</td></tr>\n",
    "    <tr><td>19</td><td>DC3</td><td>Device Control 3</td></tr>\n",
    "    <tr><td>20</td><td>DC4</td><td>Device Control 4</td></tr>\n",
    "    <tr><td>21</td><td>NAK</td><td>Negative Acknowledge</td></tr>\n",
    "    <tr><td>22</td><td>SYN</td><td>Synchronous Idle</td></tr>\n",
    "    <tr><td>23</td><td>ETB</td><td>End of Transmission Block</td></tr>\n",
    "    <tr><td>24</td><td>CAN</td><td>Cancel</td></tr>\n",
    "    <tr><td>25</td><td>EM</td><td>End of Medium</td></tr>\n",
    "    <tr><td>26</td><td>SUB</td><td>Substitute</td></tr>\n",
    "    <tr><td>27</td><td>ESC</td><td>Escape</td></tr>\n",
    "    <tr><td>28</td><td>FS</td><td>File Separator</td></tr>\n",
    "    <tr><td>29</td><td>GS</td><td>Group Separator</td></tr>\n",
    "    <tr><td>30</td><td>RS</td><td>Record Separator</td></tr>\n",
    "    <tr><td>31</td><td>US</td><td>Unit Separator</td></tr>\n",
    "    <tr><td>32</td><td>(space)</td><td>Space</td></tr>\n",
    "    <tr><td>33</td><td>!</td><td>Exclamation mark</td></tr>\n",
    "    <tr><td>34</td><td>\"</td><td>Double quote</td></tr>\n",
    "    <tr><td>35</td><td>#</td><td>Number sign</td></tr>\n",
    "    <tr><td>36</td><td>$</td><td>Dollar sign</td></tr>\n",
    "    <tr><td>37</td><td>%</td><td>Percent</td></tr>\n",
    "    <tr><td>38</td><td>&</td><td>Ampersand</td></tr>\n",
    "    <tr><td>39</td><td>'</td><td>Single quote</td></tr>\n",
    "    <tr><td>40</td><td>(</td><td>Left parenthesis</td></tr>\n",
    "    <tr><td>41</td><td>)</td><td>Right parenthesis</td></tr>\n",
    "    <tr><td>42</td><td>*</td><td>Asterisk</td></tr>\n",
    "    <tr><td>43</td><td>+</td><td>Plus sign</td></tr>\n",
    "    <tr><td>44</td><td>,</td><td>Comma</td></tr>\n",
    "    <tr><td>45</td><td>-</td><td>Hyphen</td></tr>\n",
    "    <tr><td>46</td><td>.</td><td>Period</td></tr>\n",
    "    <tr><td>47</td><td>/</td><td>Slash</td></tr>\n",
    "    <tr><td>48</td><td>0</td><td>Digit zero</td></tr>\n",
    "    <tr><td>49</td><td>1</td><td>Digit one</td></tr>\n",
    "    <tr><td>50</td><td>2</td><td>Digit two</td></tr>\n",
    "    <tr><td>51</td><td>3</td><td>Digit three</td></tr>\n",
    "    <tr><td>52</td><td>4</td><td>Digit four</td></tr>\n",
    "    <tr><td>53</td><td>5</td><td>Digit five</td></tr>\n",
    "    <tr><td>54</td><td>6</td><td>Digit six</td></tr>\n",
    "    <tr><td>55</td><td>7</td><td>Digit seven</td></tr>\n",
    "    <tr><td>56</td><td>8</td><td>Digit eight</td></tr>\n",
    "    <tr><td>57</td><td>9</td><td>Digit nine</td></tr>\n",
    "    <tr><td>58</td><td>:</td><td>Colon</td></tr>\n",
    "    <tr><td>59</td><td>;</td><td>Semicolon</td></tr>\n",
    "    <tr><td>60</td><td>&lt;</td><td>Less than</td></tr>\n",
    "    <tr><td>61</td><td>=</td><td>Equals</td></tr>\n",
    "    <tr><td>62</td><td>&gt;</td><td>Greater than</td></tr>\n",
    "    <tr><td>63</td><td>?</td><td>Question mark</td></tr>\n",
    "    <tr><td>64</td><td>@</td><td>At sign</td></tr>\n",
    "    <tr><td>65</td><td>A</td><td>Uppercase A</td></tr>\n",
    "    <tr><td>66</td><td>B</td><td>Uppercase B</td></tr>\n",
    "    <tr><td>67</td><td>C</td><td>Uppercase C</td></tr>\n",
    "    <tr><td>68</td><td>D</td><td>Uppercase D</td></tr>\n",
    "    <tr><td>69</td><td>E</td><td>Uppercase E</td></tr>\n",
    "    <tr><td>70</td><td>F</td><td>Uppercase F</td></tr>\n",
    "    <tr><td>71</td><td>G</td><td>Uppercase G</td></tr>\n",
    "    <tr><td>72</td><td>H</td><td>Uppercase H</td></tr>\n",
    "    <tr><td>73</td><td>I</td><td>Uppercase I</td></tr>\n",
    "    <tr><td>74</td><td>J</td><td>Uppercase J</td></tr>\n",
    "    <tr><td>75</td><td>K</td><td>Uppercase K</td></tr>\n",
    "    <tr><td>76</td><td>L</td><td>Uppercase L</td></tr>\n",
    "    <tr><td>77</td><td>M</td><td>Uppercase M</td></tr>\n",
    "    <tr><td>78</td><td>N</td><td>Uppercase N</td></tr>\n",
    "    <tr><td>79</td><td>O</td><td>Uppercase O</td></tr>\n",
    "    <tr><td>80</td><td>P</td><td>Uppercase P</td></tr>\n",
    "    <tr><td>81</td><td>Q</td><td>Uppercase Q</td></tr>\n",
    "    <tr><td>82</td><td>R</td><td>Uppercase R</td></tr>\n",
    "    <tr><td>83</td><td>S</td><td>Uppercase S</td></tr>\n",
    "    <tr><td>84</td><td>T</td><td>Uppercase T</td></tr>\n",
    "    <tr><td>85</td><td>U</td><td>Uppercase U</td></tr>\n",
    "    <tr><td>86</td><td>V</td><td>Uppercase V</td></tr>\n",
    "    <tr><td>87</td><td>W</td><td>Uppercase W</td></tr>\n",
    "    <tr><td>88</td><td>X</td><td>Uppercase X</td></tr>\n",
    "    <tr><td>89</td><td>Y</td><td>Uppercase Y</td></tr>\n",
    "    <tr><td>90</td><td>Z</td><td>Uppercase Z</td></tr>\n",
    "    <tr><td>91</td><td>[</td><td>Left bracket</td></tr>\n",
    "    <tr><td>92</td><td>\\</td><td>Backslash</td></tr>\n",
    "    <tr><td>93</td><td>]</td><td>Right bracket</td></tr>\n",
    "    <tr><td>94</td><td>^</td><td>Caret</td></tr>\n",
    "    <tr><td>95</td><td>_</td><td>Underscore</td></tr>\n",
    "    <tr><td>96</td><td>`</td><td>Grave accent</td></tr>\n",
    "    <tr><td>97</td><td>a</td><td>Lowercase a</td></tr>\n",
    "    <tr><td>98</td><td>b</td><td>Lowercase b</td></tr>\n",
    "    <tr><td>99</td><td>c</td><td>Lowercase c</td></tr>\n",
    "    <tr><td>100</td><td>d</td><td>Lowercase d</td></tr>\n",
    "    <tr><td>101</td><td>e</td><td>Lowercase e</td></tr>\n",
    "    <tr><td>102</td><td>f</td><td>Lowercase f</td></tr>\n",
    "    <tr><td>103</td><td>g</td><td>Lowercase g</td></tr>\n",
    "    <tr><td>104</td><td>h</td><td>Lowercase h</td></tr>\n",
    "    <tr><td>105</td><td>i</td><td>Lowercase i</td></tr>\n",
    "    <tr><td>106</td><td>j</td><td>Lowercase j</td></tr>\n",
    "    <tr><td>107</td><td>k</td><td>Lowercase k</td></tr>\n",
    "    <tr><td>108</td><td>l</td><td>Lowercase l</td></tr>\n",
    "    <tr><td>109</td><td>m</td><td>Lowercase m</td></tr>\n",
    "    <tr><td>110</td><td>n</td><td>Lowercase n</td></tr>\n",
    "    <tr><td>111</td><td>o</td><td>Lowercase o</td></tr>\n",
    "    <tr><td>112</td><td>p</td><td>Lowercase p</td></tr>\n",
    "    <tr><td>113</td><td>q</td><td>Lowercase q</td></tr>\n",
    "    <tr><td>114</td><td>r</td><td>Lowercase r</td></tr>\n",
    "    <tr><td>115</td><td>s</td><td>Lowercase s</td></tr>\n",
    "    <tr><td>116</td><td>t</td><td>Lowercase t</td></tr>\n",
    "    <tr><td>117</td><td>u</td><td>Lowercase u</td></tr>\n",
    "    <tr><td>118</td><td>v</td><td>Lowercase v</td></tr>\n",
    "    <tr><td>119</td><td>w</td><td>Lowercase w</td></tr>\n",
    "    <tr><td>120</td><td>x</td><td>Lowercase x</td></tr>\n",
    "    <tr><td>121</td><td>y</td><td>Lowercase y</td></tr>\n",
    "    <tr><td>122</td><td>z</td><td>Lowercase z</td></tr>\n",
    "    <tr><td>123</td><td>{</td><td>Left brace</td></tr>\n",
    "    <tr><td>124</td><td>|</td><td>Vertical bar</td></tr>\n",
    "    <tr><td>125</td><td>}</td><td>Right brace</td></tr>\n",
    "    <tr><td>126</td><td>~</td><td>Tilde</td></tr>\n",
    "    <tr><td>127</td><td>DEL</td><td>Delete</td></tr>\n",
    "  </tbody>\n",
    "</table>"
   ]
  },
  {
   "cell_type": "markdown",
   "metadata": {
    "application/vnd.databricks.v1+cell": {
     "cellMetadata": {},
     "inputWidgets": {},
     "nuid": "c12d6428-972a-4879-9f6b-52ba362ace19",
     "showTitle": false,
     "tableResultSettingsMap": {},
     "title": ""
    }
   },
   "source": [
    "# Character Encoding in Python\n",
    "In this notebook, we'll explore **Character Encoding** — how text is represented as bytes in computers.\n",
    "\n",
    "We'll cover:\n",
    "1. What is Encoding  \n",
    "2. What is Decoding  \n",
    "3. Types of Encodings available  \n",
    "4. Common Encodings used in Python  \n",
    "5. Examples of Encoding and Decoding in different formats"
   ]
  },
  {
   "cell_type": "markdown",
   "metadata": {
    "application/vnd.databricks.v1+cell": {
     "cellMetadata": {},
     "inputWidgets": {},
     "nuid": "629b6690-256d-4b4b-86eb-958943a4d604",
     "showTitle": false,
     "tableResultSettingsMap": {},
     "title": ""
    }
   },
   "source": [
    "## 1. What is Encoding?\n",
    "**Encoding** is the process of converting a string (sequence of characters) into bytes.\n",
    "\n",
    "Computers store and transmit text as bytes — numbers representing each character based on a particular encoding standard.\n",
    "\n",
    "For example:\n",
    "- 'A' in ASCII = 65  \n",
    "- 'A' in UTF-8 = 0x41  \n",
    "\n",
    "**Syntax:**\n",
    "```python\n",
    "encoded_bytes = text.encode(encoding_type)\n",
    "```\n",
    "\n",
    "**Common encodings:** `'utf-8'`, `'ascii'`, `'utf-16'`, `'cp1252'`"
   ]
  },
  {
   "cell_type": "code",
   "execution_count": 0,
   "metadata": {
    "application/vnd.databricks.v1+cell": {
     "cellMetadata": {},
     "inputWidgets": {},
     "nuid": "3055588a-d080-437f-8b4f-59a0d834048a",
     "showTitle": true,
     "tableResultSettingsMap": {},
     "title": "Example: Encoding a String into Bytes"
    }
   },
   "outputs": [],
   "source": [
    "text = \"Hello, Python!\"\n",
    "encoded_utf8 = text.encode('utf-8')\n",
    "encoded_ascii = text.encode('ascii')\n",
    "\n",
    "print(\"Original text:\", text)\n",
    "print(\"UTF-8 encoded:\", encoded_utf8)\n",
    "print(\"ASCII encoded:\", encoded_ascii)"
   ]
  },
  {
   "cell_type": "markdown",
   "metadata": {
    "application/vnd.databricks.v1+cell": {
     "cellMetadata": {},
     "inputWidgets": {},
     "nuid": "0e8c2857-8b1c-4568-978d-d4e2570c3e21",
     "showTitle": false,
     "tableResultSettingsMap": {},
     "title": ""
    }
   },
   "source": [
    "## 2. What is Decoding?\n",
    "**Decoding** is the reverse process of encoding — converting bytes back into a human-readable string.\n",
    "\n",
    "**Syntax:**\n",
    "```python\n",
    "decoded_text = byte_data.decode(encoding_type)\n",
    "```\n",
    "\n",
    "It is important to use the **same encoding** for decoding that was used for encoding.  \n",
    "Otherwise, you'll get errors or incorrect characters."
   ]
  },
  {
   "cell_type": "code",
   "execution_count": 0,
   "metadata": {
    "application/vnd.databricks.v1+cell": {
     "cellMetadata": {},
     "inputWidgets": {},
     "nuid": "6c573eed-c942-484a-a5a8-83cc81e0cc6c",
     "showTitle": true,
     "tableResultSettingsMap": {},
     "title": "Example: Decoding Bytes Back to String"
    }
   },
   "outputs": [],
   "source": [
    "byte_data = b'Hello, Python!'\n",
    "decoded_text = byte_data.decode('utf-8')\n",
    "\n",
    "print(\"Byte data:\", byte_data)\n",
    "print(\"Decoded text:\", decoded_text)"
   ]
  },
  {
   "cell_type": "markdown",
   "metadata": {
    "application/vnd.databricks.v1+cell": {
     "cellMetadata": {},
     "inputWidgets": {},
     "nuid": "40579843-0edf-44de-8b41-c6e6e0436d01",
     "showTitle": false,
     "tableResultSettingsMap": {},
     "title": ""
    }
   },
   "source": [
    "## 3. Types of Encodings\n",
    "There are many encoding standards. Here are some key ones:\n",
    "\n",
    "| Encoding | Description | Character Support | Bytes per Character |\n",
    "|-----------|--------------|-------------------|---------------------|\n",
    "| ASCII | American Standard Code for Information Interchange | English letters and symbols only | 1 |\n",
    "| UTF-8 | Universal text format (Unicode) | All characters worldwide | 1–4 |\n",
    "| UTF-16 | Unicode encoding (2 or 4 bytes) | All characters worldwide | 2–4 |\n",
    "| UTF-32 | Fixed-length Unicode encoding | All characters worldwide | 4 |\n",
    "| CP1252 | Windows Latin encoding | Western European languages | 1 |\n",
    "\n",
    "Python’s **default encoding** (in most systems) is **UTF-8**."
   ]
  },
  {
   "cell_type": "code",
   "execution_count": 0,
   "metadata": {
    "application/vnd.databricks.v1+cell": {
     "cellMetadata": {},
     "inputWidgets": {},
     "nuid": "6d1b466f-fc66-4bb4-876d-c44f09c2c6d4",
     "showTitle": true,
     "tableResultSettingsMap": {},
     "title": "Example: Encoding the Same Text in Different Formats"
    }
   },
   "outputs": [],
   "source": [
    "text = \"Python 🐍\"\n",
    "\n",
    "utf8_bytes = text.encode('utf-8')\n",
    "utf16_bytes = text.encode('utf-16')\n",
    "utf32_bytes = text.encode('utf-32')\n",
    "\n",
    "print(\"Original text:\", text)\n",
    "print(\"UTF-8  :\", utf8_bytes)\n",
    "print(\"UTF-16 :\", utf16_bytes)\n",
    "print(\"UTF-32 :\", utf32_bytes)"
   ]
  },
  {
   "cell_type": "markdown",
   "metadata": {
    "application/vnd.databricks.v1+cell": {
     "cellMetadata": {},
     "inputWidgets": {},
     "nuid": "5ec8f308-af82-4ddc-b9ce-2a4c3a66b5ce",
     "showTitle": false,
     "tableResultSettingsMap": {},
     "title": ""
    }
   },
   "source": [
    "## 4. Common Encodings in Python\n",
    "Python supports hundreds of encodings, but these are the most commonly used:\n",
    "- `'utf-8'` (default)\n",
    "- `'utf-16'`\n",
    "- `'utf-32'`\n",
    "- `'ascii'`\n",
    "- `'cp1252'`\n",
    "\n",
    "You can list all supported encodings using the `encodings` module."
   ]
  },
  {
   "cell_type": "code",
   "execution_count": 0,
   "metadata": {
    "application/vnd.databricks.v1+cell": {
     "cellMetadata": {},
     "inputWidgets": {},
     "nuid": "79898de9-bda1-4afc-ac79-9e3d1dd90d1a",
     "showTitle": true,
     "tableResultSettingsMap": {},
     "title": "Example: Listing Some Common Encodings"
    }
   },
   "outputs": [],
   "source": [
    "import encodings\n",
    "\n",
    "common_encodings = ['utf-8', 'utf-16', 'utf-32', 'ascii', 'cp1252']\n",
    "for enc in common_encodings:\n",
    "    print(f\"{enc:<8} → Example: {'A'.encode(enc)}\")"
   ]
  },
  {
   "cell_type": "markdown",
   "metadata": {
    "application/vnd.databricks.v1+cell": {
     "cellMetadata": {},
     "inputWidgets": {},
     "nuid": "b32eaf9a-8817-42dd-ba61-ec753b982fd8",
     "showTitle": false,
     "tableResultSettingsMap": {},
     "title": ""
    }
   },
   "source": [
    "## 5. Encoding and Decoding a File\n",
    "When working with files, always specify the encoding to ensure consistency.\n",
    "\n",
    "**Syntax:**\n",
    "```python\n",
    "with open(filename, \"w\", encoding=\"utf-8\") as f:\n",
    "    f.write(text)\n",
    "\n",
    "with open(filename, \"r\", encoding=\"utf-8\") as f:\n",
    "    data = f.read()\n",
    "```\n",
    "\n",
    "If you use the wrong encoding while reading, you might see garbled text or get `UnicodeDecodeError`."
   ]
  },
  {
   "cell_type": "code",
   "execution_count": 0,
   "metadata": {
    "application/vnd.databricks.v1+cell": {
     "cellMetadata": {},
     "inputWidgets": {},
     "nuid": "85238269-da5c-4a33-81eb-fd4e2fb0e583",
     "showTitle": true,
     "tableResultSettingsMap": {},
     "title": "Example: Writing and Reading File with Encoding"
    }
   },
   "outputs": [],
   "source": [
    "file_path = \"/tmp/encoding_demo.txt\"\n",
    "text = \"Hello, world! नमस्ते 🌍\"\n",
    "\n",
    "# Write with UTF-8 encoding\n",
    "with open(file_path, \"w\", encoding=\"utf-8\") as f:\n",
    "    f.write(text)\n",
    "\n",
    "# Read back correctly\n",
    "with open(file_path, \"r\", encoding=\"utf-8\") as f:\n",
    "    content = f.read()\n",
    "\n",
    "print(\"File content read successfully:\", content)"
   ]
  },
  {
   "cell_type": "markdown",
   "metadata": {
    "application/vnd.databricks.v1+cell": {
     "cellMetadata": {},
     "inputWidgets": {},
     "nuid": "d0e97d53-44eb-44a7-9dd8-b1d4280e39ac",
     "showTitle": false,
     "tableResultSettingsMap": {},
     "title": ""
    }
   },
   "source": [
    "## ✅ Summary\n",
    "- **Encoding** → Convert string → bytes  \n",
    "- **Decoding** → Convert bytes → string  \n",
    "- Always use the same encoding for both operations  \n",
    "- Most common encoding today: **UTF-8**  \n",
    "- Python supports many encodings via the `encodings` module\n",
    "\n",
    "🧠 **Tip:** Prefer UTF-8 for new projects to ensure global compatibility."
   ]
  }
 ],
 "metadata": {
  "application/vnd.databricks.v1+notebook": {
   "computePreferences": null,
   "dashboards": [],
   "environmentMetadata": null,
   "inputWidgetPreferences": null,
   "language": "python",
   "notebookMetadata": {},
   "notebookName": "9.1 character_encoding_decoding [theory]",
   "widgets": {}
  },
  "language_info": {
   "name": "python"
  }
 },
 "nbformat": 4,
 "nbformat_minor": 0
}
