{
 "cells": [
  {
   "cell_type": "markdown",
   "metadata": {
    "application/vnd.databricks.v1+cell": {
     "cellMetadata": {},
     "inputWidgets": {},
     "nuid": "a342513c-d837-428b-9dc5-753bfc7c3795",
     "showTitle": false,
     "tableResultSettingsMap": {},
     "title": ""
    }
   },
   "source": [
    "# 1: Creating a Dictionary\n",
    "\n",
    "Let's create a Python dictionary with initial key-value pairs"
   ]
  },
  {
   "cell_type": "code",
   "execution_count": 0,
   "metadata": {
    "application/vnd.databricks.v1+cell": {
     "cellMetadata": {},
     "inputWidgets": {},
     "nuid": "df444503-e700-404f-b680-3ef9f5f579ec",
     "showTitle": true,
     "tableResultSettingsMap": {},
     "title": "create a dictionary"
    }
   },
   "outputs": [],
   "source": [
    "my_dict = {\"apple\": 1, \"banana\": 2, \"cherry\": 3}\n",
    "my_dict"
   ]
  },
  {
   "cell_type": "markdown",
   "metadata": {
    "application/vnd.databricks.v1+cell": {
     "cellMetadata": {},
     "inputWidgets": {},
     "nuid": "c7339ba7-53f9-4b75-971f-0fa46a5740bc",
     "showTitle": false,
     "tableResultSettingsMap": {},
     "title": ""
    }
   },
   "source": [
    "# 2: Adding a New Key-Value Pair\n",
    "\n",
    "Demonstrate how to add a new key-value pair to an existing dictionary."
   ]
  },
  {
   "cell_type": "code",
   "execution_count": 0,
   "metadata": {
    "application/vnd.databricks.v1+cell": {
     "cellMetadata": {},
     "inputWidgets": {},
     "nuid": "6b4dd7d6-b4a5-4b5a-891c-8e32ee85701b",
     "showTitle": true,
     "tableResultSettingsMap": {},
     "title": "add a new key value pair"
    }
   },
   "outputs": [],
   "source": [
    "my_dict[\"orange\"] = 4\n",
    "my_dict"
   ]
  },
  {
   "cell_type": "markdown",
   "metadata": {
    "application/vnd.databricks.v1+cell": {
     "cellMetadata": {},
     "inputWidgets": {},
     "nuid": "e2baa5af-580f-4522-b75b-7e9475f0b9c5",
     "showTitle": false,
     "tableResultSettingsMap": {},
     "title": ""
    }
   },
   "source": [
    "# 3: Updating the Value of an Existing Key\n",
    "\n",
    "update the value of an existing key in the dictionary."
   ]
  },
  {
   "cell_type": "code",
   "execution_count": 0,
   "metadata": {
    "application/vnd.databricks.v1+cell": {
     "cellMetadata": {},
     "inputWidgets": {},
     "nuid": "c6403b3d-0da6-41dd-a6e6-1ff151f642cd",
     "showTitle": true,
     "tableResultSettingsMap": {},
     "title": "update a value of existing key"
    }
   },
   "outputs": [],
   "source": [
    "my_dict[\"banana\"] = 5\n",
    "my_dict"
   ]
  },
  {
   "cell_type": "markdown",
   "metadata": {
    "application/vnd.databricks.v1+cell": {
     "cellMetadata": {},
     "inputWidgets": {},
     "nuid": "496ae06b-8e50-4191-b93b-f624a62a5f42",
     "showTitle": false,
     "tableResultSettingsMap": {},
     "title": ""
    }
   },
   "source": [
    "# 4: Deleting a Key-Value Pair\n",
    "\n",
    "Demonstrates how to delete a specific key-value pair using `del`."
   ]
  },
  {
   "cell_type": "code",
   "execution_count": 0,
   "metadata": {
    "application/vnd.databricks.v1+cell": {
     "cellMetadata": {},
     "inputWidgets": {},
     "nuid": "33c931c5-5dd4-4627-b833-25d10188bb15",
     "showTitle": true,
     "tableResultSettingsMap": {},
     "title": "delete a specific item using key"
    }
   },
   "outputs": [],
   "source": [
    "del my_dict[\"cherry\"]\n",
    "my_dict"
   ]
  },
  {
   "cell_type": "markdown",
   "metadata": {
    "application/vnd.databricks.v1+cell": {
     "cellMetadata": {},
     "inputWidgets": {},
     "nuid": "6d7c08cb-6a57-4bc3-8cec-281006e34c0a",
     "showTitle": false,
     "tableResultSettingsMap": {},
     "title": ""
    }
   },
   "source": [
    "# 5: Using `pop()` to Remove a Key-Value Pair\n",
    "\n",
    "The `pop()` method removes a key and returns its value."
   ]
  },
  {
   "cell_type": "code",
   "execution_count": 0,
   "metadata": {
    "application/vnd.databricks.v1+cell": {
     "cellMetadata": {},
     "inputWidgets": {},
     "nuid": "b421368c-df07-4f75-a42e-dca0663779e5",
     "showTitle": true,
     "tableResultSettingsMap": {},
     "title": "using pop()"
    }
   },
   "outputs": [],
   "source": [
    "removed_value = my_dict.pop(\"apple\")\n",
    "removed_value, my_dict"
   ]
  },
  {
   "cell_type": "markdown",
   "metadata": {
    "application/vnd.databricks.v1+cell": {
     "cellMetadata": {},
     "inputWidgets": {},
     "nuid": "bf2c2d30-0cd0-483d-b5d5-7174bf6a9370",
     "showTitle": false,
     "tableResultSettingsMap": {},
     "title": ""
    }
   },
   "source": [
    "# 6: Using `popitem()` to Remove the Last Inserted Item\n",
    "\n",
    "The `popitem()` method removes and returns the last inserted key-value pair."
   ]
  },
  {
   "cell_type": "code",
   "execution_count": 0,
   "metadata": {
    "application/vnd.databricks.v1+cell": {
     "cellMetadata": {},
     "inputWidgets": {},
     "nuid": "9059e23b-16c6-4568-9b17-57211952d680",
     "showTitle": true,
     "tableResultSettingsMap": {},
     "title": "using popitem()"
    }
   },
   "outputs": [],
   "source": [
    "last_item = my_dict.popitem()\n",
    "last_item, my_dict"
   ]
  },
  {
   "cell_type": "markdown",
   "metadata": {
    "application/vnd.databricks.v1+cell": {
     "cellMetadata": {},
     "inputWidgets": {},
     "nuid": "b0175fb1-30db-4841-8322-9bbdc71dac1b",
     "showTitle": false,
     "tableResultSettingsMap": {},
     "title": ""
    }
   },
   "source": [
    "# 7: Clearing All Items in the Dictionary\n",
    "\n",
    "The `clear()` method removes all key-value pairs from the dictionary."
   ]
  },
  {
   "cell_type": "code",
   "execution_count": 0,
   "metadata": {
    "application/vnd.databricks.v1+cell": {
     "cellMetadata": {},
     "inputWidgets": {},
     "nuid": "ea45ae67-d4b0-4201-8cb9-eb3cd23c243d",
     "showTitle": true,
     "tableResultSettingsMap": {},
     "title": "using clear()"
    }
   },
   "outputs": [],
   "source": [
    "my_dict.clear()\n",
    "my_dict"
   ]
  },
  {
   "cell_type": "markdown",
   "metadata": {
    "application/vnd.databricks.v1+cell": {
     "cellMetadata": {},
     "inputWidgets": {},
     "nuid": "7fc40d0d-a703-4d23-96b6-81f7f44f6d9c",
     "showTitle": false,
     "tableResultSettingsMap": {},
     "title": ""
    }
   },
   "source": [
    "# 8: Using `update()` to Merge Two Dictionaries\n",
    "\n",
    "The `update()` method is used to merge one dictionary into another."
   ]
  },
  {
   "cell_type": "code",
   "execution_count": 0,
   "metadata": {
    "application/vnd.databricks.v1+cell": {
     "cellMetadata": {},
     "inputWidgets": {},
     "nuid": "ad3c7d35-7433-4dff-87e1-1b3416b2f8ce",
     "showTitle": true,
     "tableResultSettingsMap": {},
     "title": "using update()"
    }
   },
   "outputs": [],
   "source": [
    "another_dict = {\"kiwi\": 6, \"grape\": 7}\n",
    "my_dict.update(another_dict)\n",
    "my_dict"
   ]
  },
  {
   "cell_type": "markdown",
   "metadata": {
    "application/vnd.databricks.v1+cell": {
     "cellMetadata": {},
     "inputWidgets": {},
     "nuid": "a3e12993-3e2e-4e55-8e4e-d993b23aba92",
     "showTitle": false,
     "tableResultSettingsMap": {},
     "title": ""
    }
   },
   "source": [
    "# 9: Checking if a Key Exists in a Dictionary\n",
    "\n",
    "Use the `in` keyword to check if a key exists."
   ]
  },
  {
   "cell_type": "code",
   "execution_count": 0,
   "metadata": {
    "application/vnd.databricks.v1+cell": {
     "cellMetadata": {},
     "inputWidgets": {},
     "nuid": "c9c75810-7f14-4098-a994-c7cd6f1dcbdb",
     "showTitle": true,
     "tableResultSettingsMap": {},
     "title": "check if key is present using in"
    }
   },
   "outputs": [],
   "source": [
    "key_exists = \"kiwi\" in my_dict\n",
    "key_exists"
   ]
  },
  {
   "cell_type": "markdown",
   "metadata": {
    "application/vnd.databricks.v1+cell": {
     "cellMetadata": {},
     "inputWidgets": {},
     "nuid": "8a57e9d9-28ca-448b-93dd-ff951d4f1c3d",
     "showTitle": false,
     "tableResultSettingsMap": {},
     "title": ""
    }
   },
   "source": [
    "# 10: getting list of keys from a Dictionary\n",
    "keys() method returns list of keys\n"
   ]
  },
  {
   "cell_type": "code",
   "execution_count": 0,
   "metadata": {
    "application/vnd.databricks.v1+cell": {
     "cellMetadata": {},
     "inputWidgets": {},
     "nuid": "a9416d90-b05d-4bf6-8d7b-6c7336b70f52",
     "showTitle": true,
     "tableResultSettingsMap": {},
     "title": "using keys()"
    }
   },
   "outputs": [],
   "source": [
    "for key in my_dict.keys():\n",
    "    print(key)"
   ]
  },
  {
   "cell_type": "markdown",
   "metadata": {
    "application/vnd.databricks.v1+cell": {
     "cellMetadata": {},
     "inputWidgets": {},
     "nuid": "a4454017-069b-4fba-8fc4-af86f884ac58",
     "showTitle": false,
     "tableResultSettingsMap": {},
     "title": ""
    }
   },
   "source": [
    "# 11: Iterating Through a Dictionary\n",
    "\n",
    "Use a `for` loop to iterate through key-value pairs."
   ]
  },
  {
   "cell_type": "code",
   "execution_count": 0,
   "metadata": {
    "application/vnd.databricks.v1+cell": {
     "cellMetadata": {},
     "inputWidgets": {},
     "nuid": "42c680d2-66fb-4f91-b547-198244df419f",
     "showTitle": true,
     "tableResultSettingsMap": {},
     "title": "for loop iteration"
    }
   },
   "outputs": [],
   "source": [
    "for key, value in my_dict.items():\n",
    "    print(f\"Key: {key}, Value: {value}\")"
   ]
  }
 ],
 "metadata": {
  "application/vnd.databricks.v1+notebook": {
   "computePreferences": null,
   "dashboards": [],
   "environmentMetadata": null,
   "inputWidgetPreferences": null,
   "language": "python",
   "notebookMetadata": {
    "pythonIndentUnit": 4
   },
   "notebookName": "3.a dictionary [theory]",
   "widgets": {}
  },
  "language_info": {
   "name": "python"
  }
 },
 "nbformat": 4,
 "nbformat_minor": 0
}
