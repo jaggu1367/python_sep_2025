{
 "cells": [
  {
   "cell_type": "markdown",
   "metadata": {
    "application/vnd.databricks.v1+cell": {
     "cellMetadata": {},
     "inputWidgets": {},
     "nuid": "9a51a266-4185-4024-bacc-dc8098475ebb",
     "showTitle": false,
     "tableResultSettingsMap": {},
     "title": ""
    }
   },
   "source": [
    "# 🐍 Mastering Python Lists\n",
    "\n",
    "Welcome! In this notebook, we'll explore all the essential operations on **Python Lists**:\n",
    "\n",
    "- Creating a list\n",
    "- Printing a list\n",
    "- Finding list size\n",
    "- Adding/removing elements\n",
    "- Accessing by index\n",
    "- List concatenation\n",
    "- Iterating over a list\n",
    "- List comprehension (with examples)"
   ]
  },
  {
   "cell_type": "markdown",
   "metadata": {
    "application/vnd.databricks.v1+cell": {
     "cellMetadata": {},
     "inputWidgets": {},
     "nuid": "9442a6a1-6390-4226-bc4c-a3e811a1d373",
     "showTitle": false,
     "tableResultSettingsMap": {},
     "title": ""
    }
   },
   "source": [
    "## 📌 1. Creating a List\n",
    "\n",
    "In Python, lists are defined using square brackets `[]`. Let's create a list of integers."
   ]
  },
  {
   "cell_type": "code",
   "execution_count": 0,
   "metadata": {
    "application/vnd.databricks.v1+cell": {
     "cellMetadata": {},
     "inputWidgets": {},
     "nuid": "92517df6-37d6-4e84-9587-63d5490c97ec",
     "showTitle": true,
     "tableResultSettingsMap": {},
     "title": "creating a list"
    }
   },
   "outputs": [],
   "source": [
    "numbers = [1, 2, 3, 4, 5]\n",
    "numbers"
   ]
  },
  {
   "cell_type": "markdown",
   "metadata": {
    "application/vnd.databricks.v1+cell": {
     "cellMetadata": {},
     "inputWidgets": {},
     "nuid": "c5320160-8d45-4b33-a59d-0550cc988108",
     "showTitle": false,
     "tableResultSettingsMap": {},
     "title": ""
    }
   },
   "source": [
    "## 📌 2. Printing the List\n",
    "\n",
    "Use the `print()` function to display the contents of a list."
   ]
  },
  {
   "cell_type": "code",
   "execution_count": 0,
   "metadata": {
    "application/vnd.databricks.v1+cell": {
     "cellMetadata": {},
     "inputWidgets": {},
     "nuid": "8021d3b9-0b1e-4e0d-9ea9-81ef9a8a1164",
     "showTitle": true,
     "tableResultSettingsMap": {},
     "title": "print the list"
    }
   },
   "outputs": [],
   "source": [
    "print(numbers)"
   ]
  },
  {
   "cell_type": "markdown",
   "metadata": {
    "application/vnd.databricks.v1+cell": {
     "cellMetadata": {},
     "inputWidgets": {},
     "nuid": "fc0ab204-5ec9-4b55-95c2-1cf169c37e77",
     "showTitle": false,
     "tableResultSettingsMap": {},
     "title": ""
    }
   },
   "source": [
    "## 📌 3. Finding the Size of a List\n",
    "\n",
    "Use the `len()` function to find the number of elements in a list."
   ]
  },
  {
   "cell_type": "code",
   "execution_count": 0,
   "metadata": {
    "application/vnd.databricks.v1+cell": {
     "cellMetadata": {},
     "inputWidgets": {},
     "nuid": "95d4dfcc-a931-42e7-b16f-c2667b662cd9",
     "showTitle": true,
     "tableResultSettingsMap": {},
     "title": "finding size"
    }
   },
   "outputs": [],
   "source": [
    "size_of_list = len(numbers)\n",
    "print(f\"Size of the list: {size_of_list}\")"
   ]
  },
  {
   "cell_type": "markdown",
   "metadata": {
    "application/vnd.databricks.v1+cell": {
     "cellMetadata": {},
     "inputWidgets": {},
     "nuid": "15139388-3514-474a-9084-161775340239",
     "showTitle": false,
     "tableResultSettingsMap": {},
     "title": ""
    }
   },
   "source": [
    "## 📌 4. Adding an Element to a List\n",
    "\n",
    "Use the `append()` method to add a new element at the end of a list."
   ]
  },
  {
   "cell_type": "code",
   "execution_count": 0,
   "metadata": {
    "application/vnd.databricks.v1+cell": {
     "cellMetadata": {},
     "inputWidgets": {},
     "nuid": "aa994b1b-2298-43f6-b939-a6d1c1caa7a7",
     "showTitle": true,
     "tableResultSettingsMap": {},
     "title": "adding element to list"
    }
   },
   "outputs": [],
   "source": [
    "numbers.append(6)\n",
    "print(numbers)"
   ]
  },
  {
   "cell_type": "markdown",
   "metadata": {
    "application/vnd.databricks.v1+cell": {
     "cellMetadata": {},
     "inputWidgets": {},
     "nuid": "a2e6744f-48b7-4d9a-99e3-517eba74bb4c",
     "showTitle": false,
     "tableResultSettingsMap": {},
     "title": ""
    }
   },
   "source": [
    "## 📌 5. Accessing Elements by Index\n",
    "\n",
    "Python lists are zero-indexed.\n",
    "\n",
    "- Use `[0]` to access the first element.\n",
    "- Use `[-1]` to access the last element."
   ]
  },
  {
   "cell_type": "code",
   "execution_count": 0,
   "metadata": {
    "application/vnd.databricks.v1+cell": {
     "cellMetadata": {},
     "inputWidgets": {},
     "nuid": "3710a1e3-b92c-4f2e-b9a7-ccf677b44ff9",
     "showTitle": true,
     "tableResultSettingsMap": {},
     "title": "accessing elements using index"
    }
   },
   "outputs": [],
   "source": [
    "first_element = numbers[0]\n",
    "last_element = numbers[-1]\n",
    "print(f\"First element: {first_element}\")\n",
    "print(f\"Last element: {last_element}\")"
   ]
  },
  {
   "cell_type": "markdown",
   "metadata": {
    "application/vnd.databricks.v1+cell": {
     "cellMetadata": {},
     "inputWidgets": {},
     "nuid": "6091c4c5-1782-4a2c-9a5b-c8b4f5690177",
     "showTitle": false,
     "tableResultSettingsMap": {},
     "title": ""
    }
   },
   "source": [
    "## 📌 6. Removing Elements from a List\n",
    "\n",
    "- `remove(x)`: removes the first occurrence of value `x`\n",
    "- `pop()`: removes the last element by default"
   ]
  },
  {
   "cell_type": "code",
   "execution_count": 0,
   "metadata": {
    "application/vnd.databricks.v1+cell": {
     "cellMetadata": {},
     "inputWidgets": {},
     "nuid": "319a6d00-2ae1-4aab-a922-3ece85db8908",
     "showTitle": true,
     "tableResultSettingsMap": {},
     "title": "removing elements from a List"
    }
   },
   "outputs": [],
   "source": [
    "numbers.remove(3)\n",
    "print(f\"After removing 3: {numbers}\")\n",
    "\n",
    "removed = numbers.pop()\n",
    "print(f\"After popping last element: {numbers}\")\n",
    "print(f\"Popped element: {removed}\")"
   ]
  },
  {
   "cell_type": "markdown",
   "metadata": {
    "application/vnd.databricks.v1+cell": {
     "cellMetadata": {},
     "inputWidgets": {},
     "nuid": "49a8412c-fcce-45a9-94d4-ad6f7efa0efa",
     "showTitle": false,
     "tableResultSettingsMap": {},
     "title": ""
    }
   },
   "source": [
    "## 📌 7. Adding One List to Another List\n",
    "\n",
    "- Use `extend()` to add elements of one list to another.\n",
    "- Use `+` to concatenate lists."
   ]
  },
  {
   "cell_type": "code",
   "execution_count": 0,
   "metadata": {
    "application/vnd.databricks.v1+cell": {
     "cellMetadata": {},
     "inputWidgets": {},
     "nuid": "787f3111-e871-4909-9e0b-7ae2eceea282",
     "showTitle": true,
     "tableResultSettingsMap": {},
     "title": "concatenate lists"
    }
   },
   "outputs": [],
   "source": [
    "another_list = [7, 8, 9]\n",
    "numbers.extend(another_list)\n",
    "print(f\"After extending: {numbers}\")\n",
    "\n",
    "numbers = numbers + [10, 11]\n",
    "print(f\"After adding another list: {numbers}\")"
   ]
  },
  {
   "cell_type": "markdown",
   "metadata": {
    "application/vnd.databricks.v1+cell": {
     "cellMetadata": {},
     "inputWidgets": {},
     "nuid": "3f32b3eb-0dfb-4114-92fb-74b86a604ebf",
     "showTitle": false,
     "tableResultSettingsMap": {},
     "title": ""
    }
   },
   "source": [
    "## 📌 8. Iterating Over a List\n",
    "\n",
    "Use a `for` loop to process each item in a list."
   ]
  },
  {
   "cell_type": "code",
   "execution_count": 0,
   "metadata": {
    "application/vnd.databricks.v1+cell": {
     "cellMetadata": {},
     "inputWidgets": {},
     "nuid": "4937f40b-37f2-417c-afe1-75bc0c289c72",
     "showTitle": true,
     "tableResultSettingsMap": {},
     "title": "iterate over a list/ traverse through the list"
    }
   },
   "outputs": [],
   "source": [
    "for num in numbers:\n",
    "    print(num)"
   ]
  },
  {
   "cell_type": "markdown",
   "metadata": {
    "application/vnd.databricks.v1+cell": {
     "cellMetadata": {},
     "inputWidgets": {},
     "nuid": "b34c9100-afe6-4911-96a1-4bdab830838f",
     "showTitle": false,
     "tableResultSettingsMap": {},
     "title": ""
    }
   },
   "source": [
    "## 📌 9. Creating a New List Using a Generic `for` Loop\n",
    "\n",
    "Let's create a list of squares using a standard `for` loop."
   ]
  },
  {
   "cell_type": "code",
   "execution_count": 0,
   "metadata": {
    "application/vnd.databricks.v1+cell": {
     "cellMetadata": {},
     "inputWidgets": {},
     "nuid": "2d806e9d-a36e-4666-b75c-6146d7201096",
     "showTitle": true,
     "tableResultSettingsMap": {},
     "title": "create new list using another list"
    }
   },
   "outputs": [],
   "source": [
    "squared_numbers = []\n",
    "for num in numbers:\n",
    "    squared_numbers.append(num ** 2)\n",
    "print(f\"Squared numbers: {squared_numbers}\")"
   ]
  },
  {
   "cell_type": "markdown",
   "metadata": {
    "application/vnd.databricks.v1+cell": {
     "cellMetadata": {},
     "inputWidgets": {},
     "nuid": "be22458b-9a8a-4754-a522-3bfe80abb690",
     "showTitle": false,
     "tableResultSettingsMap": {},
     "title": ""
    }
   },
   "source": [
    "# 🚀 List Comprehension\n",
    "\n",
    "List comprehension is a concise way to create new lists in Python.\n",
    "\n",
    "**Syntax:**\n",
    "```python\n",
    "[expression for item in iterable if condition]\n",
    "```"
   ]
  },
  {
   "cell_type": "markdown",
   "metadata": {
    "application/vnd.databricks.v1+cell": {
     "cellMetadata": {},
     "inputWidgets": {},
     "nuid": "66ba166a-a7c1-44cb-a0cb-a0c1cb21ed20",
     "showTitle": false,
     "tableResultSettingsMap": {},
     "title": ""
    }
   },
   "source": [
    "## ✅ Example 1: Squares of Numbers"
   ]
  },
  {
   "cell_type": "code",
   "execution_count": 0,
   "metadata": {
    "application/vnd.databricks.v1+cell": {
     "cellMetadata": {},
     "inputWidgets": {},
     "nuid": "31f030c8-a51d-4689-b512-3d5921682124",
     "showTitle": true,
     "tableResultSettingsMap": {},
     "title": "list comprehension example 1"
    }
   },
   "outputs": [],
   "source": [
    "squares = [x**2 for x in numbers]\n",
    "print(f\"Squares: {squares}\")"
   ]
  },
  {
   "cell_type": "markdown",
   "metadata": {
    "application/vnd.databricks.v1+cell": {
     "cellMetadata": {},
     "inputWidgets": {},
     "nuid": "3c50d1fe-5a53-47c2-9119-81f8dcfeae22",
     "showTitle": false,
     "tableResultSettingsMap": {},
     "title": ""
    }
   },
   "source": [
    "## ✅ Example 2: Filter Even Numbers"
   ]
  },
  {
   "cell_type": "code",
   "execution_count": 0,
   "metadata": {
    "application/vnd.databricks.v1+cell": {
     "cellMetadata": {},
     "inputWidgets": {},
     "nuid": "a63b7b00-630f-4d1e-a44c-76a7f9c95224",
     "showTitle": true,
     "tableResultSettingsMap": {},
     "title": "list comprehension example 2"
    }
   },
   "outputs": [],
   "source": [
    "even_numbers = [x for x in numbers if x % 2 == 0]\n",
    "print(f\"Even numbers: {even_numbers}\")"
   ]
  },
  {
   "cell_type": "markdown",
   "metadata": {
    "application/vnd.databricks.v1+cell": {
     "cellMetadata": {},
     "inputWidgets": {},
     "nuid": "5cf65f5c-d9c1-4209-aef9-6572dcbf3843",
     "showTitle": false,
     "tableResultSettingsMap": {},
     "title": ""
    }
   },
   "source": [
    "## ✅ Example 3: Multiply Elements by 10"
   ]
  },
  {
   "cell_type": "code",
   "execution_count": 0,
   "metadata": {
    "application/vnd.databricks.v1+cell": {
     "cellMetadata": {},
     "inputWidgets": {},
     "nuid": "83e599cd-ff48-4df6-b21b-2369884ea210",
     "showTitle": true,
     "tableResultSettingsMap": {},
     "title": "list comprehension example 3"
    }
   },
   "outputs": [],
   "source": [
    "times_ten = [x * 10 for x in numbers]\n",
    "print(f\"Numbers ×10: {times_ten}\")"
   ]
  },
  {
   "cell_type": "markdown",
   "metadata": {
    "application/vnd.databricks.v1+cell": {
     "cellMetadata": {},
     "inputWidgets": {},
     "nuid": "4f996366-62d6-4f38-8fb1-0952182b962b",
     "showTitle": false,
     "tableResultSettingsMap": {},
     "title": ""
    }
   },
   "source": [
    "## ✅ Example 4: Words Longer Than 3 Characters"
   ]
  },
  {
   "cell_type": "code",
   "execution_count": 0,
   "metadata": {
    "application/vnd.databricks.v1+cell": {
     "cellMetadata": {},
     "inputWidgets": {},
     "nuid": "4fcdc9a9-ae16-4f9e-b517-ad70082335f6",
     "showTitle": true,
     "tableResultSettingsMap": {},
     "title": "list comprehension example 4"
    }
   },
   "outputs": [],
   "source": [
    "words = ['apple', 'is', 'a', 'fruit', 'banana']\n",
    "long_words = [word for word in words if len(word) > 3]\n",
    "print(f\"Words > 3 characters: {long_words}\")"
   ]
  },
  {
   "cell_type": "markdown",
   "metadata": {
    "application/vnd.databricks.v1+cell": {
     "cellMetadata": {},
     "inputWidgets": {},
     "nuid": "c6b896d9-81f0-45ef-8077-6fcb8579a06e",
     "showTitle": false,
     "tableResultSettingsMap": {},
     "title": ""
    }
   },
   "source": [
    "## ✅ Example 5: Flatten a Nested List"
   ]
  },
  {
   "cell_type": "code",
   "execution_count": 0,
   "metadata": {
    "application/vnd.databricks.v1+cell": {
     "cellMetadata": {},
     "inputWidgets": {},
     "nuid": "7a091752-1743-4d86-a0e2-d1371088c111",
     "showTitle": true,
     "tableResultSettingsMap": {},
     "title": "list comprehension example 5"
    }
   },
   "outputs": [],
   "source": [
    "nested_list = [[1, 2], [3, 4], [5, 6]]\n",
    "flattened = [item for sublist in nested_list for item in sublist]\n",
    "print(f\"Flattened list: {flattened}\")"
   ]
  },
  {
   "cell_type": "markdown",
   "metadata": {
    "application/vnd.databricks.v1+cell": {
     "cellMetadata": {},
     "inputWidgets": {},
     "nuid": "4afdbf6f-5d52-4bad-bc6e-2e29206856e9",
     "showTitle": false,
     "tableResultSettingsMap": {},
     "title": ""
    }
   },
   "source": [
    "# 🎓 Summary & Challenge\n",
    "\n",
    "You learned how to:\n",
    "- Create and manipulate Python lists\n",
    "- Access, add, and remove elements\n",
    "- Use list comprehension to transform data\n",
    "\n",
    "---\n",
    "\n",
    "**🔥 Challenges for You:**\n",
    "---\n",
    "**🔥 Challenge 1:**\n",
    "**Sort the list** in descending order and print the elements\n",
    "---\n",
    "\n",
    "**🔥 Challenge 2:**\n",
    "**Remove duplicates** in a list\n",
    "---\n",
    "\n",
    "**🔥 Challenge 3:**\n",
    "Create a list of **prime numbers between 1 and 100** using list comprehension!\n",
    "---"
   ]
  }
 ],
 "metadata": {
  "application/vnd.databricks.v1+notebook": {
   "computePreferences": null,
   "dashboards": [],
   "environmentMetadata": null,
   "inputWidgetPreferences": null,
   "language": "python",
   "notebookMetadata": {
    "pythonIndentUnit": 4
   },
   "notebookName": "2.a list and list_comprehension [theory]",
   "widgets": {}
  },
  "language_info": {
   "name": "python"
  }
 },
 "nbformat": 4,
 "nbformat_minor": 0
}
