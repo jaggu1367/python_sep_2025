{
 "cells": [
  {
   "cell_type": "markdown",
   "metadata": {
    "application/vnd.databricks.v1+cell": {
     "cellMetadata": {},
     "inputWidgets": {},
     "nuid": "9e7c5481-1677-4e5f-8bfb-92bc2fa038e6",
     "showTitle": false,
     "tableResultSettingsMap": {},
     "title": ""
    }
   },
   "source": [
    "# Python Sets\n",
    "\n",
    "Sets are **unordered collections** of **unique** elements.\n",
    "They are useful when you want to store distinct items and perform operations like union, intersection, difference, etc."
   ]
  },
  {
   "cell_type": "code",
   "execution_count": 0,
   "metadata": {
    "application/vnd.databricks.v1+cell": {
     "cellMetadata": {
      "byteLimit": 2048000,
      "rowLimit": 10000
     },
     "inputWidgets": {},
     "nuid": "2a70e996-418f-4327-95f3-2431a3b3b144",
     "showTitle": true,
     "tableResultSettingsMap": {},
     "title": "Creating Sets - Examples"
    }
   },
   "outputs": [],
   "source": [
    "# Creating sets using curly braces\n",
    "set1 = {1, 2, 3, 4, 5}\n",
    "print(\"Set1:\", set1)\n",
    "\n",
    "# Creating a set from a list (duplicates removed)\n",
    "set2 = set([3, 4, 4, 5, 6, 7])\n",
    "print(\"Set2:\", set2)\n",
    "\n",
    "# Creating an empty set\n",
    "empty_set = set()\n",
    "print(\"Empty set:\", empty_set)"
   ]
  },
  {
   "cell_type": "markdown",
   "metadata": {
    "application/vnd.databricks.v1+cell": {
     "cellMetadata": {},
     "inputWidgets": {},
     "nuid": "9f0c9c70-067b-4a53-bc17-9f5ae3879bdc",
     "showTitle": false,
     "tableResultSettingsMap": {},
     "title": ""
    }
   },
   "source": [
    "## Set Characteristics\n",
    "- Sets are **unordered**: elements have no index.\n",
    "- Sets contain **unique** elements only.\n",
    "- Sets are **mutable** (you can add or remove elements).\n",
    "- Sets **cannot contain mutable elements** like lists or dictionaries."
   ]
  },
  {
   "cell_type": "code",
   "execution_count": 0,
   "metadata": {
    "application/vnd.databricks.v1+cell": {
     "cellMetadata": {},
     "inputWidgets": {},
     "nuid": "200931ce-6b16-4098-b127-e7f6c68f3ca8",
     "showTitle": true,
     "tableResultSettingsMap": {},
     "title": "Accessing & Modifying Sets"
    }
   },
   "outputs": [],
   "source": [
    "# You cannot access elements by index because sets are unordered\n",
    "# But you can add or remove elements\n",
    "\n",
    "my_set = {1, 2, 3}\n",
    "print(\"Original set:\", my_set)\n",
    "\n",
    "# Adding elements\n",
    "my_set.add(4)\n",
    "print(\"After adding 4:\", my_set)\n",
    "\n",
    "# Adding multiple elements\n",
    "my_set.update([5, 6])\n",
    "print(\"After adding 5 and 6:\", my_set)\n",
    "\n",
    "# Removing elements\n",
    "my_set.remove(2)  # Raises error if element not found\n",
    "print(\"After removing 2:\", my_set)\n",
    "\n",
    "my_set.discard(10) # Does NOT raise error if element not found\n",
    "print(\"After discarding 10 (not present):\", my_set)"
   ]
  },
  {
   "cell_type": "markdown",
   "metadata": {
    "application/vnd.databricks.v1+cell": {
     "cellMetadata": {},
     "inputWidgets": {},
     "nuid": "1f97f90e-b371-4ff8-9262-cac0f64b9b2f",
     "showTitle": false,
     "tableResultSettingsMap": {},
     "title": ""
    }
   },
   "source": [
    "## Set Operations\n",
    "- **Union:** combine all unique elements\n",
    "- **Intersection:** common elements\n",
    "- **Difference:** elements in one set but not in another\n",
    "- **Symmetric Difference:** elements in either set but not both"
   ]
  },
  {
   "cell_type": "code",
   "execution_count": 0,
   "metadata": {
    "application/vnd.databricks.v1+cell": {
     "cellMetadata": {
      "byteLimit": 2048000,
      "rowLimit": 10000
     },
     "inputWidgets": {},
     "nuid": "ad87ccdf-b336-467c-bcfe-6654f135f66a",
     "showTitle": true,
     "tableResultSettingsMap": {},
     "title": "Set Operations - Examples"
    }
   },
   "outputs": [],
   "source": [
    "a = {1, 2, 3, 4} \n",
    "b = {3, 4, 5, 6}\n",
    "\n",
    "print(\"Set a:\", a)\n",
    "print(\"Set b:\", b)\n",
    "\n",
    "print(\"Union (a | b):\", a | b)\n",
    "print(\"Intersection (a & b):\", a & b)\n",
    "print(\"Difference (a - b):\", a - b)\n",
    "print(\"Symmetric Difference (a ^ b):\", a ^ b)"
   ]
  },
  {
   "cell_type": "markdown",
   "metadata": {
    "application/vnd.databricks.v1+cell": {
     "cellMetadata": {},
     "inputWidgets": {},
     "nuid": "62714787-bf58-4daf-ab39-3c1db276acb6",
     "showTitle": false,
     "tableResultSettingsMap": {},
     "title": ""
    }
   },
   "source": [
    "## Other Useful Set Methods\n",
    "- `issubset()`\n",
    "- `issuperset()`\n",
    "- `copy()`\n",
    "- `clear()`"
   ]
  },
  {
   "cell_type": "code",
   "execution_count": 0,
   "metadata": {
    "application/vnd.databricks.v1+cell": {
     "cellMetadata": {
      "byteLimit": 2048000,
      "rowLimit": 10000
     },
     "inputWidgets": {},
     "nuid": "78dfcd87-0af1-47b4-86c6-77c5c93423a5",
     "showTitle": true,
     "tableResultSettingsMap": {},
     "title": "Other Set Methods - Examples"
    }
   },
   "outputs": [],
   "source": [
    "x = {1, 2, 3}\n",
    "y = {1, 2, 3, 4, 5}\n",
    "\n",
    "print(\"x:\", x)\n",
    "print(\"y:\", y)\n",
    "\n",
    "print(\"Is x subset of y?\", x.issubset(y))\n",
    "print(\"Is y superset of x?\", y.issuperset(x))\n",
    "\n",
    "# Copying a set\n",
    "z = x.copy()\n",
    "print(\"Copy of x:\", z)\n",
    "\n",
    "# Clearing a set\n",
    "z.clear()\n",
    "print(\"After clearing z:\", z)"
   ]
  },
  {
   "cell_type": "markdown",
   "metadata": {
    "application/vnd.databricks.v1+cell": {
     "cellMetadata": {},
     "inputWidgets": {},
     "nuid": "2c9faa34-282b-4749-9d7d-19a91c494e0c",
     "showTitle": false,
     "tableResultSettingsMap": {},
     "title": ""
    }
   },
   "source": [
    "## Practice Exercises\n",
    "- Create a set from a list and remove duplicates.\n",
    "- Find the union and intersection of two sets.\n",
    "- Check if one set is a subset of another.\n",
    "- Remove an element safely from a set without error if it doesn’t exist."
   ]
  }
 ],
 "metadata": {
  "application/vnd.databricks.v1+notebook": {
   "computePreferences": null,
   "dashboards": [],
   "environmentMetadata": null,
   "inputWidgetPreferences": null,
   "language": "python",
   "notebookMetadata": {
    "pythonIndentUnit": 4
   },
   "notebookName": "4.a set [theory]",
   "widgets": {}
  },
  "language_info": {
   "name": "python"
  }
 },
 "nbformat": 4,
 "nbformat_minor": 0
}
