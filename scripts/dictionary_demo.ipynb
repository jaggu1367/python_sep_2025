{
 "cells": [
  {
   "cell_type": "code",
   "execution_count": 10,
   "id": "cd945f6a-fedc-48e8-b82d-99c816f835bc",
   "metadata": {},
   "outputs": [],
   "source": [
    "fruits_list = [\"apple\", \"banana\", \"cherry\"]"
   ]
  },
  {
   "cell_type": "code",
   "execution_count": 21,
   "id": "4b60669d-f528-4ff3-b1c7-4045a6452cf9",
   "metadata": {},
   "outputs": [],
   "source": [
    "fruits_tuple_list = [(\"apple\",4) , (\"banana\", 12), (\"cherry\", 10)]"
   ]
  },
  {
   "cell_type": "code",
   "execution_count": 22,
   "id": "5ecf877d-3f88-4fa6-8f9c-0fc86cba503f",
   "metadata": {},
   "outputs": [
    {
     "data": {
      "text/plain": [
       "list"
      ]
     },
     "execution_count": 22,
     "metadata": {},
     "output_type": "execute_result"
    }
   ],
   "source": [
    "type(fruits_tuple_list)"
   ]
  },
  {
   "cell_type": "code",
   "execution_count": 11,
   "id": "9b86ad49-e370-4e62-ba96-07f4996930ef",
   "metadata": {},
   "outputs": [],
   "source": [
    "fruits_dict = {\"apple\":4, \"banana\":12, \"cherry\":10}"
   ]
  },
  {
   "cell_type": "code",
   "execution_count": 12,
   "id": "9afb759f-7576-43df-85c6-e06ca2980937",
   "metadata": {},
   "outputs": [
    {
     "data": {
      "text/plain": [
       "3"
      ]
     },
     "execution_count": 12,
     "metadata": {},
     "output_type": "execute_result"
    }
   ],
   "source": [
    "len(fruits_list)"
   ]
  },
  {
   "cell_type": "code",
   "execution_count": 13,
   "id": "3d675db0-1e50-42ea-89cd-4de4941433cc",
   "metadata": {},
   "outputs": [
    {
     "data": {
      "text/plain": [
       "3"
      ]
     },
     "execution_count": 13,
     "metadata": {},
     "output_type": "execute_result"
    }
   ],
   "source": [
    "len(fruits_dict)"
   ]
  },
  {
   "cell_type": "code",
   "execution_count": 15,
   "id": "d0341c73-949d-4fdb-a409-bb0e5856842e",
   "metadata": {},
   "outputs": [
    {
     "name": "stdout",
     "output_type": "stream",
     "text": [
      "[]\n"
     ]
    },
    {
     "data": {
      "text/plain": [
       "0"
      ]
     },
     "execution_count": 15,
     "metadata": {},
     "output_type": "execute_result"
    }
   ],
   "source": [
    "a = []\n",
    "print(a)\n",
    "len(a)"
   ]
  },
  {
   "cell_type": "code",
   "execution_count": 16,
   "id": "e073d5f3-73e4-45fd-9af1-360b6aa13682",
   "metadata": {},
   "outputs": [
    {
     "name": "stdout",
     "output_type": "stream",
     "text": [
      "{}\n"
     ]
    },
    {
     "data": {
      "text/plain": [
       "0"
      ]
     },
     "execution_count": 16,
     "metadata": {},
     "output_type": "execute_result"
    }
   ],
   "source": [
    "b = {}\n",
    "print(b)\n",
    "len(b)"
   ]
  },
  {
   "cell_type": "code",
   "execution_count": 24,
   "id": "ac530944-177f-444b-8959-bde4170e9b3d",
   "metadata": {},
   "outputs": [
    {
     "data": {
      "text/plain": [
       "{'apple': 4, 'banana': 12, 'cherry': 10}"
      ]
     },
     "execution_count": 24,
     "metadata": {},
     "output_type": "execute_result"
    }
   ],
   "source": [
    "fruits_dict"
   ]
  },
  {
   "cell_type": "code",
   "execution_count": 28,
   "id": "b859f403-5646-40a9-a3c9-7cd92ecad6b9",
   "metadata": {},
   "outputs": [],
   "source": [
    "items = fruits_dict.items()"
   ]
  },
  {
   "cell_type": "code",
   "execution_count": 29,
   "id": "08c25630-c708-4075-ac47-5951d5ddf218",
   "metadata": {},
   "outputs": [
    {
     "name": "stdout",
     "output_type": "stream",
     "text": [
      "('apple', 4)\n",
      "<class 'tuple'>\n",
      "('banana', 12)\n",
      "<class 'tuple'>\n",
      "('cherry', 10)\n",
      "<class 'tuple'>\n"
     ]
    }
   ],
   "source": [
    "for item in items:\n",
    "    print(item)\n",
    "    print(type(item))"
   ]
  },
  {
   "cell_type": "code",
   "execution_count": 37,
   "id": "8d270089-2fb1-4019-9b86-f2b36def0e2c",
   "metadata": {},
   "outputs": [],
   "source": [
    "a = (1, 2, 3, 4, 5, 5, 5, 5) #tuple of size 8"
   ]
  },
  {
   "cell_type": "code",
   "execution_count": 38,
   "id": "8296b409-5dc3-4c84-887a-6fd3e915872c",
   "metadata": {},
   "outputs": [
    {
     "data": {
      "text/plain": [
       "tuple"
      ]
     },
     "execution_count": 38,
     "metadata": {},
     "output_type": "execute_result"
    }
   ],
   "source": [
    "type(a)"
   ]
  },
  {
   "cell_type": "code",
   "execution_count": 39,
   "id": "2e397bb2-abd3-4a44-a959-bbf15ef100e8",
   "metadata": {},
   "outputs": [
    {
     "data": {
      "text/plain": [
       "4"
      ]
     },
     "execution_count": 39,
     "metadata": {},
     "output_type": "execute_result"
    }
   ],
   "source": [
    "a.count(5)"
   ]
  },
  {
   "cell_type": "code",
   "execution_count": 40,
   "id": "1a0c1e21-01d1-463c-8b43-d4feccfad9b8",
   "metadata": {
    "collapsed": true,
    "jupyter": {
     "outputs_hidden": true
    }
   },
   "outputs": [
    {
     "data": {
      "text/plain": [
       "8"
      ]
     },
     "execution_count": 40,
     "metadata": {},
     "output_type": "execute_result"
    }
   ],
   "source": [
    "len(a)"
   ]
  },
  {
   "cell_type": "code",
   "execution_count": 42,
   "id": "551b10b8-af4d-41e5-9ce8-4bcfc238dad8",
   "metadata": {},
   "outputs": [
    {
     "data": {
      "text/plain": [
       "1"
      ]
     },
     "execution_count": 42,
     "metadata": {},
     "output_type": "execute_result"
    }
   ],
   "source": [
    "a[0]"
   ]
  },
  {
   "cell_type": "code",
   "execution_count": 43,
   "id": "6ec6830b-aae8-4e14-990c-c6c270f7d6c9",
   "metadata": {},
   "outputs": [
    {
     "data": {
      "text/plain": [
       "2"
      ]
     },
     "execution_count": 43,
     "metadata": {},
     "output_type": "execute_result"
    }
   ],
   "source": [
    "a[1]"
   ]
  },
  {
   "cell_type": "code",
   "execution_count": 46,
   "id": "464d3b0a-906d-4e09-8351-e3decafbda90",
   "metadata": {},
   "outputs": [
    {
     "data": {
      "text/plain": [
       "('apple', 4)"
      ]
     },
     "execution_count": 46,
     "metadata": {},
     "output_type": "execute_result"
    }
   ],
   "source": [
    "(\"apple\",4)"
   ]
  },
  {
   "cell_type": "code",
   "execution_count": 45,
   "id": "b1b9ae03-e507-4543-9312-63b98be5c658",
   "metadata": {},
   "outputs": [],
   "source": [
    "fruits_dict = {\"apple\":4, \"banana\":12, \"cherry\":10}"
   ]
  },
  {
   "cell_type": "code",
   "execution_count": 49,
   "id": "781ce337-9362-4d9f-afa3-b5fc3f20b1f8",
   "metadata": {},
   "outputs": [
    {
     "name": "stdout",
     "output_type": "stream",
     "text": [
      "apple\n",
      "4\n",
      "banana\n",
      "12\n",
      "cherry\n",
      "10\n"
     ]
    }
   ],
   "source": [
    "for item in fruits_dict.items():\n",
    "    print(item[0])\n",
    "    print(item[1])"
   ]
  },
  {
   "cell_type": "code",
   "execution_count": 50,
   "id": "876e3cee-a3b9-4f54-a1d8-f217f244361f",
   "metadata": {},
   "outputs": [
    {
     "data": {
      "text/plain": [
       "4"
      ]
     },
     "execution_count": 50,
     "metadata": {},
     "output_type": "execute_result"
    }
   ],
   "source": [
    "# How many apples are present\n",
    "fruits_dict[\"apple\"]"
   ]
  },
  {
   "cell_type": "code",
   "execution_count": 56,
   "id": "2dafbe7e-5023-4b59-a3b7-2756a4efce5e",
   "metadata": {
    "scrolled": true
   },
   "outputs": [
    {
     "name": "stdout",
     "output_type": "stream",
     "text": [
      "Banana count is greater than cherry count\n"
     ]
    }
   ],
   "source": [
    "# more bananas or cherries\n",
    "fruits_dict = {\"apple\":4, \"banana\":12, \"cherry\":10}\n",
    "\n",
    "b_count = fruits_dict[\"banana\"]\n",
    "c_count = fruits_dict[\"cherry\"]\n",
    "\n",
    "if(b_count > c_count):\n",
    "    print(f\"Banana count is greater than cherry count\")\n",
    "elif(b_count < c_count):\n",
    "    print(f\"Banana count is less than cherry count\")\n",
    "else:\n",
    "    print(f\"Banana count is equal than cherry count\")"
   ]
  },
  {
   "cell_type": "code",
   "execution_count": 57,
   "id": "4269fa15-6771-4b55-b3b9-52fd95342068",
   "metadata": {},
   "outputs": [],
   "source": [
    "fruits_dict = {\"apple\":4, \"banana\":12, \"cherry\":10}"
   ]
  },
  {
   "cell_type": "code",
   "execution_count": 58,
   "id": "bf96a022-3cae-403c-9e81-aa990686fda3",
   "metadata": {},
   "outputs": [],
   "source": [
    "new_item = {\"kiwi\": 4}"
   ]
  },
  {
   "cell_type": "code",
   "execution_count": 59,
   "id": "66c53298-2082-4772-8faf-5cd8fdb21cb2",
   "metadata": {},
   "outputs": [],
   "source": [
    "fruits_dict.update(new_item)"
   ]
  },
  {
   "cell_type": "code",
   "execution_count": 61,
   "id": "f76582b4-bda8-4559-b893-27f239d319da",
   "metadata": {},
   "outputs": [
    {
     "data": {
      "text/plain": [
       "{'apple': 4, 'banana': 12, 'cherry': 10, 'kiwi': 4}"
      ]
     },
     "execution_count": 61,
     "metadata": {},
     "output_type": "execute_result"
    }
   ],
   "source": [
    "fruits_dict"
   ]
  },
  {
   "cell_type": "code",
   "execution_count": null,
   "id": "e5219232-261c-4cc4-8f66-0a9c03ff73a5",
   "metadata": {},
   "outputs": [],
   "source": [
    "# which fruits are having same values or same no of fruits\n",
    "# homework "
   ]
  },
  {
   "cell_type": "code",
   "execution_count": 62,
   "id": "497796fd-668a-4337-af41-7d6e57d9b24f",
   "metadata": {},
   "outputs": [
    {
     "ename": "TypeError",
     "evalue": "pop expected at least 1 argument, got 0",
     "output_type": "error",
     "traceback": [
      "\u001b[31m---------------------------------------------------------------------------\u001b[39m",
      "\u001b[31mTypeError\u001b[39m                                 Traceback (most recent call last)",
      "\u001b[36mCell\u001b[39m\u001b[36m \u001b[39m\u001b[32mIn[62]\u001b[39m\u001b[32m, line 1\u001b[39m\n\u001b[32m----> \u001b[39m\u001b[32m1\u001b[39m \u001b[43mfruits_dict\u001b[49m\u001b[43m.\u001b[49m\u001b[43mpop\u001b[49m\u001b[43m(\u001b[49m\u001b[43m)\u001b[49m\n",
      "\u001b[31mTypeError\u001b[39m: pop expected at least 1 argument, got 0"
     ]
    }
   ],
   "source": [
    "fruits_dict.pop()"
   ]
  },
  {
   "cell_type": "code",
   "execution_count": 63,
   "id": "7e4154e6-c96d-4feb-b8e5-8df35c69ff40",
   "metadata": {},
   "outputs": [
    {
     "data": {
      "text/plain": [
       "('kiwi', 4)"
      ]
     },
     "execution_count": 63,
     "metadata": {},
     "output_type": "execute_result"
    }
   ],
   "source": [
    "fruits_dict.popitem()"
   ]
  },
  {
   "cell_type": "code",
   "execution_count": 64,
   "id": "add0f75e-4124-46e9-a518-ca5ef073d733",
   "metadata": {},
   "outputs": [
    {
     "data": {
      "text/plain": [
       "('cherry', 10)"
      ]
     },
     "execution_count": 64,
     "metadata": {},
     "output_type": "execute_result"
    }
   ],
   "source": [
    "fruits_dict.popitem()"
   ]
  },
  {
   "cell_type": "code",
   "execution_count": 65,
   "id": "1b57f4c3-e925-4421-8c4c-921d46c515df",
   "metadata": {},
   "outputs": [
    {
     "data": {
      "text/plain": [
       "('banana', 12)"
      ]
     },
     "execution_count": 65,
     "metadata": {},
     "output_type": "execute_result"
    }
   ],
   "source": [
    "fruits_dict.popitem()"
   ]
  },
  {
   "cell_type": "code",
   "execution_count": 66,
   "id": "7e5f1c67-8171-4102-be49-b1a00aa5e30f",
   "metadata": {},
   "outputs": [
    {
     "data": {
      "text/plain": [
       "('apple', 4)"
      ]
     },
     "execution_count": 66,
     "metadata": {},
     "output_type": "execute_result"
    }
   ],
   "source": [
    "fruits_dict.popitem()"
   ]
  },
  {
   "cell_type": "code",
   "execution_count": 67,
   "id": "5a6625f4-5413-4202-8732-aa77c51db71d",
   "metadata": {},
   "outputs": [
    {
     "ename": "KeyError",
     "evalue": "'popitem(): dictionary is empty'",
     "output_type": "error",
     "traceback": [
      "\u001b[31m---------------------------------------------------------------------------\u001b[39m",
      "\u001b[31mKeyError\u001b[39m                                  Traceback (most recent call last)",
      "\u001b[36mCell\u001b[39m\u001b[36m \u001b[39m\u001b[32mIn[67]\u001b[39m\u001b[32m, line 1\u001b[39m\n\u001b[32m----> \u001b[39m\u001b[32m1\u001b[39m \u001b[43mfruits_dict\u001b[49m\u001b[43m.\u001b[49m\u001b[43mpopitem\u001b[49m\u001b[43m(\u001b[49m\u001b[43m)\u001b[49m\n",
      "\u001b[31mKeyError\u001b[39m: 'popitem(): dictionary is empty'"
     ]
    }
   ],
   "source": [
    "fruits_dict.popitem()"
   ]
  },
  {
   "cell_type": "code",
   "execution_count": 68,
   "id": "f98b355e-41e4-48e4-9eac-454707b9fc92",
   "metadata": {},
   "outputs": [],
   "source": [
    "fruits_dict = {'apple': 4, 'banana': 12, 'cherry': 10, 'kiwi': 4}"
   ]
  },
  {
   "cell_type": "code",
   "execution_count": 70,
   "id": "b2212616-f5c8-475b-8811-24236f6a1d7c",
   "metadata": {},
   "outputs": [
    {
     "data": {
      "text/plain": [
       "10"
      ]
     },
     "execution_count": 70,
     "metadata": {},
     "output_type": "execute_result"
    }
   ],
   "source": [
    "fruits_dict.pop('cherry')"
   ]
  },
  {
   "cell_type": "code",
   "execution_count": 71,
   "id": "2d88c911-53cc-4a2b-a815-cc6037555bea",
   "metadata": {},
   "outputs": [
    {
     "data": {
      "text/plain": [
       "{'apple': 4, 'banana': 12, 'kiwi': 4}"
      ]
     },
     "execution_count": 71,
     "metadata": {},
     "output_type": "execute_result"
    }
   ],
   "source": [
    "fruits_dict"
   ]
  },
  {
   "cell_type": "code",
   "execution_count": 72,
   "id": "48b34d2b-c1d3-4994-8e00-4ec0a8677706",
   "metadata": {},
   "outputs": [
    {
     "data": {
      "text/plain": [
       "4"
      ]
     },
     "execution_count": 72,
     "metadata": {},
     "output_type": "execute_result"
    }
   ],
   "source": [
    "fruits_dict.pop('apple')"
   ]
  },
  {
   "cell_type": "code",
   "execution_count": 73,
   "id": "252b2421-6759-4e7d-a9cd-091f7735db11",
   "metadata": {},
   "outputs": [
    {
     "data": {
      "text/plain": [
       "{'banana': 12, 'kiwi': 4}"
      ]
     },
     "execution_count": 73,
     "metadata": {},
     "output_type": "execute_result"
    }
   ],
   "source": [
    "fruits_dict"
   ]
  },
  {
   "cell_type": "code",
   "execution_count": 74,
   "id": "9ddae92f-5523-40e9-9af3-618d37cf206a",
   "metadata": {
    "scrolled": true
   },
   "outputs": [
    {
     "ename": "KeyError",
     "evalue": "'apple'",
     "output_type": "error",
     "traceback": [
      "\u001b[31m---------------------------------------------------------------------------\u001b[39m",
      "\u001b[31mKeyError\u001b[39m                                  Traceback (most recent call last)",
      "\u001b[36mCell\u001b[39m\u001b[36m \u001b[39m\u001b[32mIn[74]\u001b[39m\u001b[32m, line 1\u001b[39m\n\u001b[32m----> \u001b[39m\u001b[32m1\u001b[39m \u001b[43mfruits_dict\u001b[49m\u001b[43m.\u001b[49m\u001b[43mpop\u001b[49m\u001b[43m(\u001b[49m\u001b[33;43m'\u001b[39;49m\u001b[33;43mapple\u001b[39;49m\u001b[33;43m'\u001b[39;49m\u001b[43m)\u001b[49m\n",
      "\u001b[31mKeyError\u001b[39m: 'apple'"
     ]
    }
   ],
   "source": [
    "fruits_dict.pop('apple')"
   ]
  },
  {
   "cell_type": "code",
   "execution_count": 76,
   "id": "ca2f5fdd-3ac9-40e0-9851-98049b4a16ad",
   "metadata": {},
   "outputs": [
    {
     "data": {
      "text/plain": [
       "0"
      ]
     },
     "execution_count": 76,
     "metadata": {},
     "output_type": "execute_result"
    }
   ],
   "source": [
    "fruits_dict.pop('apple', 'Apple is not available')"
   ]
  },
  {
   "cell_type": "code",
   "execution_count": 77,
   "id": "6ccf9c02-ae8f-43df-adc4-c8161d091ec6",
   "metadata": {},
   "outputs": [
    {
     "data": {
      "text/plain": [
       "['apple', 'banana', 'cherry']"
      ]
     },
     "execution_count": 77,
     "metadata": {},
     "output_type": "execute_result"
    }
   ],
   "source": [
    "fruits_list"
   ]
  },
  {
   "cell_type": "code",
   "execution_count": 78,
   "id": "f31150f8-fe09-492d-b315-950d9c0dfb85",
   "metadata": {
    "jupyter": {
     "source_hidden": true
    }
   },
   "outputs": [
    {
     "data": {
      "text/plain": [
       "'cherry'"
      ]
     },
     "execution_count": 78,
     "metadata": {},
     "output_type": "execute_result"
    }
   ],
   "source": [
    "# fruits_list.pop() <-> fruits_dict.popitem()"
   ]
  },
  {
   "cell_type": "code",
   "execution_count": 79,
   "id": "fd7d3f59-c7b3-4957-a2c8-09d9d69097b5",
   "metadata": {},
   "outputs": [
    {
     "data": {
      "text/plain": [
       "'banana'"
      ]
     },
     "execution_count": 79,
     "metadata": {},
     "output_type": "execute_result"
    }
   ],
   "source": [
    "fruits_list.pop()"
   ]
  },
  {
   "cell_type": "code",
   "execution_count": 81,
   "id": "06312c5e-3935-47bc-869b-2b92e1b3df68",
   "metadata": {},
   "outputs": [
    {
     "data": {
      "text/plain": [
       "('kiwi', 4)"
      ]
     },
     "execution_count": 81,
     "metadata": {},
     "output_type": "execute_result"
    }
   ],
   "source": [
    "fruits_dict.popitem()"
   ]
  },
  {
   "cell_type": "code",
   "execution_count": 82,
   "id": "65ee0cb9-e252-4cbd-8f50-a8738408d327",
   "metadata": {},
   "outputs": [
    {
     "data": {
      "text/plain": [
       "{'banana': 12}"
      ]
     },
     "execution_count": 82,
     "metadata": {},
     "output_type": "execute_result"
    }
   ],
   "source": [
    "fruits_dict"
   ]
  },
  {
   "cell_type": "code",
   "execution_count": 83,
   "id": "7abd0b00-20ea-4242-b160-b69e6561dd3d",
   "metadata": {},
   "outputs": [],
   "source": [
    "fruits_dict.clear()"
   ]
  },
  {
   "cell_type": "code",
   "execution_count": 84,
   "id": "60e06ea6-5d72-430c-aabd-cfbb06945feb",
   "metadata": {},
   "outputs": [
    {
     "data": {
      "text/plain": [
       "{}"
      ]
     },
     "execution_count": 84,
     "metadata": {},
     "output_type": "execute_result"
    }
   ],
   "source": [
    "fruits_dict"
   ]
  },
  {
   "cell_type": "code",
   "execution_count": 85,
   "id": "95adb054-d4d7-47fb-b6f0-c2014ce28565",
   "metadata": {},
   "outputs": [],
   "source": [
    "fruits_dict = {'apple': 4, 'banana': 12, 'cherry': 10, 'kiwi': 4}"
   ]
  },
  {
   "cell_type": "code",
   "execution_count": 87,
   "id": "bd9d6e92-42bd-4e08-b58e-789c5606399c",
   "metadata": {},
   "outputs": [
    {
     "data": {
      "text/plain": [
       "4"
      ]
     },
     "execution_count": 87,
     "metadata": {},
     "output_type": "execute_result"
    }
   ],
   "source": [
    "fruits_dict['apple']"
   ]
  },
  {
   "cell_type": "code",
   "execution_count": 88,
   "id": "a7a10fe2-c442-4b91-a7b3-715369bcecc8",
   "metadata": {},
   "outputs": [
    {
     "data": {
      "text/plain": [
       "4"
      ]
     },
     "execution_count": 88,
     "metadata": {},
     "output_type": "execute_result"
    }
   ],
   "source": [
    "fruits_dict.get('apple')"
   ]
  },
  {
   "cell_type": "code",
   "execution_count": 90,
   "id": "0c4ae9c3-ccc7-462f-a320-871558f38d24",
   "metadata": {},
   "outputs": [
    {
     "name": "stdout",
     "output_type": "stream",
     "text": [
      "apple\n",
      "banana\n",
      "cherry\n",
      "kiwi\n"
     ]
    }
   ],
   "source": [
    "for key in fruits_dict.keys():\n",
    "    print(key)"
   ]
  },
  {
   "cell_type": "code",
   "execution_count": null,
   "id": "3fc4c73f-296f-429d-9407-9f2ab702c385",
   "metadata": {},
   "outputs": [],
   "source": []
  }
 ],
 "metadata": {
  "kernelspec": {
   "display_name": "Python 3 (ipykernel)",
   "language": "python",
   "name": "python3"
  },
  "language_info": {
   "codemirror_mode": {
    "name": "ipython",
    "version": 3
   },
   "file_extension": ".py",
   "mimetype": "text/x-python",
   "name": "python",
   "nbconvert_exporter": "python",
   "pygments_lexer": "ipython3",
   "version": "3.13.7"
  }
 },
 "nbformat": 4,
 "nbformat_minor": 5
}
