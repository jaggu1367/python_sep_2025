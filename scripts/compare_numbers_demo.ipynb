{
 "cells": [
  {
   "cell_type": "code",
   "execution_count": 1,
   "id": "15407025-7627-4c92-a329-2df41be78e23",
   "metadata": {},
   "outputs": [
    {
     "name": "stdout",
     "output_type": "stream",
     "text": [
      "Hi\n"
     ]
    }
   ],
   "source": [
    "print(\"Hi\")"
   ]
  },
  {
   "cell_type": "code",
   "execution_count": 2,
   "id": "da913509-66c1-4bc5-a536-5cf1c91d5009",
   "metadata": {},
   "outputs": [
    {
     "name": "stdout",
     "output_type": "stream",
     "text": [
      "wlecome to python jupyter notebook\n"
     ]
    }
   ],
   "source": [
    "print(\"wlecome to python notebook\")"
   ]
  },
  {
   "cell_type": "code",
   "execution_count": 4,
   "id": "8e31bf94-bbad-43ad-a5ae-8d1630e1b743",
   "metadata": {},
   "outputs": [
    {
     "name": "stdout",
     "output_type": "stream",
     "text": [
      "bye\n"
     ]
    }
   ],
   "source": [
    "print(\"bye\")"
   ]
  },
  {
   "cell_type": "code",
   "execution_count": 11,
   "id": "8db5c8b6-3f9e-4239-bf76-a919c9473ebe",
   "metadata": {},
   "outputs": [],
   "source": [
    "# define a and b\n",
    "# equals to = is an assignment operator\n",
    "a = 100\n",
    "b = 100"
   ]
  },
  {
   "cell_type": "code",
   "execution_count": 12,
   "id": "9763d155-a42e-40f5-b7d6-35c51d68f9f3",
   "metadata": {},
   "outputs": [
    {
     "data": {
      "text/plain": [
       "True"
      ]
     },
     "execution_count": 12,
     "metadata": {},
     "output_type": "execute_result"
    }
   ],
   "source": [
    "# comparison operator double equals to ==\n",
    "a == b"
   ]
  },
  {
   "cell_type": "code",
   "execution_count": 18,
   "id": "1599b310-ec22-43bc-b732-cf668aa38f50",
   "metadata": {},
   "outputs": [
    {
     "name": "stdout",
     "output_type": "stream",
     "text": [
      "100 is equal to 100\n"
     ]
    }
   ],
   "source": [
    "#compare a and b\n",
    "if (a == b):\n",
    "    print(f\"{a} is equal to {b}\")\n",
    "elif a<b:\n",
    "    print(f\"{a} is less than {b}\")\n",
    "else:\n",
    "    print(f\"{a} is greater to {b}\")"
   ]
  },
  {
   "cell_type": "code",
   "execution_count": 3,
   "id": "31f94dfc-4389-43b3-8b10-264c02e7dc8b",
   "metadata": {},
   "outputs": [],
   "source": [
    "c = 200\n",
    "d = 400"
   ]
  },
  {
   "cell_type": "code",
   "execution_count": 4,
   "id": "f4b2735f-19b2-4646-a727-5e7a9caaea2a",
   "metadata": {},
   "outputs": [
    {
     "name": "stdout",
     "output_type": "stream",
     "text": [
      "200 is less than 400\n"
     ]
    }
   ],
   "source": [
    "#compare c and d\n",
    "if c>d:\n",
    "    print(f\"{c} is greater than {d}\")\n",
    "elif c<d:\n",
    "    print(f\"{c} is less than {d}\")\n",
    "else:\n",
    "    print(f\"{c} is equal to {d}\")"
   ]
  },
  {
   "cell_type": "code",
   "execution_count": 11,
   "id": "a398e58f-e144-4282-9a36-0f40e885947f",
   "metadata": {},
   "outputs": [],
   "source": [
    "e = 1000\n",
    "f = 2000"
   ]
  },
  {
   "cell_type": "code",
   "execution_count": 23,
   "id": "239f2d22-d50e-4a5c-b1bf-84d12737a3b9",
   "metadata": {},
   "outputs": [],
   "source": [
    "# define a method to compare two numbers\n",
    "def compare(a,b):\n",
    "    #compare a and b\n",
    "    if a>b:\n",
    "        print(f\"{a} is greater than {b}\")\n",
    "    elif a<b:\n",
    "        print(f\"{a} is less than {b}\")\n",
    "    else:\n",
    "        print(f\"{a} is equal to {b}\")"
   ]
  },
  {
   "cell_type": "code",
   "execution_count": 20,
   "id": "42f9b700-21f7-4fa6-9f66-ab8c78c436c9",
   "metadata": {},
   "outputs": [
    {
     "name": "stdout",
     "output_type": "stream",
     "text": [
      "100 is equal to 100\n"
     ]
    }
   ],
   "source": [
    "compare(a,b)"
   ]
  },
  {
   "cell_type": "code",
   "execution_count": 25,
   "id": "14065150-3efd-481e-8cb7-39998e0530a3",
   "metadata": {},
   "outputs": [
    {
     "name": "stdout",
     "output_type": "stream",
     "text": [
      "200 is less than 300\n"
     ]
    }
   ],
   "source": [
    "compare(200,300)"
   ]
  },
  {
   "cell_type": "code",
   "execution_count": 28,
   "id": "9adc4d00-76e2-4c80-8553-87422093dd97",
   "metadata": {},
   "outputs": [],
   "source": [
    "e = 1000\n",
    "f = 2000"
   ]
  },
  {
   "cell_type": "code",
   "execution_count": 29,
   "id": "8be6c100-ff14-4ab0-84dc-9715132a7773",
   "metadata": {},
   "outputs": [
    {
     "name": "stdout",
     "output_type": "stream",
     "text": [
      "1000 is less than 2000\n"
     ]
    }
   ],
   "source": [
    "compare(e,f)"
   ]
  }
 ],
 "metadata": {
  "kernelspec": {
   "display_name": "Python 3 (ipykernel)",
   "language": "python",
   "name": "python3"
  },
  "language_info": {
   "codemirror_mode": {
    "name": "ipython",
    "version": 3
   },
   "file_extension": ".py",
   "mimetype": "text/x-python",
   "name": "python",
   "nbconvert_exporter": "python",
   "pygments_lexer": "ipython3",
   "version": "3.13.7"
  }
 },
 "nbformat": 4,
 "nbformat_minor": 5
}
