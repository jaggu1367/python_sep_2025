{
 "cells": [
  {
   "cell_type": "code",
   "execution_count": 3,
   "id": "b297dc8c-8568-4177-b9c7-47076b0f6a57",
   "metadata": {},
   "outputs": [],
   "source": [
    "msg = \"Hi Geeta, I have called you n times\""
   ]
  },
  {
   "cell_type": "code",
   "execution_count": 4,
   "id": "69ad9f2d-9f9c-46ec-b4d9-1b4c7ed441df",
   "metadata": {},
   "outputs": [
    {
     "name": "stdout",
     "output_type": "stream",
     "text": [
      "Hi Geeta, I have called you n times\n"
     ]
    }
   ],
   "source": [
    "print(msg)"
   ]
  },
  {
   "cell_type": "code",
   "execution_count": 5,
   "id": "a6158ab7-8cb9-4def-a9ad-ed503d64c858",
   "metadata": {},
   "outputs": [],
   "source": [
    "n = 100"
   ]
  },
  {
   "cell_type": "code",
   "execution_count": 6,
   "id": "34546724-ab46-4295-acff-754699deb6cb",
   "metadata": {},
   "outputs": [
    {
     "name": "stdout",
     "output_type": "stream",
     "text": [
      "Hi Geeta, I have called you n times\n"
     ]
    }
   ],
   "source": [
    "print(msg)"
   ]
  },
  {
   "cell_type": "code",
   "execution_count": 8,
   "id": "2e34e524-4a9c-439e-b712-0a767959c85d",
   "metadata": {},
   "outputs": [],
   "source": [
    "msg = \"Hi Geeta, I have called you {n} times\""
   ]
  },
  {
   "cell_type": "code",
   "execution_count": 9,
   "id": "437becba-59bc-4154-93e9-9005cd6b2dad",
   "metadata": {},
   "outputs": [
    {
     "name": "stdout",
     "output_type": "stream",
     "text": [
      "Hi Geeta, I have called you {n} times\n"
     ]
    }
   ],
   "source": [
    "print(msg)"
   ]
  },
  {
   "cell_type": "code",
   "execution_count": 10,
   "id": "96699a34-3316-4ef7-9b61-099fe178498f",
   "metadata": {},
   "outputs": [
    {
     "name": "stdout",
     "output_type": "stream",
     "text": [
      "Hi Geeta, I have called you 100 times\n"
     ]
    }
   ],
   "source": [
    "msg = f\"Hi Geeta, I have called you {n} times\"\n",
    "print(msg)"
   ]
  }
 ],
 "metadata": {
  "kernelspec": {
   "display_name": "Python 3 (ipykernel)",
   "language": "python",
   "name": "python3"
  },
  "language_info": {
   "codemirror_mode": {
    "name": "ipython",
    "version": 3
   },
   "file_extension": ".py",
   "mimetype": "text/x-python",
   "name": "python",
   "nbconvert_exporter": "python",
   "pygments_lexer": "ipython3",
   "version": "3.13.7"
  }
 },
 "nbformat": 4,
 "nbformat_minor": 5
}
