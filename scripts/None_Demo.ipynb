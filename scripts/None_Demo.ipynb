{
 "cells": [
  {
   "cell_type": "code",
   "execution_count": 19,
   "id": "009abf35-d0a1-4fec-848f-3f686fd80c55",
   "metadata": {},
   "outputs": [],
   "source": [
    "def sum(a, b):\n",
    "    c = a+b"
   ]
  },
  {
   "cell_type": "code",
   "execution_count": 20,
   "id": "07b0e897-b9d7-41f4-831c-0d72114c55b2",
   "metadata": {},
   "outputs": [
    {
     "name": "stdout",
     "output_type": "stream",
     "text": [
      "None\n"
     ]
    }
   ],
   "source": [
    "res = sum(10, 20)\n",
    "print(res)"
   ]
  },
  {
   "cell_type": "code",
   "execution_count": 29,
   "id": "0f528c88-03c6-423e-a82e-ea172f4c441f",
   "metadata": {},
   "outputs": [],
   "source": [
    "def sum(a, b):\n",
    "    c = a+b\n",
    "    print(c)"
   ]
  },
  {
   "cell_type": "code",
   "execution_count": 30,
   "id": "82ca6f72-f675-4c0a-92b7-df087032f87a",
   "metadata": {},
   "outputs": [
    {
     "name": "stdout",
     "output_type": "stream",
     "text": [
      "30\n",
      "None\n"
     ]
    }
   ],
   "source": [
    "res = sum(10,20)\n",
    "print(res)"
   ]
  },
  {
   "cell_type": "code",
   "execution_count": 31,
   "id": "fd1a6d47-b956-4a45-89c4-6921d76611f0",
   "metadata": {},
   "outputs": [],
   "source": [
    "def sum(a, b):\n",
    "    c = a+b\n",
    "    print(c)\n",
    "    return c"
   ]
  },
  {
   "cell_type": "code",
   "execution_count": 32,
   "id": "9ac2ca8e-0a21-4875-a752-95d1ebceefa8",
   "metadata": {},
   "outputs": [
    {
     "name": "stdout",
     "output_type": "stream",
     "text": [
      "30\n",
      "30\n"
     ]
    }
   ],
   "source": [
    "res = sum(10,20)\n",
    "print(res)"
   ]
  },
  {
   "cell_type": "code",
   "execution_count": 33,
   "id": "27e3696b-b288-4505-b100-4d16108ad66f",
   "metadata": {},
   "outputs": [],
   "source": [
    "def sum(a, b):\n",
    "    c = a+b\n",
    "    return c"
   ]
  },
  {
   "cell_type": "code",
   "execution_count": 34,
   "id": "2d8b2189-d337-427f-9bc7-853e60da5995",
   "metadata": {},
   "outputs": [
    {
     "name": "stdout",
     "output_type": "stream",
     "text": [
      "30\n"
     ]
    }
   ],
   "source": [
    "res = sum(10,20)\n",
    "print(res)"
   ]
  }
 ],
 "metadata": {
  "kernelspec": {
   "display_name": "Python 3 (ipykernel)",
   "language": "python",
   "name": "python3"
  },
  "language_info": {
   "codemirror_mode": {
    "name": "ipython",
    "version": 3
   },
   "file_extension": ".py",
   "mimetype": "text/x-python",
   "name": "python",
   "nbconvert_exporter": "python",
   "pygments_lexer": "ipython3",
   "version": "3.13.7"
  }
 },
 "nbformat": 4,
 "nbformat_minor": 5
}
